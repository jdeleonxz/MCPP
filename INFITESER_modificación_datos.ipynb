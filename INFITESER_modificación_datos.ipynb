{
 "cells": [
  {
   "attachments": {},
   "cell_type": "markdown",
   "metadata": {},
   "source": [
    "## Notebook para modificar los datos del excel del registro de encuestas\n",
    "### Proyecto de caracterización de conductores de servicio público"
   ]
  },
  {
   "cell_type": "code",
   "execution_count": 1,
   "metadata": {},
   "outputs": [],
   "source": [
    "import pandas"
   ]
  },
  {
   "cell_type": "code",
   "execution_count": 2,
   "metadata": {},
   "outputs": [],
   "source": [
    "encuestas = pandas.read_excel(\"Registros Encuestas (1).xlsx\")\n",
    "lic_hogares = pandas.read_excel('licencias a revisar.xlsx')"
   ]
  },
  {
   "attachments": {},
   "cell_type": "markdown",
   "metadata": {},
   "source": [
    "#### Encuestas en hogares mal marcadas"
   ]
  },
  {
   "cell_type": "code",
   "execution_count": 3,
   "metadata": {},
   "outputs": [
    {
     "name": "stderr",
     "output_type": "stream",
     "text": [
      "C:\\Users\\Jorge De León\\AppData\\Local\\Temp\\ipykernel_22376\\272962222.py:6: SettingWithCopyWarning: \n",
      "A value is trying to be set on a copy of a slice from a DataFrame\n",
      "\n",
      "See the caveats in the documentation: https://pandas.pydata.org/pandas-docs/stable/user_guide/indexing.html#returning-a-view-versus-a-copy\n",
      "  encuestas['Lugar de Aplicación de la Encuesta'][i] = 'Lugar de residencia habitual de los conductores'\n"
     ]
    },
    {
     "name": "stdout",
     "output_type": "stream",
     "text": [
      "142\n"
     ]
    }
   ],
   "source": [
    "filas = len(encuestas.index)\n",
    "x = 0\n",
    "pasajeros_lic = list(lic_hogares['LC revisar hogares'])\n",
    "for i in range(filas):\n",
    "    if encuestas.iloc[i, 22] in pasajeros_lic:\n",
    "        encuestas['Lugar de Aplicación de la Encuesta'][i] = 'Lugar de residencia habitual de los conductores'\n",
    "        x = x +1\n",
    "print(x)        \n"
   ]
  },
  {
   "attachments": {},
   "cell_type": "markdown",
   "metadata": {},
   "source": [
    "#### Encuestas de tipo de transporte mal marcadas como Otros"
   ]
  },
  {
   "cell_type": "code",
   "execution_count": 4,
   "metadata": {},
   "outputs": [
    {
     "name": "stdout",
     "output_type": "stream",
     "text": [
      "12604\n"
     ]
    }
   ],
   "source": [
    "carga_lic = list(lic_hogares['LC carga'])\n",
    "y = 0\n",
    "for i in range(filas):\n",
    "    if encuestas.iloc[i, 22] in carga_lic:\n",
    "        encuestas.iloc[i,31] = 'Transporte de carga'\n",
    "    elif encuestas.iloc[i, 31] == 'Otro':\n",
    "        encuestas.iloc[i,31] = 'pasajeros'\n",
    "    y = y+1\n",
    "\n",
    "print(y)"
   ]
  },
  {
   "attachments": {},
   "cell_type": "markdown",
   "metadata": {},
   "source": [
    "#### Guardamos el excel"
   ]
  },
  {
   "cell_type": "code",
   "execution_count": 6,
   "metadata": {},
   "outputs": [],
   "source": [
    "encuestas.to_excel(\"Registros Encuestas (1).xlsx\", index=False)"
   ]
  }
 ],
 "metadata": {
  "kernelspec": {
   "display_name": "Python 3",
   "language": "python",
   "name": "python3"
  },
  "language_info": {
   "codemirror_mode": {
    "name": "ipython",
    "version": 3
   },
   "file_extension": ".py",
   "mimetype": "text/x-python",
   "name": "python",
   "nbconvert_exporter": "python",
   "pygments_lexer": "ipython3",
   "version": "3.10.4"
  },
  "orig_nbformat": 4,
  "vscode": {
   "interpreter": {
    "hash": "be3b2a8aac26c42044c9d23f04a79af7af72d0de392e42af99ddd24cb8435e3b"
   }
  }
 },
 "nbformat": 4,
 "nbformat_minor": 2
}
