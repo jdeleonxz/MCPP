{
 "cells": [
  {
   "cell_type": "markdown",
   "metadata": {},
   "source": [
    "# Taller 3 - Pandas"
   ]
  },
  {
   "cell_type": "markdown",
   "metadata": {},
   "source": [
    "**Métodos computacionales para las políticas públicas** <br> \n",
    "_Universidad del Rosario_ 2023-I"
   ]
  },
  {
   "cell_type": "markdown",
   "metadata": {},
   "source": [
    "**Nombre**: ________ <br>\n",
    "**Correo electrónico**: ________ <br>\n",
    "***\n",
    "<h3><center> Instrucciones </center></h3>\n",
    "\n",
    "- Complete con su nombre completo y el correo electrónico.\n",
    "- Guárdelo con el formato: _apellidos\\_nombre\\_TallerN. Donde N hace referencia al número del taller.\n",
    "- En el caso de que la respuesta sea un texto, se indicará con la palabra Respuesta en formato texto, en cuyo caso el formato a utilizar será Markdown. En caso contrario el formato a utilizar será Code y será señalizado con `# Respuesta`. Si fuera necesario hacer alguna aclaración en este último formato, se hará con comentario en el código.\n",
    "- Con el objetivo de crear una buena práctica en la creación del código, cuando la respuesta sea código, explicar **cada línea** del mismo en un comentario corto pero explicativo.\n",
    "- Una vez finalizada la actividad suba a e-aulas este _Jupyter Notebook_ solucionado.\n",
    "- El taller debe ser subido tanto en formato `.ipynb` como `.pdf`.\n",
    "- Los talleres se realizan de forma <b>individual</b>. En caso de haber dos o más talleres con el mismo contenido, será considerado como <b><i>plagio</i></b>.\n",
    "- Fecha límite de entrega: viernes 17 de marzo a las 11:59 pm.\n",
    "***"
   ]
  },
  {
   "cell_type": "markdown",
   "metadata": {},
   "source": [
    "***\n",
    "**Ejercicio 1.** En su trabajo diario en el Departamento de Planeación de la entidad en la que trabaja, usted debe almacenar información sobre el nombre de cada municipio y el número de becas que le va a asignar a sus habitantes. Dado que son datos de acceso público, es importante garantizar que dichos datos sean inmodificables.\n",
    "\n",
    "**Por lo anterior, usted tiene que elegir guardarlo en una estructura de datos que dificulte su manipulación una vez usted obtiene el nombre de cada municipio y la cantidad de becas asignadas respectivamente. ¿Qué estructura elegiría y por qué?**"
   ]
  },
  {
   "cell_type": "markdown",
   "metadata": {},
   "source": [
    "Respuesta [Texto]\n",
    "***"
   ]
  },
  {
   "cell_type": "markdown",
   "metadata": {},
   "source": [
    "**Ejercicio 2.** Importar los datos y hacer las primeras tablas descriptivas."
   ]
  },
  {
   "cell_type": "code",
   "execution_count": null,
   "metadata": {},
   "outputs": [],
   "source": [
    "# Import libraries\n",
    "import pandas as pd\n",
    "import matplotlib.pyplot as plt\n",
    "import numpy as np"
   ]
  },
  {
   "cell_type": "markdown",
   "metadata": {},
   "source": [
    "a) En el siguiente [link](https://ourworldindata.org/grapher/gender-wage-gap-vs-gdp-per-capita), descargue los datos `gender-wage-gap-vs-gdp-per-capita.csv` y cárguelos en una variable que se denomine `data`."
   ]
  },
  {
   "cell_type": "code",
   "execution_count": null,
   "metadata": {},
   "outputs": [],
   "source": [
    "# Respuesta"
   ]
  },
  {
   "cell_type": "markdown",
   "metadata": {},
   "source": [
    "b) Haga un resumen de las 5 primeras filas del dataframe y, una vez realizado, saque las principales estadíticas descriptivas</font> para cada variable numérica."
   ]
  },
  {
   "cell_type": "code",
   "execution_count": null,
   "metadata": {
    "scrolled": true
   },
   "outputs": [],
   "source": [
    "# Respuesta"
   ]
  },
  {
   "cell_type": "markdown",
   "metadata": {},
   "source": [
    "c) Extraiga los nombres de las columnas en formato lista y guárdelos en la variable `data_columns`. Además, compruebe si hay alguna variable que represente el GDP nominal dentro de la lista."
   ]
  },
  {
   "cell_type": "code",
   "execution_count": null,
   "metadata": {},
   "outputs": [],
   "source": [
    "# Respuesta"
   ]
  },
  {
   "cell_type": "markdown",
   "metadata": {},
   "source": [
    "**Ejercicio 3.** Adaptar los datos para facilitar su uso.\n",
    "\n",
    "a) Genere una lista de las variables de interés para el primer análisis (Code, Year, Gender wage gap, GDP per capita) utilizando la lista `data_columns` creada previamente y guárdela en `interest_columns`."
   ]
  },
  {
   "cell_type": "code",
   "execution_count": null,
   "metadata": {},
   "outputs": [],
   "source": [
    "# Respuesta"
   ]
  },
  {
   "cell_type": "markdown",
   "metadata": {},
   "source": [
    "b) Filtre el dataframe para que sólo queden las variables `interest_columns`. y guarde ese resultado en una variable que se llame `gender_gap`."
   ]
  },
  {
   "cell_type": "code",
   "execution_count": null,
   "metadata": {},
   "outputs": [],
   "source": [
    "# Respuesta"
   ]
  },
  {
   "cell_type": "markdown",
   "metadata": {},
   "source": [
    "c) Cambie el nombre de las variables a \"CountryName\", \"Code\", \"Year\", \"GenderGap\", \"GDPpc\", \"Population\", \"Continent\" respectivamente, luego imprima las 5 primeras filas de su dataframe con los nombres de las variables ajustadas."
   ]
  },
  {
   "cell_type": "code",
   "execution_count": null,
   "metadata": {},
   "outputs": [],
   "source": [
    "# Respuesta"
   ]
  },
  {
   "cell_type": "markdown",
   "metadata": {},
   "source": [
    "d) Calcular:\n",
    "\n",
    "        1. El primer año disponible con un mensaje que diga \"El primer año disponible es:\"\n",
    "        \n",
    "        \n",
    "        2. El año más reciente con un mensaje que diga \"El año más reciente es: \".\n",
    "        \n",
    "        \n",
    "        3. El Gender Gap más alto del dataframe."
   ]
  },
  {
   "cell_type": "code",
   "execution_count": null,
   "metadata": {
    "scrolled": false
   },
   "outputs": [],
   "source": [
    "# Respuesta"
   ]
  },
  {
   "cell_type": "markdown",
   "metadata": {},
   "source": [
    "Describa brevemente si encuentra alguna inconsistencia en los datos de su dataframe (e.g. missing values, NaNs, outliers, etc...)\n",
    "\n",
    "Respuesta [Texto]\n",
    "***"
   ]
  },
  {
   "cell_type": "markdown",
   "metadata": {},
   "source": [
    "**Ejercicio 4.**"
   ]
  },
  {
   "cell_type": "markdown",
   "metadata": {},
   "source": [
    "a) Para hacer un estudio más reciente, filtre los datos del año 2000 al último año disponible. Guárdelo en la misma variable `gender_gap`."
   ]
  },
  {
   "cell_type": "code",
   "execution_count": null,
   "metadata": {},
   "outputs": [],
   "source": [
    "# Respuesta"
   ]
  },
  {
   "cell_type": "markdown",
   "metadata": {},
   "source": [
    "b) Realice un scatter plot donde la `x` sea el GDPpc y la `y` sea el Gender Gap. Ponga etiquetas descriptivas en los dos ejes. "
   ]
  },
  {
   "cell_type": "code",
   "execution_count": null,
   "metadata": {},
   "outputs": [],
   "source": [
    "# Respuesta"
   ]
  },
  {
   "cell_type": "markdown",
   "metadata": {},
   "source": [
    "c) ¿Qué puede inferir con respecto a los resultados de la gráfica?"
   ]
  },
  {
   "cell_type": "markdown",
   "metadata": {},
   "source": [
    "Respuesta [Texto]\n",
    "***"
   ]
  },
  {
   "cell_type": "markdown",
   "metadata": {},
   "source": [
    "d) Importe la carpeta `regional_codes.csv` que se encuentra en e-aulas y almacénela en una variable que se llame `codes`, luego imprima las 5 primeras filas para conocer qué datos trae."
   ]
  },
  {
   "cell_type": "code",
   "execution_count": null,
   "metadata": {},
   "outputs": [],
   "source": [
    "# Respuesta"
   ]
  },
  {
   "cell_type": "markdown",
   "metadata": {},
   "source": [
    "e) Filtre el dataframe para que sólo queden las columnas alpha-3, region y subregión y guárdelo en la misma variable. Por último, cambie los nombres de las columnas por \"Code\", \"region\" y \"subregion\" respectivamente."
   ]
  },
  {
   "cell_type": "code",
   "execution_count": null,
   "metadata": {},
   "outputs": [],
   "source": [
    "# Respuesta"
   ]
  },
  {
   "cell_type": "markdown",
   "metadata": {},
   "source": [
    "**Ejercicio 5.** Unir datasets, limpiar y graficar."
   ]
  },
  {
   "cell_type": "markdown",
   "metadata": {},
   "source": [
    "a) Haga una unión `inner` de los datos de `gender_gap`y `code`a través de la(s) variable(s) que considere."
   ]
  },
  {
   "cell_type": "code",
   "execution_count": null,
   "metadata": {},
   "outputs": [],
   "source": [
    "# Respuesta"
   ]
  },
  {
   "cell_type": "markdown",
   "metadata": {},
   "source": [
    "b) Elimine todas aquellas filas que no tengan valores en Gender Gap."
   ]
  },
  {
   "cell_type": "code",
   "execution_count": null,
   "metadata": {
    "scrolled": true
   },
   "outputs": [],
   "source": [
    "# Respuesta"
   ]
  },
  {
   "cell_type": "markdown",
   "metadata": {},
   "source": [
    "c) Vuelva a hacer el scatter plot aplicando colores a cada subregión."
   ]
  },
  {
   "cell_type": "code",
   "execution_count": null,
   "metadata": {
    "scrolled": true
   },
   "outputs": [],
   "source": [
    "# Respuesta"
   ]
  },
  {
   "cell_type": "markdown",
   "metadata": {},
   "source": [
    "d) ¿Qué puede observar de la gráfica anterior?"
   ]
  },
  {
   "cell_type": "markdown",
   "metadata": {},
   "source": [
    "Respuesta:"
   ]
  },
  {
   "cell_type": "markdown",
   "metadata": {},
   "source": [
    "**Ejercicio 6.** Análisis de un subset\n",
    "\n",
    "a ) Haga un filtro al dataframe de interés (`gender_gap`) que mantenga sólo los países de 'Latin America and the Caribbean' y guárdelo en la variable `gender_latam`."
   ]
  },
  {
   "cell_type": "code",
   "execution_count": null,
   "metadata": {},
   "outputs": [],
   "source": [
    "# Respuesta"
   ]
  },
  {
   "cell_type": "markdown",
   "metadata": {},
   "source": [
    "b) Calcule la media de GDPpc y GenderGap por país <font color=blue> y </font> guárdela en la variable `gender_latam_bycountry`."
   ]
  },
  {
   "cell_type": "code",
   "execution_count": null,
   "metadata": {},
   "outputs": [],
   "source": [
    "# Respuesta"
   ]
  },
  {
   "cell_type": "markdown",
   "metadata": {},
   "source": [
    "c) Haga un gráfico de barras con la media de Gender Gap con los valores del eje `x` en vertical."
   ]
  },
  {
   "cell_type": "code",
   "execution_count": null,
   "metadata": {
    "scrolled": true
   },
   "outputs": [],
   "source": [
    "# Respuesta"
   ]
  },
  {
   "cell_type": "markdown",
   "metadata": {},
   "source": [
    "d) ¿Qué observa en la gráfica?"
   ]
  },
  {
   "cell_type": "markdown",
   "metadata": {},
   "source": [
    "***\n"
   ]
  }
 ],
 "metadata": {
  "kernelspec": {
   "display_name": "Python 3",
   "language": "python",
   "name": "python3"
  },
  "language_info": {
   "codemirror_mode": {
    "name": "ipython",
    "version": 3
   },
   "file_extension": ".py",
   "mimetype": "text/x-python",
   "name": "python",
   "nbconvert_exporter": "python",
   "pygments_lexer": "ipython3",
   "version": "3.8.8"
  }
 },
 "nbformat": 4,
 "nbformat_minor": 2
}
