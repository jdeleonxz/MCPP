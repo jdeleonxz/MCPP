{
 "cells": [
  {
   "cell_type": "markdown",
   "metadata": {},
   "source": [
    "# Taller 3 - Pandas"
   ]
  },
  {
   "cell_type": "markdown",
   "metadata": {},
   "source": [
    "**Métodos computacionales para las políticas públicas** <br> \n",
    "_Universidad del Rosario_ 2023-I"
   ]
  },
  {
   "attachments": {},
   "cell_type": "markdown",
   "metadata": {},
   "source": [
    "**Nombre**: Jorge De León <br>\n",
    "**Correo electrónico**: jorge.deleon@uroaario.edu.co <br>\n",
    "***\n",
    "<h3><center> Instrucciones </center></h3>\n",
    "\n",
    "- Complete con su nombre completo y el correo electrónico.\n",
    "- Guárdelo con el formato: _apellidos\\_nombre\\_TallerN. Donde N hace referencia al número del taller.\n",
    "- En el caso de que la respuesta sea un texto, se indicará con la palabra Respuesta en formato texto, en cuyo caso el formato a utilizar será Markdown. En caso contrario el formato a utilizar será Code y será señalizado con `# Respuesta`. Si fuera necesario hacer alguna aclaración en este último formato, se hará con comentario en el código.\n",
    "- Con el objetivo de crear una buena práctica en la creación del código, cuando la respuesta sea código, explicar **cada línea** del mismo en un comentario corto pero explicativo.\n",
    "- Una vez finalizada la actividad suba a e-aulas este _Jupyter Notebook_ solucionado.\n",
    "- El taller debe ser subido tanto en formato `.ipynb` como `.pdf`.\n",
    "- Los talleres se realizan de forma <b>individual</b>. En caso de haber dos o más talleres con el mismo contenido, será considerado como <b><i>plagio</i></b>.\n",
    "- Fecha límite de entrega: viernes 17 de marzo a las 11:59 pm.\n",
    "***"
   ]
  },
  {
   "cell_type": "markdown",
   "metadata": {},
   "source": [
    "***\n",
    "**Ejercicio 1.** En su trabajo diario en el Departamento de Planeación de la entidad en la que trabaja, usted debe almacenar información sobre el nombre de cada municipio y el número de becas que le va a asignar a sus habitantes. Dado que son datos de acceso público, es importante garantizar que dichos datos sean inmodificables.\n",
    "\n",
    "**Por lo anterior, usted tiene que elegir guardarlo en una estructura de datos que dificulte su manipulación una vez usted obtiene el nombre de cada municipio y la cantidad de becas asignadas respectivamente. ¿Qué estructura elegiría y por qué?**"
   ]
  },
  {
   "attachments": {},
   "cell_type": "markdown",
   "metadata": {},
   "source": [
    "Tuplas ya que no se pueden modificar\n",
    "***"
   ]
  },
  {
   "cell_type": "markdown",
   "metadata": {},
   "source": [
    "**Ejercicio 2.** Importar los datos y hacer las primeras tablas descriptivas."
   ]
  },
  {
   "cell_type": "code",
   "execution_count": 1,
   "metadata": {},
   "outputs": [],
   "source": [
    "# Import libraries\n",
    "import pandas as pd\n",
    "import matplotlib.pyplot as plt\n",
    "import numpy as np\n",
    "\n",
    "datos = pd.read_csv('regional_codes.csv')"
   ]
  },
  {
   "cell_type": "markdown",
   "metadata": {},
   "source": [
    "a) En el siguiente [link](https://ourworldindata.org/grapher/gender-wage-gap-vs-gdp-per-capita), descargue los datos `gender-wage-gap-vs-gdp-per-capita.csv` y cárguelos en una variable que se denomine `data`."
   ]
  },
  {
   "cell_type": "code",
   "execution_count": 2,
   "metadata": {},
   "outputs": [],
   "source": [
    "data = pd.read_csv(\"gender-wage-gap-vs-gdp-per-capita.csv\")"
   ]
  },
  {
   "cell_type": "markdown",
   "metadata": {},
   "source": [
    "b) Haga un resumen de las 5 primeras filas del dataframe y, una vez realizado, saque las principales estadíticas descriptivas</font> para cada variable numérica."
   ]
  },
  {
   "cell_type": "code",
   "execution_count": 3,
   "metadata": {
    "scrolled": true
   },
   "outputs": [
    {
     "name": "stdout",
     "output_type": "stream",
     "text": [
      "        Entity      Code  Year  Gender wage gap (%)  \\\n",
      "0     Abkhazia  OWID_ABK  2015                  NaN   \n",
      "1  Afghanistan       AFG  2002                  NaN   \n",
      "2  Afghanistan       AFG  2003                  NaN   \n",
      "3  Afghanistan       AFG  2004                  NaN   \n",
      "4  Afghanistan       AFG  2005                  NaN   \n",
      "\n",
      "   GDP per capita, PPP (current international $)  \\\n",
      "0                                            NaN   \n",
      "1                                     877.014282   \n",
      "2                                     927.857544   \n",
      "3                                     925.441406   \n",
      "4                                    1023.051758   \n",
      "\n",
      "   Population (historical estimates) Continent  \n",
      "0                                NaN      Asia  \n",
      "1                         21000258.0       NaN  \n",
      "2                         22645136.0       NaN  \n",
      "3                         23553554.0       NaN  \n",
      "4                         24411196.0       NaN  \n",
      "Year                                             1.603052e+03\n",
      "Gender wage gap (%)                              1.088695e+01\n",
      "GDP per capita, PPP (current international $)    1.513087e+04\n",
      "Population (historical estimates)                4.907104e+07\n",
      "dtype: float64\n",
      "Year                                             1.901000e+03\n",
      "Gender wage gap (%)                              1.068000e+01\n",
      "GDP per capita, PPP (current international $)    8.021748e+03\n",
      "Population (historical estimates)                1.340465e+06\n",
      "dtype: float64\n",
      "<bound method NDFrame._add_numeric_operations.<locals>.std of               Entity      Code  Year  Gender wage gap (%)  \\\n",
      "0           Abkhazia  OWID_ABK  2015                  NaN   \n",
      "1        Afghanistan       AFG  2002                  NaN   \n",
      "2        Afghanistan       AFG  2003                  NaN   \n",
      "3        Afghanistan       AFG  2004                  NaN   \n",
      "4        Afghanistan       AFG  2005                  NaN   \n",
      "...              ...       ...   ...                  ...   \n",
      "58163       Zimbabwe       ZWE  1987                  NaN   \n",
      "58164       Zimbabwe       ZWE  1988                  NaN   \n",
      "58165       Zimbabwe       ZWE  1989                  NaN   \n",
      "58166       Zimbabwe       ZWE  2021                  NaN   \n",
      "58167  Åland Islands       ALA  2015                  NaN   \n",
      "\n",
      "       GDP per capita, PPP (current international $)  \\\n",
      "0                                                NaN   \n",
      "1                                         877.014282   \n",
      "2                                         927.857544   \n",
      "3                                         925.441406   \n",
      "4                                        1023.051758   \n",
      "...                                              ...   \n",
      "58163                                            NaN   \n",
      "58164                                            NaN   \n",
      "58165                                            NaN   \n",
      "58166                                            NaN   \n",
      "58167                                            NaN   \n",
      "\n",
      "       Population (historical estimates) Continent  \n",
      "0                                    NaN      Asia  \n",
      "1                             21000258.0       NaN  \n",
      "2                             22645136.0       NaN  \n",
      "3                             23553554.0       NaN  \n",
      "4                             24411196.0       NaN  \n",
      "...                                  ...       ...  \n",
      "58163                          9277484.0       NaN  \n",
      "58164                          9568745.0       NaN  \n",
      "58165                          9846352.0       NaN  \n",
      "58166                         15993525.0       NaN  \n",
      "58167                                NaN    Europe  \n",
      "\n",
      "[58168 rows x 7 columns]>\n"
     ]
    },
    {
     "name": "stderr",
     "output_type": "stream",
     "text": [
      "C:\\Users\\Jorge De León\\AppData\\Local\\Temp\\ipykernel_3332\\4285833853.py:3: FutureWarning: Dropping of nuisance columns in DataFrame reductions (with 'numeric_only=None') is deprecated; in a future version this will raise TypeError.  Select only valid columns before calling the reduction.\n",
      "  print(data.mean())\n",
      "C:\\Users\\Jorge De León\\AppData\\Local\\Temp\\ipykernel_3332\\4285833853.py:4: FutureWarning: Dropping of nuisance columns in DataFrame reductions (with 'numeric_only=None') is deprecated; in a future version this will raise TypeError.  Select only valid columns before calling the reduction.\n",
      "  print(data.median())\n"
     ]
    }
   ],
   "source": [
    "print(data.head())\n",
    "\n",
    "print(data.mean())\n",
    "print(data.median())\n",
    "print(data.std)\n"
   ]
  },
  {
   "cell_type": "markdown",
   "metadata": {},
   "source": [
    "c) Extraiga los nombres de las columnas en formato lista y guárdelos en la variable `data_columns`. Además, compruebe si hay alguna variable que represente el GDP nominal dentro de la lista."
   ]
  },
  {
   "cell_type": "code",
   "execution_count": 4,
   "metadata": {},
   "outputs": [
    {
     "data": {
      "text/plain": [
       "['Entity',\n",
       " 'Code',\n",
       " 'Year',\n",
       " 'Gender wage gap (%)',\n",
       " 'GDP per capita, PPP (current international $)',\n",
       " 'Population (historical estimates)',\n",
       " 'Continent']"
      ]
     },
     "execution_count": 4,
     "metadata": {},
     "output_type": "execute_result"
    }
   ],
   "source": [
    "data_columns = list(data.columns)\n",
    "data_columns\n",
    "\n",
    "#Ninguna contiene el GDP nominal."
   ]
  },
  {
   "cell_type": "markdown",
   "metadata": {},
   "source": [
    "**Ejercicio 3.** Adaptar los datos para facilitar su uso.\n",
    "\n",
    "a) Genere una lista de las variables de interés para el primer análisis (Code, Year, Gender wage gap, GDP per capita) utilizando la lista `data_columns` creada previamente y guárdela en `interest_columns`."
   ]
  },
  {
   "cell_type": "code",
   "execution_count": 5,
   "metadata": {},
   "outputs": [
    {
     "data": {
      "text/plain": [
       "['Code',\n",
       " 'Year',\n",
       " 'Gender wage gap (%)',\n",
       " 'GDP per capita, PPP (current international $)']"
      ]
     },
     "execution_count": 5,
     "metadata": {},
     "output_type": "execute_result"
    }
   ],
   "source": [
    "interest_columns = data_columns[1:5]\n",
    "interest_columns"
   ]
  },
  {
   "cell_type": "markdown",
   "metadata": {},
   "source": [
    "b) Filtre el dataframe para que sólo queden las variables `interest_columns`. y guarde ese resultado en una variable que se llame `gender_gap`."
   ]
  },
  {
   "cell_type": "code",
   "execution_count": 6,
   "metadata": {},
   "outputs": [
    {
     "data": {
      "text/html": [
       "<div>\n",
       "<style scoped>\n",
       "    .dataframe tbody tr th:only-of-type {\n",
       "        vertical-align: middle;\n",
       "    }\n",
       "\n",
       "    .dataframe tbody tr th {\n",
       "        vertical-align: top;\n",
       "    }\n",
       "\n",
       "    .dataframe thead th {\n",
       "        text-align: right;\n",
       "    }\n",
       "</style>\n",
       "<table border=\"1\" class=\"dataframe\">\n",
       "  <thead>\n",
       "    <tr style=\"text-align: right;\">\n",
       "      <th></th>\n",
       "      <th>Code</th>\n",
       "      <th>Year</th>\n",
       "      <th>Gender wage gap (%)</th>\n",
       "      <th>GDP per capita, PPP (current international $)</th>\n",
       "    </tr>\n",
       "  </thead>\n",
       "  <tbody>\n",
       "    <tr>\n",
       "      <th>0</th>\n",
       "      <td>OWID_ABK</td>\n",
       "      <td>2015</td>\n",
       "      <td>NaN</td>\n",
       "      <td>NaN</td>\n",
       "    </tr>\n",
       "    <tr>\n",
       "      <th>1</th>\n",
       "      <td>AFG</td>\n",
       "      <td>2002</td>\n",
       "      <td>NaN</td>\n",
       "      <td>877.014282</td>\n",
       "    </tr>\n",
       "    <tr>\n",
       "      <th>2</th>\n",
       "      <td>AFG</td>\n",
       "      <td>2003</td>\n",
       "      <td>NaN</td>\n",
       "      <td>927.857544</td>\n",
       "    </tr>\n",
       "    <tr>\n",
       "      <th>3</th>\n",
       "      <td>AFG</td>\n",
       "      <td>2004</td>\n",
       "      <td>NaN</td>\n",
       "      <td>925.441406</td>\n",
       "    </tr>\n",
       "    <tr>\n",
       "      <th>4</th>\n",
       "      <td>AFG</td>\n",
       "      <td>2005</td>\n",
       "      <td>NaN</td>\n",
       "      <td>1023.051758</td>\n",
       "    </tr>\n",
       "  </tbody>\n",
       "</table>\n",
       "</div>"
      ],
      "text/plain": [
       "       Code  Year  Gender wage gap (%)  \\\n",
       "0  OWID_ABK  2015                  NaN   \n",
       "1       AFG  2002                  NaN   \n",
       "2       AFG  2003                  NaN   \n",
       "3       AFG  2004                  NaN   \n",
       "4       AFG  2005                  NaN   \n",
       "\n",
       "   GDP per capita, PPP (current international $)  \n",
       "0                                            NaN  \n",
       "1                                     877.014282  \n",
       "2                                     927.857544  \n",
       "3                                     925.441406  \n",
       "4                                    1023.051758  "
      ]
     },
     "execution_count": 6,
     "metadata": {},
     "output_type": "execute_result"
    }
   ],
   "source": [
    "gender_gap = data.loc[:,interest_columns]\n",
    "gender_gap.head()"
   ]
  },
  {
   "cell_type": "markdown",
   "metadata": {},
   "source": [
    "c) Cambie el nombre de las variables a \"CountryName\", \"Code\", \"Year\", \"GenderGap\", \"GDPpc\", \"Population\", \"Continent\" respectivamente, luego imprima las 5 primeras filas de su dataframe con los nombres de las variables ajustadas."
   ]
  },
  {
   "cell_type": "code",
   "execution_count": 7,
   "metadata": {},
   "outputs": [
    {
     "data": {
      "text/html": [
       "<div>\n",
       "<style scoped>\n",
       "    .dataframe tbody tr th:only-of-type {\n",
       "        vertical-align: middle;\n",
       "    }\n",
       "\n",
       "    .dataframe tbody tr th {\n",
       "        vertical-align: top;\n",
       "    }\n",
       "\n",
       "    .dataframe thead th {\n",
       "        text-align: right;\n",
       "    }\n",
       "</style>\n",
       "<table border=\"1\" class=\"dataframe\">\n",
       "  <thead>\n",
       "    <tr style=\"text-align: right;\">\n",
       "      <th></th>\n",
       "      <th>CountryName</th>\n",
       "      <th>Code</th>\n",
       "      <th>Year</th>\n",
       "      <th>GenderGap</th>\n",
       "      <th>GDPpc</th>\n",
       "      <th>Population</th>\n",
       "      <th>Continent</th>\n",
       "    </tr>\n",
       "  </thead>\n",
       "  <tbody>\n",
       "    <tr>\n",
       "      <th>0</th>\n",
       "      <td>Abkhazia</td>\n",
       "      <td>OWID_ABK</td>\n",
       "      <td>2015</td>\n",
       "      <td>NaN</td>\n",
       "      <td>NaN</td>\n",
       "      <td>NaN</td>\n",
       "      <td>Asia</td>\n",
       "    </tr>\n",
       "    <tr>\n",
       "      <th>1</th>\n",
       "      <td>Afghanistan</td>\n",
       "      <td>AFG</td>\n",
       "      <td>2002</td>\n",
       "      <td>NaN</td>\n",
       "      <td>877.014282</td>\n",
       "      <td>21000258.0</td>\n",
       "      <td>NaN</td>\n",
       "    </tr>\n",
       "    <tr>\n",
       "      <th>2</th>\n",
       "      <td>Afghanistan</td>\n",
       "      <td>AFG</td>\n",
       "      <td>2003</td>\n",
       "      <td>NaN</td>\n",
       "      <td>927.857544</td>\n",
       "      <td>22645136.0</td>\n",
       "      <td>NaN</td>\n",
       "    </tr>\n",
       "    <tr>\n",
       "      <th>3</th>\n",
       "      <td>Afghanistan</td>\n",
       "      <td>AFG</td>\n",
       "      <td>2004</td>\n",
       "      <td>NaN</td>\n",
       "      <td>925.441406</td>\n",
       "      <td>23553554.0</td>\n",
       "      <td>NaN</td>\n",
       "    </tr>\n",
       "    <tr>\n",
       "      <th>4</th>\n",
       "      <td>Afghanistan</td>\n",
       "      <td>AFG</td>\n",
       "      <td>2005</td>\n",
       "      <td>NaN</td>\n",
       "      <td>1023.051758</td>\n",
       "      <td>24411196.0</td>\n",
       "      <td>NaN</td>\n",
       "    </tr>\n",
       "  </tbody>\n",
       "</table>\n",
       "</div>"
      ],
      "text/plain": [
       "   CountryName      Code  Year  GenderGap        GDPpc  Population Continent\n",
       "0     Abkhazia  OWID_ABK  2015        NaN          NaN         NaN      Asia\n",
       "1  Afghanistan       AFG  2002        NaN   877.014282  21000258.0       NaN\n",
       "2  Afghanistan       AFG  2003        NaN   927.857544  22645136.0       NaN\n",
       "3  Afghanistan       AFG  2004        NaN   925.441406  23553554.0       NaN\n",
       "4  Afghanistan       AFG  2005        NaN  1023.051758  24411196.0       NaN"
      ]
     },
     "execution_count": 7,
     "metadata": {},
     "output_type": "execute_result"
    }
   ],
   "source": [
    "data = data.rename(columns={'Entity' : 'CountryName', 'Code' : 'Code', 'Year' : 'Year', 'Gender wage gap (%)' : 'GenderGap',\n",
    "                            'GDP per capita, PPP (current international $)' : 'GDPpc' , 'Population (historical estimates)' : 'Population', 'Continent' : 'Continent' })\n",
    "\n",
    "data.head()"
   ]
  },
  {
   "cell_type": "markdown",
   "metadata": {},
   "source": [
    "d) Calcular:\n",
    "\n",
    "        1. El primer año disponible con un mensaje que diga \"El primer año disponible es:\"\n",
    "        \n",
    "        \n",
    "        2. El año más reciente con un mensaje que diga \"El año más reciente es: \".\n",
    "        \n",
    "        \n",
    "        3. El Gender Gap más alto del dataframe."
   ]
  },
  {
   "cell_type": "code",
   "execution_count": 8,
   "metadata": {
    "scrolled": false
   },
   "outputs": [
    {
     "name": "stdout",
     "output_type": "stream",
     "text": [
      "El primer año disponible es: Year   -10000\n",
      "dtype: int64\n",
      "El año más reciente es: Year    2021\n",
      "dtype: int64\n",
      "El GenderGap más alto es: GenderGap    35.75\n",
      "dtype: float64\n"
     ]
    }
   ],
   "source": [
    "minimo = data[['Year']].min()\n",
    "print(f\"El primer año disponible es: {minimo}\")\n",
    "\n",
    "maximo = data[['Year']].max()\n",
    "print(f'El año más reciente es: {maximo}')\n",
    "\n",
    "gendermax = data[['GenderGap']].max()\n",
    "print(f'El GenderGap más alto es: {gendermax}')"
   ]
  },
  {
   "cell_type": "markdown",
   "metadata": {},
   "source": [
    "Describa brevemente si encuentra alguna inconsistencia en los datos de su dataframe (e.g. missing values, NaNs, outliers, etc...)\n",
    "\n",
    "Respuesta [Texto]\n",
    "***"
   ]
  },
  {
   "cell_type": "markdown",
   "metadata": {},
   "source": [
    "**Ejercicio 4.**"
   ]
  },
  {
   "cell_type": "markdown",
   "metadata": {},
   "source": [
    "a) Para hacer un estudio más reciente, filtre los datos del año 2000 al último año disponible. Guárdelo en la misma variable `gender_gap`."
   ]
  },
  {
   "cell_type": "code",
   "execution_count": 9,
   "metadata": {},
   "outputs": [
    {
     "data": {
      "text/plain": [
       "0    2015\n",
       "1    2002\n",
       "2    2003\n",
       "3    2004\n",
       "4    2005\n",
       "Name: Year, dtype: int64"
      ]
     },
     "execution_count": 9,
     "metadata": {},
     "output_type": "execute_result"
    }
   ],
   "source": [
    "gender_gap = data[data['Year'] >= 2000]\n",
    "\n",
    "gender_gap.Year.head()"
   ]
  },
  {
   "cell_type": "markdown",
   "metadata": {},
   "source": [
    "b) Realice un scatter plot donde la `x` sea el GDPpc y la `y` sea el Gender Gap. Ponga etiquetas descriptivas en los dos ejes. "
   ]
  },
  {
   "cell_type": "code",
   "execution_count": 10,
   "metadata": {},
   "outputs": [
    {
     "data": {
      "image/png": "[encoded data removed]",
      "text/plain": [
       "<Figure size 432x288 with 1 Axes>"
      ]
     },
     "metadata": {
      "needs_background": "light"
     },
     "output_type": "display_data"
    }
   ],
   "source": [
    "plt.plot(gender_gap['GDPpc'], gender_gap['GenderGap'], \"o\")\n",
    "plt.ylabel('Brecha de género')\n",
    "plt.xlabel('GDP per capita')\n",
    "plt.show()"
   ]
  },
  {
   "cell_type": "markdown",
   "metadata": {},
   "source": [
    "c) ¿Qué puede inferir con respecto a los resultados de la gráfica?"
   ]
  },
  {
   "attachments": {},
   "cell_type": "markdown",
   "metadata": {},
   "source": [
    "A medida que  aumenta el GDP per capita se observa que aumenta de igual manera la brecha de genero. \n"
   ]
  },
  {
   "cell_type": "markdown",
   "metadata": {},
   "source": [
    "d) Importe la carpeta `regional_codes.csv` que se encuentra en e-aulas y almacénela en una variable que se llame `codes`, luego imprima las 5 primeras filas para conocer qué datos trae."
   ]
  },
  {
   "cell_type": "code",
   "execution_count": 11,
   "metadata": {},
   "outputs": [
    {
     "data": {
      "text/html": [
       "<div>\n",
       "<style scoped>\n",
       "    .dataframe tbody tr th:only-of-type {\n",
       "        vertical-align: middle;\n",
       "    }\n",
       "\n",
       "    .dataframe tbody tr th {\n",
       "        vertical-align: top;\n",
       "    }\n",
       "\n",
       "    .dataframe thead th {\n",
       "        text-align: right;\n",
       "    }\n",
       "</style>\n",
       "<table border=\"1\" class=\"dataframe\">\n",
       "  <thead>\n",
       "    <tr style=\"text-align: right;\">\n",
       "      <th></th>\n",
       "      <th>name</th>\n",
       "      <th>alpha-2</th>\n",
       "      <th>alpha-3</th>\n",
       "      <th>country-code</th>\n",
       "      <th>iso_3166-2</th>\n",
       "      <th>region</th>\n",
       "      <th>sub-region</th>\n",
       "      <th>intermediate-region</th>\n",
       "      <th>region-code</th>\n",
       "      <th>sub-region-code</th>\n",
       "      <th>intermediate-region-code</th>\n",
       "    </tr>\n",
       "  </thead>\n",
       "  <tbody>\n",
       "    <tr>\n",
       "      <th>0</th>\n",
       "      <td>Afghanistan</td>\n",
       "      <td>AF</td>\n",
       "      <td>AFG</td>\n",
       "      <td>4</td>\n",
       "      <td>ISO 3166-2:AF</td>\n",
       "      <td>Asia</td>\n",
       "      <td>Southern Asia</td>\n",
       "      <td>NaN</td>\n",
       "      <td>142.0</td>\n",
       "      <td>34.0</td>\n",
       "      <td>NaN</td>\n",
       "    </tr>\n",
       "    <tr>\n",
       "      <th>1</th>\n",
       "      <td>Åland Islands</td>\n",
       "      <td>AX</td>\n",
       "      <td>ALA</td>\n",
       "      <td>248</td>\n",
       "      <td>ISO 3166-2:AX</td>\n",
       "      <td>Europe</td>\n",
       "      <td>Northern Europe</td>\n",
       "      <td>NaN</td>\n",
       "      <td>150.0</td>\n",
       "      <td>154.0</td>\n",
       "      <td>NaN</td>\n",
       "    </tr>\n",
       "    <tr>\n",
       "      <th>2</th>\n",
       "      <td>Albania</td>\n",
       "      <td>AL</td>\n",
       "      <td>ALB</td>\n",
       "      <td>8</td>\n",
       "      <td>ISO 3166-2:AL</td>\n",
       "      <td>Europe</td>\n",
       "      <td>Southern Europe</td>\n",
       "      <td>NaN</td>\n",
       "      <td>150.0</td>\n",
       "      <td>39.0</td>\n",
       "      <td>NaN</td>\n",
       "    </tr>\n",
       "    <tr>\n",
       "      <th>3</th>\n",
       "      <td>Algeria</td>\n",
       "      <td>DZ</td>\n",
       "      <td>DZA</td>\n",
       "      <td>12</td>\n",
       "      <td>ISO 3166-2:DZ</td>\n",
       "      <td>Africa</td>\n",
       "      <td>Northern Africa</td>\n",
       "      <td>NaN</td>\n",
       "      <td>2.0</td>\n",
       "      <td>15.0</td>\n",
       "      <td>NaN</td>\n",
       "    </tr>\n",
       "    <tr>\n",
       "      <th>4</th>\n",
       "      <td>American Samoa</td>\n",
       "      <td>AS</td>\n",
       "      <td>ASM</td>\n",
       "      <td>16</td>\n",
       "      <td>ISO 3166-2:AS</td>\n",
       "      <td>Oceania</td>\n",
       "      <td>Polynesia</td>\n",
       "      <td>NaN</td>\n",
       "      <td>9.0</td>\n",
       "      <td>61.0</td>\n",
       "      <td>NaN</td>\n",
       "    </tr>\n",
       "  </tbody>\n",
       "</table>\n",
       "</div>"
      ],
      "text/plain": [
       "             name alpha-2 alpha-3  country-code     iso_3166-2   region  \\\n",
       "0     Afghanistan      AF     AFG             4  ISO 3166-2:AF     Asia   \n",
       "1   Åland Islands      AX     ALA           248  ISO 3166-2:AX   Europe   \n",
       "2         Albania      AL     ALB             8  ISO 3166-2:AL   Europe   \n",
       "3         Algeria      DZ     DZA            12  ISO 3166-2:DZ   Africa   \n",
       "4  American Samoa      AS     ASM            16  ISO 3166-2:AS  Oceania   \n",
       "\n",
       "        sub-region intermediate-region  region-code  sub-region-code  \\\n",
       "0    Southern Asia                 NaN        142.0             34.0   \n",
       "1  Northern Europe                 NaN        150.0            154.0   \n",
       "2  Southern Europe                 NaN        150.0             39.0   \n",
       "3  Northern Africa                 NaN          2.0             15.0   \n",
       "4        Polynesia                 NaN          9.0             61.0   \n",
       "\n",
       "   intermediate-region-code  \n",
       "0                       NaN  \n",
       "1                       NaN  \n",
       "2                       NaN  \n",
       "3                       NaN  \n",
       "4                       NaN  "
      ]
     },
     "execution_count": 11,
     "metadata": {},
     "output_type": "execute_result"
    }
   ],
   "source": [
    "codes = pd.read_csv('regional_codes.csv')\n",
    "codes.head()"
   ]
  },
  {
   "cell_type": "markdown",
   "metadata": {},
   "source": [
    "e) Filtre el dataframe para que sólo queden las columnas alpha-3, region y subregión y guárdelo en la misma variable. Por último, cambie los nombres de las columnas por \"Code\", \"region\" y \"subregion\" respectivamente."
   ]
  },
  {
   "cell_type": "code",
   "execution_count": 12,
   "metadata": {},
   "outputs": [],
   "source": [
    "codes = codes.iloc[:, [2, 5, 6]]\n",
    "\n",
    "codes = codes.rename(columns={'alpha-3' : 'Code', 'region' : 'region' , 'sub-region' : 'subregion'})"
   ]
  },
  {
   "cell_type": "markdown",
   "metadata": {},
   "source": [
    "**Ejercicio 5.** Unir datasets, limpiar y graficar."
   ]
  },
  {
   "cell_type": "markdown",
   "metadata": {},
   "source": [
    "a) Haga una unión `inner` de los datos de `gender_gap`y `code`a través de la(s) variable(s) que considere."
   ]
  },
  {
   "cell_type": "code",
   "execution_count": 13,
   "metadata": {},
   "outputs": [],
   "source": [
    "new_data = pd.merge(gender_gap, codes, on = ['Code'])"
   ]
  },
  {
   "cell_type": "markdown",
   "metadata": {},
   "source": [
    "b) Elimine todas aquellas filas que no tengan valores en Gender Gap."
   ]
  },
  {
   "cell_type": "code",
   "execution_count": 14,
   "metadata": {
    "scrolled": true
   },
   "outputs": [],
   "source": [
    "new_data = new_data.dropna()"
   ]
  },
  {
   "cell_type": "code",
   "execution_count": 15,
   "metadata": {},
   "outputs": [
    {
     "name": "stdout",
     "output_type": "stream",
     "text": [
      "['Latin America and the Caribbean' 'Eastern Europe' 'Western Asia'\n",
      " 'South-eastern Asia' 'Southern Europe' 'Eastern Asia' 'Northern Europe']\n"
     ]
    }
   ],
   "source": [
    "print(new_data['subregion'].unique())"
   ]
  },
  {
   "cell_type": "markdown",
   "metadata": {},
   "source": [
    "c) Vuelva a hacer el scatter plot aplicando colores a cada subregión."
   ]
  },
  {
   "cell_type": "code",
   "execution_count": 16,
   "metadata": {
    "scrolled": true
   },
   "outputs": [
    {
     "data": {
      "image/png": "[encoded data removed]",
      "text/plain": [
       "<Figure size 432x288 with 1 Axes>"
      ]
     },
     "metadata": {
      "needs_background": "light"
     },
     "output_type": "display_data"
    }
   ],
   "source": [
    "colormap = {'Latin America and the Caribbean': \"r\", 'Eastern Europe': \"g\", 'Western Asia': \"b\", 'South-eastern Asia' : \"m\" , 'Southern Europe' : \"k\", \n",
    "          'Eastern Asia' : \"y\", 'Northern Europe' : \"c\"}\n",
    "colors = [colormap[val] for val in new_data['subregion']]\n",
    "plt.scatter(new_data['GDPpc'], new_data['GenderGap'], c=colors)\n",
    "plt.ylabel('Brecha de género')\n",
    "plt.xlabel('GDP per capita')\n",
    "for category, color in colormap.items():\n",
    "    plt.scatter([], [], c=color, label=category)\n",
    "\n",
    "plt.legend()\n",
    "plt.show()"
   ]
  },
  {
   "cell_type": "markdown",
   "metadata": {},
   "source": [
    "d) ¿Qué puede observar de la gráfica anterior?"
   ]
  },
  {
   "attachments": {},
   "cell_type": "markdown",
   "metadata": {},
   "source": [
    "Respuesta: Exceptuando el sudeste asiatico parece haber una relación positiva entre el GDP per capita y la brecha de género. Las regiones con el GDP per capita más alto presentan a su vez una brecha de género mayor."
   ]
  },
  {
   "cell_type": "markdown",
   "metadata": {},
   "source": [
    "**Ejercicio 6.** Análisis de un subset\n",
    "\n",
    "a ) Haga un filtro al dataframe de interés (`gender_gap`) que mantenga sólo los países de 'Latin America and the Caribbean' y guárdelo en la variable `gender_latam`."
   ]
  },
  {
   "cell_type": "code",
   "execution_count": 21,
   "metadata": {},
   "outputs": [],
   "source": [
    "gender_latam = new_data[new_data['subregion'] == 'Latin America and the Caribbean']"
   ]
  },
  {
   "cell_type": "markdown",
   "metadata": {},
   "source": [
    "b) Calcule la media de GDPpc y GenderGap por país <font color=blue> y </font> guárdela en la variable `gender_latam_bycountry`."
   ]
  },
  {
   "cell_type": "code",
   "execution_count": 22,
   "metadata": {},
   "outputs": [
    {
     "name": "stdout",
     "output_type": "stream",
     "text": [
      "        Year  GenderGap         GDPpc  Population\n",
      "Code                                             \n",
      "COL   2015.0       0.34  13265.796875  47119728.0\n",
      "DOM   2015.0       7.38  14740.827148  10405832.0\n",
      "PRY   2015.0      -1.77  11486.523438   6177954.0\n"
     ]
    }
   ],
   "source": [
    "gender_latam_bycountry = gender_latam.groupby('Code').mean([['GDPpc', 'GenderGap']])\n",
    "\n",
    "print(gender_latam_bycountry)\n"
   ]
  },
  {
   "cell_type": "markdown",
   "metadata": {},
   "source": [
    "c) Haga un gráfico de barras con la media de Gender Gap con los valores del eje `x` en vertical."
   ]
  },
  {
   "cell_type": "code",
   "execution_count": 23,
   "metadata": {
    "scrolled": true
   },
   "outputs": [
    {
     "data": {
      "image/png": "[encoded data removed]",
      "text/plain": [
       "<Figure size 432x288 with 1 Axes>"
      ]
     },
     "metadata": {
      "needs_background": "light"
     },
     "output_type": "display_data"
    }
   ],
   "source": [
    "plt.bar(gender_latam_bycountry.index, gender_latam_bycountry['GenderGap'])\n",
    "plt.xlabel('Paises')\n",
    "plt.ylabel('Brecha de género')\n",
    "plt.show()"
   ]
  },
  {
   "attachments": {},
   "cell_type": "markdown",
   "metadata": {},
   "source": [
    "d) ¿Qué observa en la gráfica?\n",
    "\n",
    "Dominicana tiene una alta brecha de género mientras Colombia mantiene una brecha baja y Pataguay mantiene una brecha negativa"
   ]
  },
  {
   "cell_type": "markdown",
   "metadata": {},
   "source": [
    "***\n"
   ]
  }
 ],
 "metadata": {
  "kernelspec": {
   "display_name": "Python 3",
   "language": "python",
   "name": "python3"
  },
  "language_info": {
   "codemirror_mode": {
    "name": "ipython",
    "version": 3
   },
   "file_extension": ".py",
   "mimetype": "text/x-python",
   "name": "python",
   "nbconvert_exporter": "python",
   "pygments_lexer": "ipython3",
   "version": "3.10.4"
  }
 },
 "nbformat": 4,
 "nbformat_minor": 2
}
