{
 "cells": [
  {
   "cell_type": "markdown",
   "metadata": {},
   "source": [
    "<img style=\"float: left; padding-right: 20px; width: 130px\" src=\"https://research-data.urosario.edu.co/resources/images/UR-Logo.png\"> <br>\n",
    "## Métodos Computacionales para Políticas Públicas\n",
    "### Taller 1 - Fundamentos de Python\n",
    "Febrero 2023"
   ]
  },
  {
   "cell_type": "markdown",
   "metadata": {},
   "source": [
    "**Nombre**: ________ <br>\n",
    "**Correo electrónico**: ________ <br>\n",
    "***\n",
    "<h3><center> Instrucciones </center></h3>\n",
    "\n",
    "- Complete con su nombre completo y el correo electrónico.\n",
    "- Guárdelo con el formato: _apellidos\\_nombre\\_TallerN. Donde N hace referencia al número del taller.\n",
    "- En el caso de que la respuesta sea un texto, se indicará con la palabra [texto], en cuyo caso el formato a utilizar será Markdown. En caso contrario el formato a utilizar será Code y será señalizado con `# Respuesta`. Si fuera necesario hacer alguna aclaración en este último formato, se hará con comentario en el código.\n",
    "- Con el objetivo de crear una buena práctica en la creación del código, cuando la respuesta sea código, explicar **cada línea** del mismo en un comentario corto pero explicativo.\n",
    "- Todos los ejercicios de todos los talleres tienen la misma puntuación. Esto significa que si este taller tiene 2 ejercicios y el siguiente tiene 4, el siguiente valdrá el doble que este.\n",
    "- Un vez finalizada la actividad suba a e-aulas este _Jupyter Notebook_ solucionado. \n",
    "- Los talleres se realizan de forma <b>individual</b>. En caso de haber dos o más talleres con el mismo contenido, será considerado como <b><i>plagio</i></b>.\n",
    "- Fecha límite de entrega: viernes 17 de febrero a las 11:59 pm.\n",
    "***"
   ]
  },
  {
   "cell_type": "markdown",
   "metadata": {},
   "source": [
    "Ejercicio 1. **¿Cuál es el valor final de a, b, c, d, e y f? Explique por qúe cada uno de ellos tiene la clase de valor que tiene en un comentario.**\n",
    "\n",
    "a = 6$*2$ <br>\n",
    "b = 9$/2$ <br>\n",
    "c, a = a+1, b$*2$ <br>\n",
    "b = a // 3 <br>\n",
    "d = 6.0$*9$ <br>\n",
    "e = 'MCPP'$*a$ <br>\n",
    "f = True$*b*$'9' <br>\n",
    "\n",
    "_Nota_ : a, b, c, d, e y f son variables, no items."
   ]
  },
  {
   "cell_type": "code",
   "execution_count": null,
   "metadata": {},
   "outputs": [],
   "source": [
    "# Respuesta"
   ]
  },
  {
   "cell_type": "markdown",
   "metadata": {},
   "source": [
    "***"
   ]
  },
  {
   "cell_type": "markdown",
   "metadata": {},
   "source": [
    "## Pensar como un computador"
   ]
  },
  {
   "cell_type": "markdown",
   "metadata": {
    "collapsed": true
   },
   "source": [
    "En *computer science* son comunes los ejercicios denominados \"pensar como un computador\". Con estos usted evalúa si está comprendiendo el material, siempre y cuando no utilice un computador para correr el código del enunciado. Siempre que vea un ejercicio marcado con la etiqueta \"pensar como un computador\", use papel y lápiz o incluso una calculadora si es necesario para descifrar la respuesta, pero nunca ejecute el código en computador."
   ]
  },
  {
   "cell_type": "markdown",
   "metadata": {},
   "source": [
    "Ejercicio 2. **[Pensar como un computador] ¿Cuál es el valor de *c* después de ejecutar el siguiente código?**"
   ]
  },
  {
   "cell_type": "markdown",
   "metadata": {},
   "source": [
    "c = True <br>\n",
    "d = False  <br>\n",
    "c = c and d  <br>\n",
    "c = not c or d  <br>"
   ]
  },
  {
   "cell_type": "code",
   "execution_count": null,
   "metadata": {},
   "outputs": [],
   "source": [
    "# Respuesta"
   ]
  },
  {
   "cell_type": "markdown",
   "metadata": {},
   "source": [
    "Ejercicio 3. **Ejecute el siguiente código y responda: ¿Por qué es falsa la tercera línea, mientras que las primeras dos son verdaderas?**"
   ]
  },
  {
   "cell_type": "raw",
   "metadata": {},
   "source": [
    "1 == 1\n",
    "\"1\" == \"1\"\n",
    "1 == \"1\""
   ]
  },
  {
   "cell_type": "markdown",
   "metadata": {},
   "source": [
    "[Respuesta]"
   ]
  },
  {
   "cell_type": "markdown",
   "metadata": {},
   "source": [
    "Ejericio 4. **[Pensar como un computador] Considere el siguiente código:**\n"
   ]
  },
  {
   "cell_type": "raw",
   "metadata": {},
   "source": [
    "if x > 2:\n",
    "    if y > 2:\n",
    "        z = x + y\n",
    "        print(\"z es\", z)\n",
    "else:\n",
    "    print(x)"
   ]
  },
  {
   "cell_type": "markdown",
   "metadata": {},
   "source": [
    "¿Cuál es el resultado si\n",
    "\n",
    "a)  x = 2, y = 5?\n",
    "\n",
    "b)  x = 3, y = 1?\n",
    "\n",
    "c)  x = 1, y = 1? \n",
    "\n",
    "d)  x = 4, y = 3?"
   ]
  },
  {
   "cell_type": "markdown",
   "metadata": {},
   "source": [
    "[Respuesta]"
   ]
  },
  {
   "cell_type": "markdown",
   "metadata": {},
   "source": [
    "-----"
   ]
  },
  {
   "cell_type": "markdown",
   "metadata": {},
   "source": [
    "Ejercicio 5. **Escribir un programa que almacene la cadena de caracteres `contraseña` en una variable, pregunte al usuario por la contraseña e imprima por pantalla si la contraseña introducida por el usuario coincide con la guardada en la variable sin tener en cuenta mayúsculas y minúsculas.**"
   ]
  },
  {
   "cell_type": "code",
   "execution_count": null,
   "metadata": {},
   "outputs": [],
   "source": [
    "# Respuesta"
   ]
  },
  {
   "cell_type": "markdown",
   "metadata": {},
   "source": [
    "Ejercicio 6. Ejercicio 1. **¿Cuáles de las siguientes expresiones son incorrectas? En aquellas que sean incorrectas explique el porqué y en qué tipo de error se está incurriendo.**\n",
    "\n",
    "* economistas = 'Smith', 'Ricardo', 'Lucas'\n",
    "\n",
    "* random = ('0.03', 'rojo', -3, )\n",
    "\n",
    "* matrix = [[],[],[],[],()]\n",
    "\n",
    "* a = b = c = d = 1 + 2 + 3 + 4 + 5\n",
    "\n",
    "* z = 1; z += 1\n",
    "\n",
    "* variable <- 1776\n",
    "\n",
    "* diccionario = ['a','b','c']\n",
    "\n",
    "*Nota*: Incorrecta se refiere a que Python no puede ejecutar la orden correctamente."
   ]
  },
  {
   "cell_type": "markdown",
   "metadata": {},
   "source": [
    "[Respuesta]"
   ]
  },
  {
   "cell_type": "markdown",
   "metadata": {},
   "source": [
    "***\n",
    "Ejercicio 7. **Resuelva los siguientes apartados:** <br>\n",
    "A. Escriba una lista cuyos cinco elementos sean números en formato string y haga un loop que coja cada elemento e imprima que la clase de ese elemento sea un entero (transforme el string en int. El output deben ser cuatro líneas con el siguiente código `<class 'int'>`). <br>\n",
    "B1. Cree una lista con números del 1 al 5, guárdela con el nombre de `num_list`. Cree un loop que diga `Este número es par` si el número es 2 o 4, o `Este númer es impar` si no es ninguno de esos. <br>\n",
    "B2. Generalice el apartado anterior haciendo una función que reciba cualquier número y crea una lista de 1 a es número imprimiendo en cada elemento si es par o impar. Llame a la función `es_par`. <br>\n",
    "C. Escriba una lista con el número del código de municipio del DANE (puede encontrarla [aquí](https://www.dane.gov.co/files/censo2005/provincias/subregiones.pdf)) de Bogotá, Medellín, Cali y Barranquilla en ese orden. Guárdela con el nombre `cod_municipios` y haga un loop con cuatro condicionales en el que si el elemento de la lista es igual al código del municipio imprima el nombre del municipio dela siguiente manera: `El código [X] pertenece al municipio [M].`. <br>\n",
    "D. Cree una variable `num` que sea igual a 5. Escriba un código que haga lo siguiente: si `num` es mayor que 2, imprime `El número asignado X es menor que 2. Recalculando.`, le reste una unidad y vuelva a hacer lo mismo, hasta que llegue a 2. En ese caso el código imprime `Objetivo cumplido. ¡Enhorabuena!` y para de ejecutarse. X debe hacer referencia al número que vale la variable `num` en cada etapa.  <br>"
   ]
  },
  {
   "cell_type": "code",
   "execution_count": null,
   "metadata": {},
   "outputs": [],
   "source": [
    "# Respuesta A"
   ]
  },
  {
   "cell_type": "code",
   "execution_count": null,
   "metadata": {},
   "outputs": [],
   "source": [
    "# Respuesta B"
   ]
  },
  {
   "cell_type": "code",
   "execution_count": null,
   "metadata": {},
   "outputs": [],
   "source": [
    "# Respuesta C"
   ]
  },
  {
   "cell_type": "code",
   "execution_count": null,
   "metadata": {},
   "outputs": [],
   "source": [
    "# Respuesta D"
   ]
  },
  {
   "cell_type": "markdown",
   "metadata": {},
   "source": [
    "***\n",
    "Ejercicio 8. ***Resuelva los siguientes ejercicios.***"
   ]
  },
  {
   "cell_type": "markdown",
   "metadata": {},
   "source": [
    "A. Genere una lista que tenga 5 elementos: un strings, dos float, un entero y un número en formato de string, en este mismo orden. Apique *slicing* para ***imprimir*** de dos formas diferentes el número en formato string. <br>\n",
    "B. Genere una lista con el nombre de cinco departamentos de Colombia en minúscula. Una vez creada, elija el departamento que desee aplicando *slicing* e imprímalo en mayúscula utilizando lo aprendido en clase. <br>\n",
    "C. Escriba su nombre completo (nombre + apellidos) en una variable que se llame `nombre` y, aplicando slicing, guarde la última letra de su nombre (primer o segundo) en una variable que se llame `last_letter`. Imprima esta última variable. <br>\n",
    "D. Haga una lista con el nombre de cinco municipios de Colombia y, aplicando *slicing*, guarde la segunda letra del segundo municipio en una variable que se llame `second_letter`. Imprímala.\n",
    "E. "
   ]
  },
  {
   "cell_type": "code",
   "execution_count": null,
   "metadata": {},
   "outputs": [],
   "source": [
    "# Respuesta A"
   ]
  },
  {
   "cell_type": "code",
   "execution_count": null,
   "metadata": {},
   "outputs": [],
   "source": [
    "# Respuesta B"
   ]
  },
  {
   "cell_type": "code",
   "execution_count": null,
   "metadata": {},
   "outputs": [],
   "source": [
    "# Respuesta C"
   ]
  },
  {
   "cell_type": "code",
   "execution_count": null,
   "metadata": {},
   "outputs": [],
   "source": [
    "# Respuesta D"
   ]
  },
  {
   "cell_type": "markdown",
   "metadata": {},
   "source": [
    "Ejercicio 9: Cree una tupla llamada `tup` con los siguientes siete objetos:\n",
    "\n",
    "- [ ] El primer elemento es un entero de su elección\n",
    "- [ ] El segundo elemento es un float de su elección\n",
    "- [ ] El tercer elemento es la suma de los dos primeros elementos\n",
    "- [ ] El cuarto elemento es la diferencia de los dos primeros elementos\n",
    "- [ ] El quinto elemento es el primer elemento dividido por el segundo elemento\n",
    "- [ ] Muestre la salida de `tup`. ¿Cuál es el tipo de la variable tup? ¿Qué ocurre si intentas cambiar un elemento de la tupla?"
   ]
  },
  {
   "cell_type": "code",
   "execution_count": null,
   "metadata": {},
   "outputs": [],
   "source": []
  }
 ],
 "metadata": {
  "kernelspec": {
   "display_name": "Python 3",
   "language": "python",
   "name": "python3"
  },
  "language_info": {
   "codemirror_mode": {
    "name": "ipython",
    "version": 3
   },
   "file_extension": ".py",
   "mimetype": "text/x-python",
   "name": "python",
   "nbconvert_exporter": "python",
   "pygments_lexer": "ipython3",
   "version": "3.8.8"
  }
 },
 "nbformat": 4,
 "nbformat_minor": 2
}
