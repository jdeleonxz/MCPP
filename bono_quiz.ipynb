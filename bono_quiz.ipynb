{
 "cells": [
  {
   "attachments": {},
   "cell_type": "markdown",
   "metadata": {},
   "source": [
    "# Bono\n",
    "### Jorge De León - 1010245437\n"
   ]
  },
  {
   "cell_type": "code",
   "execution_count": 1,
   "metadata": {},
   "outputs": [],
   "source": [
    "import re "
   ]
  },
  {
   "cell_type": "code",
   "execution_count": 2,
   "metadata": {},
   "outputs": [
    {
     "data": {
      "text/plain": [
       "['$10.00']"
      ]
     },
     "execution_count": 2,
     "metadata": {},
     "output_type": "execute_result"
    }
   ],
   "source": [
    "x = 'We just received $10.00 for cookies.'\n",
    "y = re.findall('[$]\\S+', x)\n",
    "y"
   ]
  },
  {
   "cell_type": "code",
   "execution_count": 3,
   "metadata": {},
   "outputs": [
    {
     "data": {
      "text/plain": [
       "['$10.00']"
      ]
     },
     "execution_count": 3,
     "metadata": {},
     "output_type": "execute_result"
    }
   ],
   "source": [
    "x = 'We just received $10.00 for cookies.'\n",
    "y = re.findall('[$]\\w+.\\w+',x)\n",
    "y"
   ]
  },
  {
   "cell_type": "code",
   "execution_count": 4,
   "metadata": {},
   "outputs": [
    {
     "data": {
      "text/plain": [
       "['$10.00', '.', '$', '8']"
      ]
     },
     "execution_count": 4,
     "metadata": {},
     "output_type": "execute_result"
    }
   ],
   "source": [
    "x = 'We just received $10.00 for cookies. $ Daniel 8'\n",
    "y = re.findall('([$0-9.]+)', x)\n",
    "y"
   ]
  },
  {
   "attachments": {},
   "cell_type": "markdown",
   "metadata": {},
   "source": [
    "### Bono tarjetas de credito"
   ]
  },
  {
   "cell_type": "code",
   "execution_count": 16,
   "metadata": {},
   "outputs": [
    {
     "name": "stdout",
     "output_type": "stream",
     "text": [
      "tarjeta maluca\n"
     ]
    }
   ],
   "source": [
    "a = input(\"Digite la tarjeta de crédito: \")\n",
    "if re.match(r\"^[\\d^0123789]([0-9]{15}|[0-9]{3}(-[0-9]{4}){3})$\", a) and not re.search(r\"([0-9])\\1\\1\\1\", a.replace(\"-\",\"\")):\n",
    "    print(\"esa tarjeta está buena!\")\n",
    "else:\n",
    "    print(\"tarjeta maluca\")"
   ]
  },
  {
   "attachments": {},
   "cell_type": "markdown",
   "metadata": {},
   "source": [
    "## QUIZ"
   ]
  },
  {
   "cell_type": "code",
   "execution_count": 21,
   "metadata": {},
   "outputs": [],
   "source": [
    "PROBLEM_2 = '123, 012410, 01010, , 000, 111, 3495873, 3, not a number!, ...!@$,.'\n",
    "p = re.compile(r\"([\\d]+)\") #Escribir el regex\n",
    "matches = p.findall(PROBLEM_2)"
   ]
  },
  {
   "cell_type": "code",
   "execution_count": 22,
   "metadata": {},
   "outputs": [
    {
     "data": {
      "text/plain": [
       "['123', '012410', '01010', '000', '111', '3495873', '3']"
      ]
     },
     "execution_count": 22,
     "metadata": {},
     "output_type": "execute_result"
    }
   ],
   "source": [
    "matches"
   ]
  },
  {
   "cell_type": "code",
   "execution_count": 24,
   "metadata": {},
   "outputs": [
    {
     "data": {
      "text/plain": [
       "6"
      ]
     },
     "execution_count": 24,
     "metadata": {},
     "output_type": "execute_result"
    }
   ],
   "source": [
    "PROBLEM_3 = 'Count the number of words in this sentence with at least five characters.'\n",
    "p = re.compile(r\"([a-zA-Z]{5,})\") #Escribir el regex\n",
    "matches = p.findall(PROBLEM_3)\n",
    "len(matches)"
   ]
  },
  {
   "cell_type": "code",
   "execution_count": 27,
   "metadata": {},
   "outputs": [],
   "source": [
    "PROBLEM_9 = \"https://www.kaggle.com https://www.google.com https://www.wikipedia.com http://phishing.com not.a.url gibberish41411 http https www.com http://terobo.com\"\n",
    "p = re.compile(r\"\\S+p:\\S+\") #Escribir el regex"
   ]
  },
  {
   "cell_type": "code",
   "execution_count": 29,
   "metadata": {},
   "outputs": [
    {
     "data": {
      "text/plain": [
       "['http://phishing.com', 'http://terobo.com']"
      ]
     },
     "execution_count": 29,
     "metadata": {},
     "output_type": "execute_result"
    }
   ],
   "source": [
    "matches = p.findall(PROBLEM_9)\n",
    "matches"
   ]
  },
  {
   "cell_type": "code",
   "execution_count": 30,
   "metadata": {},
   "outputs": [],
   "source": [
    "PROBLEM = 'Niño, Acción, Perro, Lobo, Expresión, Español'\n",
    "p = re.compile(r\"(\\w+[^a-zA-Z, ñ]\\w+)\") #Escribir el regex\n",
    "matches = p.findall(PROBLEM)"
   ]
  },
  {
   "cell_type": "code",
   "execution_count": 31,
   "metadata": {},
   "outputs": [
    {
     "data": {
      "text/plain": [
       "['Acción', 'Expresión']"
      ]
     },
     "execution_count": 31,
     "metadata": {},
     "output_type": "execute_result"
    }
   ],
   "source": [
    "matches"
   ]
  },
  {
   "cell_type": "code",
   "execution_count": 34,
   "metadata": {},
   "outputs": [
    {
     "name": "stdout",
     "output_type": "stream",
     "text": [
      "Fecha Valida!\n"
     ]
    }
   ],
   "source": [
    "fecha = input(\"Digite una fecha: \")\n",
    "fecha_regex = re.compile(r'\\d{1,2}/\\d{1,2}/\\d{4}')\n",
    "if fecha_regex.search(fecha):\n",
    "    print(\"Fecha Valida!\")\n",
    "else:\n",
    "    print(\"Fecha Invalida!\")"
   ]
  },
  {
   "cell_type": "code",
   "execution_count": 55,
   "metadata": {},
   "outputs": [
    {
     "name": "stdout",
     "output_type": "stream",
     "text": [
      "216.8.94.196\n",
      "255.48.44.96\n",
      "210.8.94.196\n"
     ]
    }
   ],
   "source": [
    "ip = [\"216.08.094.196\",\"255.048.44.096\",\"210.08.094.196\"]\n",
    "\n",
    "def eliminar_ceros(lista):\n",
    "    pattern = r'0+(?=\\d)'\n",
    "    for i in lista:\n",
    "        y = re.sub(pattern, '', i)\n",
    "        print(y)\n",
    "\n",
    "eliminar_ceros(ip)"
   ]
  }
 ],
 "metadata": {
  "kernelspec": {
   "display_name": "Python 3",
   "language": "python",
   "name": "python3"
  },
  "language_info": {
   "codemirror_mode": {
    "name": "ipython",
    "version": 3
   },
   "file_extension": ".py",
   "mimetype": "text/x-python",
   "name": "python",
   "nbconvert_exporter": "python",
   "pygments_lexer": "ipython3",
   "version": "3.10.4"
  },
  "orig_nbformat": 4
 },
 "nbformat": 4,
 "nbformat_minor": 2
}
