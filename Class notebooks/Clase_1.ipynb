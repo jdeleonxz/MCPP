{
 "cells": [
  {
   "attachments": {},
   "cell_type": "markdown",
   "metadata": {},
   "source": [
    "# CLASE 1 MCPP \n",
    "### jupyter notebook\n",
    "\n",
    "- Introducción a jupyter notebooks \n",
    "- Inicios de python \n",
    "- Hola mundo!\n"
   ]
  },
  {
   "cell_type": "code",
   "execution_count": 6,
   "metadata": {},
   "outputs": [
    {
     "name": "stdout",
     "output_type": "stream",
     "text": [
      "Bienvenido a la clase de MCPP 2023-1 en la Universidad del rosario\n"
     ]
    }
   ],
   "source": [
    "print(\"Bienvenido a la clase de MCPP 2023-1 en la Universidad del rosario\")"
   ]
  },
  {
   "cell_type": "code",
   "execution_count": 8,
   "metadata": {},
   "outputs": [
    {
     "name": "stdout",
     "output_type": "stream",
     "text": [
      "(1, 2, 3, 4, 5, 6, 7, 8, 9)\n"
     ]
    },
    {
     "data": {
      "text/plain": [
       "1976375615760"
      ]
     },
     "execution_count": 8,
     "metadata": {},
     "output_type": "execute_result"
    }
   ],
   "source": [
    "x = (1,2,3,4,5,6,7,8,9)\n",
    "print(x)\n",
    "id(x)"
   ]
  },
  {
   "attachments": {},
   "cell_type": "markdown",
   "metadata": {},
   "source": [
    "# Estructuras de datos\n"
   ]
  },
  {
   "cell_type": "code",
   "execution_count": 16,
   "metadata": {},
   "outputs": [
    {
     "name": "stdout",
     "output_type": "stream",
     "text": [
      "3\n"
     ]
    }
   ],
   "source": [
    "a = input(\"Introduzca un número: \")\n",
    "print(a)"
   ]
  },
  {
   "cell_type": "code",
   "execution_count": 20,
   "metadata": {},
   "outputs": [
    {
     "name": "stdout",
     "output_type": "stream",
     "text": [
      "Apellid:  de leon . Valor vivienda:  40000000\n"
     ]
    }
   ],
   "source": [
    "Apellido = input(\"Introduzca su apellido: \")\n",
    "\n",
    "#Las posiciones en R arrancan en 1, en python en 0. Esto es un string\n",
    "\n",
    "Numero_casa = int(input(\"Introduzca el valor de su vivienda: \"))\n",
    "\n",
    "print(\"Apellido: \", Apellido, \"Valor vivienda: \", Numero_casa)"
   ]
  },
  {
   "attachments": {},
   "cell_type": "markdown",
   "metadata": {},
   "source": [
    "## Expresiones booleanas"
   ]
  },
  {
   "cell_type": "code",
   "execution_count": 23,
   "metadata": {},
   "outputs": [
    {
     "name": "stdout",
     "output_type": "stream",
     "text": [
      "Q es verdadero\n"
     ]
    }
   ],
   "source": [
    "q = True\n",
    "\n",
    "if q == True:\n",
    "    print(\"Q es verdadero\")\n",
    "else:\n",
    "    print(\"Q es False\")\n",
    "\n",
    "# == Significa equivalencia tanto en la estructura de datos como en el contenido."
   ]
  },
  {
   "cell_type": "code",
   "execution_count": 24,
   "metadata": {},
   "outputs": [
    {
     "data": {
      "text/plain": [
       "True"
      ]
     },
     "execution_count": 24,
     "metadata": {},
     "output_type": "execute_result"
    }
   ],
   "source": [
    "q = 4\n",
    "q < 10"
   ]
  },
  {
   "cell_type": "code",
   "execution_count": 27,
   "metadata": {},
   "outputs": [
    {
     "name": "stdout",
     "output_type": "stream",
     "text": [
      "jorge de leon\n"
     ]
    }
   ],
   "source": [
    "Nombre = input(\"Ingrese su nombre: \")\n",
    "Appe = input(\"Ingrese su apellido: \")\n",
    "\n",
    "print(Nombre + \" \" + Appe)"
   ]
  },
  {
   "attachments": {},
   "cell_type": "markdown",
   "metadata": {},
   "source": [
    "**Negrita**, negrita, <b>Negrita</b> <br>\n",
    "*Cursiva*, cursiva, <i>Cursiva</i> <br>\n",
    "<s>Tachado</s>"
   ]
  },
  {
   "attachments": {},
   "cell_type": "markdown",
   "metadata": {},
   "source": [
    "<font color=blue>Color azul en el texto</font> <br>\n",
    "No hay azul. <p>\n",
    "\n",
    "\n"
   ]
  },
  {
   "cell_type": "markdown",
   "metadata": {},
   "source": []
  }
 ],
 "metadata": {
  "kernelspec": {
   "display_name": "Python 3",
   "language": "python",
   "name": "python3"
  },
  "language_info": {
   "codemirror_mode": {
    "name": "ipython",
    "version": 3
   },
   "file_extension": ".py",
   "mimetype": "text/x-python",
   "name": "python",
   "nbconvert_exporter": "python",
   "pygments_lexer": "ipython3",
   "version": "3.10.4"
  },
  "orig_nbformat": 4,
  "vscode": {
   "interpreter": {
    "hash": "be3b2a8aac26c42044c9d23f04a79af7af72d0de392e42af99ddd24cb8435e3b"
   }
  }
 },
 "nbformat": 4,
 "nbformat_minor": 2
}
