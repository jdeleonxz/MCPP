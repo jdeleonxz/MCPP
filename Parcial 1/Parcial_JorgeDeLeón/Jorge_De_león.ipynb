{
 "cells": [
  {
   "attachments": {},
   "cell_type": "markdown",
   "id": "db056d70",
   "metadata": {},
   "source": [
    "<img style=\"float: left; padding-right: 20px; width: 130px\" src=\"https://research-data.urosario.edu.co/resources/images/UR-Logo.png\"> <br> \n",
    "# Métodos Computacionales para Políticas Públicas\n",
    "## Parcial 2023 - 1\n",
    "## JORGE DE LEÓN\n",
    "\n",
    "<b> Universidad del Rosario <br>"
   ]
  },
  {
   "cell_type": "markdown",
   "id": "a522a55c",
   "metadata": {},
   "source": [
    "La reducción de emisiones de CO2 es de vital importancia para enfrentar la crisis climática global. El dióxido de carbono es uno de los principales gases de efecto invernadero que contribuyen al calentamiento del planeta y al cambio climático. Si no tomamos medidas urgentes para reducir nuestras emisiones de CO2, el clima de la tierra se volverá cada vez más extremo e impredecible, lo que afectará a la salud humana, la biodiversidad y los recursos naturales. La reducción de las emisiones de CO2 es un desafío global que requiere la acción coordinada de los gobiernos, las empresas y las personas a nivel individual. En este parcial, usted tendrá como objetivo proponer una mejor aproximación a esta problemática."
   ]
  },
  {
   "cell_type": "code",
   "execution_count": 364,
   "id": "32cc192e",
   "metadata": {},
   "outputs": [],
   "source": [
    "# Importar librerías\n",
    "import pandas as pd\n",
    "import matplotlib.pyplot as plt\n",
    "import seaborn as sns\n",
    "import numpy as np\n",
    "import statsmodels.api as sm\n",
    "import statsmodels.formula.api as smf\n",
    "import seaborn"
   ]
  },
  {
   "cell_type": "markdown",
   "id": "15cefee9",
   "metadata": {},
   "source": [
    "1. Cargue las bases de datos disponibles en Kaggle e imprima los últimos cinco datos de cada una. ¿Cuántas filas y columnas tiene cada base? ¿Cuál es la base con mayor extensión (filas*columnas) y cuál la de menor extensión?"
   ]
  },
  {
   "cell_type": "code",
   "execution_count": 365,
   "id": "9d4a05cd",
   "metadata": {},
   "outputs": [
    {
     "data": {
      "text/html": [
       "<div>\n",
       "<style scoped>\n",
       "    .dataframe tbody tr th:only-of-type {\n",
       "        vertical-align: middle;\n",
       "    }\n",
       "\n",
       "    .dataframe tbody tr th {\n",
       "        vertical-align: top;\n",
       "    }\n",
       "\n",
       "    .dataframe thead th {\n",
       "        text-align: right;\n",
       "    }\n",
       "</style>\n",
       "<table border=\"1\" class=\"dataframe\">\n",
       "  <thead>\n",
       "    <tr style=\"text-align: right;\">\n",
       "      <th></th>\n",
       "      <th>Entity</th>\n",
       "      <th>Code</th>\n",
       "      <th>Year</th>\n",
       "      <th>Economic Complexity Index (ECI) (Observatory of Economic Complexity (2016))</th>\n",
       "    </tr>\n",
       "  </thead>\n",
       "  <tbody>\n",
       "    <tr>\n",
       "      <th>0</th>\n",
       "      <td>Albania</td>\n",
       "      <td>ALB</td>\n",
       "      <td>1964</td>\n",
       "      <td>-0.162675</td>\n",
       "    </tr>\n",
       "    <tr>\n",
       "      <th>1</th>\n",
       "      <td>Albania</td>\n",
       "      <td>ALB</td>\n",
       "      <td>1965</td>\n",
       "      <td>-0.144394</td>\n",
       "    </tr>\n",
       "    <tr>\n",
       "      <th>2</th>\n",
       "      <td>Albania</td>\n",
       "      <td>ALB</td>\n",
       "      <td>1966</td>\n",
       "      <td>0.001056</td>\n",
       "    </tr>\n",
       "    <tr>\n",
       "      <th>3</th>\n",
       "      <td>Albania</td>\n",
       "      <td>ALB</td>\n",
       "      <td>1967</td>\n",
       "      <td>0.210635</td>\n",
       "    </tr>\n",
       "    <tr>\n",
       "      <th>4</th>\n",
       "      <td>Albania</td>\n",
       "      <td>ALB</td>\n",
       "      <td>1968</td>\n",
       "      <td>0.056063</td>\n",
       "    </tr>\n",
       "  </tbody>\n",
       "</table>\n",
       "</div>"
      ],
      "text/plain": [
       "    Entity Code  Year  \\\n",
       "0  Albania  ALB  1964   \n",
       "1  Albania  ALB  1965   \n",
       "2  Albania  ALB  1966   \n",
       "3  Albania  ALB  1967   \n",
       "4  Albania  ALB  1968   \n",
       "\n",
       "   Economic Complexity Index (ECI) (Observatory of Economic Complexity (2016))  \n",
       "0                                          -0.162675                            \n",
       "1                                          -0.144394                            \n",
       "2                                           0.001056                            \n",
       "3                                           0.210635                            \n",
       "4                                           0.056063                            "
      ]
     },
     "execution_count": 365,
     "metadata": {},
     "output_type": "execute_result"
    }
   ],
   "source": [
    "# Economy complexity \n",
    "\n",
    "economic_complex = pd.read_csv(\"economic-complexity-index-eci-by-country-ranking (1).csv\")\n",
    "economic_complex.head()\n",
    "\n",
    "# Base de datos de 5653 filas y 4 columnas"
   ]
  },
  {
   "cell_type": "code",
   "execution_count": 366,
   "id": "ae2dcd33",
   "metadata": {},
   "outputs": [
    {
     "data": {
      "text/html": [
       "<div>\n",
       "<style scoped>\n",
       "    .dataframe tbody tr th:only-of-type {\n",
       "        vertical-align: middle;\n",
       "    }\n",
       "\n",
       "    .dataframe tbody tr th {\n",
       "        vertical-align: top;\n",
       "    }\n",
       "\n",
       "    .dataframe thead th {\n",
       "        text-align: right;\n",
       "    }\n",
       "</style>\n",
       "<table border=\"1\" class=\"dataframe\">\n",
       "  <thead>\n",
       "    <tr style=\"text-align: right;\">\n",
       "      <th></th>\n",
       "      <th>Entity</th>\n",
       "      <th>Code</th>\n",
       "      <th>Year</th>\n",
       "      <th>GDP per capita</th>\n",
       "      <th>145446-annotations</th>\n",
       "    </tr>\n",
       "  </thead>\n",
       "  <tbody>\n",
       "    <tr>\n",
       "      <th>0</th>\n",
       "      <td>Afghanistan</td>\n",
       "      <td>AFG</td>\n",
       "      <td>1950</td>\n",
       "      <td>1156.0</td>\n",
       "      <td>NaN</td>\n",
       "    </tr>\n",
       "    <tr>\n",
       "      <th>1</th>\n",
       "      <td>Afghanistan</td>\n",
       "      <td>AFG</td>\n",
       "      <td>1951</td>\n",
       "      <td>1170.0</td>\n",
       "      <td>NaN</td>\n",
       "    </tr>\n",
       "    <tr>\n",
       "      <th>2</th>\n",
       "      <td>Afghanistan</td>\n",
       "      <td>AFG</td>\n",
       "      <td>1952</td>\n",
       "      <td>1189.0</td>\n",
       "      <td>NaN</td>\n",
       "    </tr>\n",
       "    <tr>\n",
       "      <th>3</th>\n",
       "      <td>Afghanistan</td>\n",
       "      <td>AFG</td>\n",
       "      <td>1953</td>\n",
       "      <td>1240.0</td>\n",
       "      <td>NaN</td>\n",
       "    </tr>\n",
       "    <tr>\n",
       "      <th>4</th>\n",
       "      <td>Afghanistan</td>\n",
       "      <td>AFG</td>\n",
       "      <td>1954</td>\n",
       "      <td>1245.0</td>\n",
       "      <td>NaN</td>\n",
       "    </tr>\n",
       "  </tbody>\n",
       "</table>\n",
       "</div>"
      ],
      "text/plain": [
       "        Entity Code  Year  GDP per capita 145446-annotations\n",
       "0  Afghanistan  AFG  1950          1156.0                NaN\n",
       "1  Afghanistan  AFG  1951          1170.0                NaN\n",
       "2  Afghanistan  AFG  1952          1189.0                NaN\n",
       "3  Afghanistan  AFG  1953          1240.0                NaN\n",
       "4  Afghanistan  AFG  1954          1245.0                NaN"
      ]
     },
     "execution_count": 366,
     "metadata": {},
     "output_type": "execute_result"
    }
   ],
   "source": [
    "#GDP per capita\n",
    "gdp_perc = pd.read_csv(\"gdp_per_capita_maddison_2020.csv\")\n",
    "gdp_perc.head()\n",
    "\n",
    "#Base de datos de 19.878 filas y 5 columnas "
   ]
  },
  {
   "cell_type": "code",
   "execution_count": 367,
   "id": "0106b921",
   "metadata": {},
   "outputs": [
    {
     "data": {
      "text/html": [
       "<div>\n",
       "<style scoped>\n",
       "    .dataframe tbody tr th:only-of-type {\n",
       "        vertical-align: middle;\n",
       "    }\n",
       "\n",
       "    .dataframe tbody tr th {\n",
       "        vertical-align: top;\n",
       "    }\n",
       "\n",
       "    .dataframe thead th {\n",
       "        text-align: right;\n",
       "    }\n",
       "</style>\n",
       "<table border=\"1\" class=\"dataframe\">\n",
       "  <thead>\n",
       "    <tr style=\"text-align: right;\">\n",
       "      <th></th>\n",
       "      <th>Country Name</th>\n",
       "      <th>Country Code</th>\n",
       "      <th>Indicator Name</th>\n",
       "      <th>IndicatorCode</th>\n",
       "      <th>1960</th>\n",
       "      <th>1961</th>\n",
       "      <th>1962</th>\n",
       "      <th>1963</th>\n",
       "      <th>1964</th>\n",
       "      <th>1965</th>\n",
       "      <th>...</th>\n",
       "      <th>2013</th>\n",
       "      <th>2014</th>\n",
       "      <th>2015</th>\n",
       "      <th>2016</th>\n",
       "      <th>2017</th>\n",
       "      <th>2018</th>\n",
       "      <th>2019</th>\n",
       "      <th>2020</th>\n",
       "      <th>2021</th>\n",
       "      <th>2022</th>\n",
       "    </tr>\n",
       "  </thead>\n",
       "  <tbody>\n",
       "    <tr>\n",
       "      <th>0</th>\n",
       "      <td>ABW</td>\n",
       "      <td>Inflation</td>\n",
       "      <td>consumer prices (annual %)</td>\n",
       "      <td>FP.CPI.TOTL.ZG</td>\n",
       "      <td>NaN</td>\n",
       "      <td>NaN</td>\n",
       "      <td>NaN</td>\n",
       "      <td>NaN</td>\n",
       "      <td>NaN</td>\n",
       "      <td>NaN</td>\n",
       "      <td>...</td>\n",
       "      <td>-2.372065</td>\n",
       "      <td>0.421441</td>\n",
       "      <td>0.474764</td>\n",
       "      <td>-0.931196</td>\n",
       "      <td>-1.028282</td>\n",
       "      <td>3.626041</td>\n",
       "      <td>4.257462</td>\n",
       "      <td>NaN</td>\n",
       "      <td>NaN</td>\n",
       "      <td>NaN</td>\n",
       "    </tr>\n",
       "    <tr>\n",
       "      <th>1</th>\n",
       "      <td>AFE</td>\n",
       "      <td>Inflation</td>\n",
       "      <td>consumer prices (annual %)</td>\n",
       "      <td>FP.CPI.TOTL.ZG</td>\n",
       "      <td>NaN</td>\n",
       "      <td>NaN</td>\n",
       "      <td>NaN</td>\n",
       "      <td>NaN</td>\n",
       "      <td>NaN</td>\n",
       "      <td>NaN</td>\n",
       "      <td>...</td>\n",
       "      <td>5.750981</td>\n",
       "      <td>5.370290</td>\n",
       "      <td>5.250171</td>\n",
       "      <td>6.571396</td>\n",
       "      <td>6.399343</td>\n",
       "      <td>4.720811</td>\n",
       "      <td>4.120246</td>\n",
       "      <td>5.404815</td>\n",
       "      <td>7.240978</td>\n",
       "      <td>NaN</td>\n",
       "    </tr>\n",
       "    <tr>\n",
       "      <th>2</th>\n",
       "      <td>AFG</td>\n",
       "      <td>Inflation</td>\n",
       "      <td>consumer prices (annual %)</td>\n",
       "      <td>FP.CPI.TOTL.ZG</td>\n",
       "      <td>NaN</td>\n",
       "      <td>NaN</td>\n",
       "      <td>NaN</td>\n",
       "      <td>NaN</td>\n",
       "      <td>NaN</td>\n",
       "      <td>NaN</td>\n",
       "      <td>...</td>\n",
       "      <td>7.385772</td>\n",
       "      <td>4.673996</td>\n",
       "      <td>-0.661709</td>\n",
       "      <td>4.383892</td>\n",
       "      <td>4.975952</td>\n",
       "      <td>0.626149</td>\n",
       "      <td>2.302373</td>\n",
       "      <td>NaN</td>\n",
       "      <td>NaN</td>\n",
       "      <td>NaN</td>\n",
       "    </tr>\n",
       "    <tr>\n",
       "      <th>3</th>\n",
       "      <td>AFW</td>\n",
       "      <td>Inflation</td>\n",
       "      <td>consumer prices (annual %)</td>\n",
       "      <td>FP.CPI.TOTL.ZG</td>\n",
       "      <td>NaN</td>\n",
       "      <td>NaN</td>\n",
       "      <td>NaN</td>\n",
       "      <td>NaN</td>\n",
       "      <td>NaN</td>\n",
       "      <td>NaN</td>\n",
       "      <td>...</td>\n",
       "      <td>2.439201</td>\n",
       "      <td>1.758052</td>\n",
       "      <td>2.130268</td>\n",
       "      <td>1.494564</td>\n",
       "      <td>1.764635</td>\n",
       "      <td>1.784050</td>\n",
       "      <td>1.758565</td>\n",
       "      <td>2.492522</td>\n",
       "      <td>3.925603</td>\n",
       "      <td>NaN</td>\n",
       "    </tr>\n",
       "    <tr>\n",
       "      <th>4</th>\n",
       "      <td>AGO</td>\n",
       "      <td>Inflation</td>\n",
       "      <td>consumer prices (annual %)</td>\n",
       "      <td>FP.CPI.TOTL.ZG</td>\n",
       "      <td>NaN</td>\n",
       "      <td>NaN</td>\n",
       "      <td>NaN</td>\n",
       "      <td>NaN</td>\n",
       "      <td>NaN</td>\n",
       "      <td>NaN</td>\n",
       "      <td>...</td>\n",
       "      <td>8.777814</td>\n",
       "      <td>7.280387</td>\n",
       "      <td>9.150372</td>\n",
       "      <td>30.695313</td>\n",
       "      <td>29.843587</td>\n",
       "      <td>19.628608</td>\n",
       "      <td>17.081215</td>\n",
       "      <td>NaN</td>\n",
       "      <td>NaN</td>\n",
       "      <td>NaN</td>\n",
       "    </tr>\n",
       "  </tbody>\n",
       "</table>\n",
       "<p>5 rows × 67 columns</p>\n",
       "</div>"
      ],
      "text/plain": [
       "  Country Name Country Code               Indicator Name   IndicatorCode  \\\n",
       "0          ABW    Inflation   consumer prices (annual %)  FP.CPI.TOTL.ZG   \n",
       "1          AFE    Inflation   consumer prices (annual %)  FP.CPI.TOTL.ZG   \n",
       "2          AFG    Inflation   consumer prices (annual %)  FP.CPI.TOTL.ZG   \n",
       "3          AFW    Inflation   consumer prices (annual %)  FP.CPI.TOTL.ZG   \n",
       "4          AGO    Inflation   consumer prices (annual %)  FP.CPI.TOTL.ZG   \n",
       "\n",
       "   1960  1961  1962  1963  1964  1965  ...      2013      2014      2015  \\\n",
       "0   NaN   NaN   NaN   NaN   NaN   NaN  ... -2.372065  0.421441  0.474764   \n",
       "1   NaN   NaN   NaN   NaN   NaN   NaN  ...  5.750981  5.370290  5.250171   \n",
       "2   NaN   NaN   NaN   NaN   NaN   NaN  ...  7.385772  4.673996 -0.661709   \n",
       "3   NaN   NaN   NaN   NaN   NaN   NaN  ...  2.439201  1.758052  2.130268   \n",
       "4   NaN   NaN   NaN   NaN   NaN   NaN  ...  8.777814  7.280387  9.150372   \n",
       "\n",
       "        2016       2017       2018       2019      2020      2021  2022  \n",
       "0  -0.931196  -1.028282   3.626041   4.257462       NaN       NaN   NaN  \n",
       "1   6.571396   6.399343   4.720811   4.120246  5.404815  7.240978   NaN  \n",
       "2   4.383892   4.975952   0.626149   2.302373       NaN       NaN   NaN  \n",
       "3   1.494564   1.764635   1.784050   1.758565  2.492522  3.925603   NaN  \n",
       "4  30.695313  29.843587  19.628608  17.081215       NaN       NaN   NaN  \n",
       "\n",
       "[5 rows x 67 columns]"
      ]
     },
     "execution_count": 367,
     "metadata": {},
     "output_type": "execute_result"
    }
   ],
   "source": [
    "#Inflación\n",
    "inflation = pd.read_csv(\"inflation.csv\")\n",
    "inflation.head()\n",
    "\n",
    "# Base de datos con 253 filas y 67 columnas "
   ]
  },
  {
   "cell_type": "code",
   "execution_count": 368,
   "id": "a1c68120",
   "metadata": {},
   "outputs": [
    {
     "data": {
      "text/html": [
       "<div>\n",
       "<style scoped>\n",
       "    .dataframe tbody tr th:only-of-type {\n",
       "        vertical-align: middle;\n",
       "    }\n",
       "\n",
       "    .dataframe tbody tr th {\n",
       "        vertical-align: top;\n",
       "    }\n",
       "\n",
       "    .dataframe thead th {\n",
       "        text-align: right;\n",
       "    }\n",
       "</style>\n",
       "<table border=\"1\" class=\"dataframe\">\n",
       "  <thead>\n",
       "    <tr style=\"text-align: right;\">\n",
       "      <th></th>\n",
       "      <th>code</th>\n",
       "      <th>agriculture_va</th>\n",
       "      <th>annual_freshwater_withdrawals</th>\n",
       "      <th>births_attended_by_skilled_health_staff</th>\n",
       "      <th>co2_emissions</th>\n",
       "      <th>contraceptive_prevalence_any_method</th>\n",
       "      <th>domestic_credit_provided_by_financial_sector</th>\n",
       "      <th>electric_power_consumption</th>\n",
       "      <th>energy_use</th>\n",
       "      <th>exports_of_goods_and_services</th>\n",
       "      <th>...</th>\n",
       "      <th>school_enrollment_primary</th>\n",
       "      <th>statistical_capacity_score</th>\n",
       "      <th>surface_area</th>\n",
       "      <th>tax_revenue</th>\n",
       "      <th>teenage_fertility_rate</th>\n",
       "      <th>terrestrial_and_marine_protected_areas</th>\n",
       "      <th>time_required_to_start_a_business</th>\n",
       "      <th>total_debt_service</th>\n",
       "      <th>urban_population_growth</th>\n",
       "      <th>Year</th>\n",
       "    </tr>\n",
       "  </thead>\n",
       "  <tbody>\n",
       "    <tr>\n",
       "      <th>0</th>\n",
       "      <td>ABW</td>\n",
       "      <td>..</td>\n",
       "      <td>..</td>\n",
       "      <td>..</td>\n",
       "      <td>..</td>\n",
       "      <td>..</td>\n",
       "      <td>..</td>\n",
       "      <td>..</td>\n",
       "      <td>..</td>\n",
       "      <td>71.82175623</td>\n",
       "      <td>...</td>\n",
       "      <td>..</td>\n",
       "      <td>..</td>\n",
       "      <td>180</td>\n",
       "      <td>..</td>\n",
       "      <td>23.8416</td>\n",
       "      <td>0.527983105</td>\n",
       "      <td>..</td>\n",
       "      <td>..</td>\n",
       "      <td>0.697901383</td>\n",
       "      <td>2016</td>\n",
       "    </tr>\n",
       "    <tr>\n",
       "      <th>1</th>\n",
       "      <td>AFE</td>\n",
       "      <td>13.72088673</td>\n",
       "      <td>..</td>\n",
       "      <td>..</td>\n",
       "      <td>0.948409809</td>\n",
       "      <td>..</td>\n",
       "      <td>..</td>\n",
       "      <td>..</td>\n",
       "      <td>..</td>\n",
       "      <td>21.8672466</td>\n",
       "      <td>...</td>\n",
       "      <td>..</td>\n",
       "      <td>58.59904493</td>\n",
       "      <td>15162075.92</td>\n",
       "      <td>17.14113023</td>\n",
       "      <td>97.91660103</td>\n",
       "      <td>14.39985207</td>\n",
       "      <td>31.57692308</td>\n",
       "      <td>..</td>\n",
       "      <td>4.085542186</td>\n",
       "      <td>2016</td>\n",
       "    </tr>\n",
       "    <tr>\n",
       "      <th>2</th>\n",
       "      <td>AFG</td>\n",
       "      <td>25.74031404</td>\n",
       "      <td>..</td>\n",
       "      <td>..</td>\n",
       "      <td>0.149789334</td>\n",
       "      <td>22.5</td>\n",
       "      <td>..</td>\n",
       "      <td>..</td>\n",
       "      <td>..</td>\n",
       "      <td>..</td>\n",
       "      <td>...</td>\n",
       "      <td>102.4864731</td>\n",
       "      <td>51.1111</td>\n",
       "      <td>652860</td>\n",
       "      <td>9.502652783</td>\n",
       "      <td>75.325</td>\n",
       "      <td>0.10470704</td>\n",
       "      <td>8.5</td>\n",
       "      <td>4.373087744</td>\n",
       "      <td>3.649127826</td>\n",
       "      <td>2016</td>\n",
       "    </tr>\n",
       "    <tr>\n",
       "      <th>3</th>\n",
       "      <td>AFW</td>\n",
       "      <td>21.00614991</td>\n",
       "      <td>..</td>\n",
       "      <td>..</td>\n",
       "      <td>0.499404563</td>\n",
       "      <td>..</td>\n",
       "      <td>..</td>\n",
       "      <td>..</td>\n",
       "      <td>..</td>\n",
       "      <td>16.87936768</td>\n",
       "      <td>...</td>\n",
       "      <td>..</td>\n",
       "      <td>60.58202222</td>\n",
       "      <td>9166270</td>\n",
       "      <td>..</td>\n",
       "      <td>114.6991463</td>\n",
       "      <td>13.78676096</td>\n",
       "      <td>24.2</td>\n",
       "      <td>..</td>\n",
       "      <td>4.153637389</td>\n",
       "      <td>2016</td>\n",
       "    </tr>\n",
       "    <tr>\n",
       "      <th>4</th>\n",
       "      <td>AGO</td>\n",
       "      <td>9.83116886</td>\n",
       "      <td>..</td>\n",
       "      <td>49.6</td>\n",
       "      <td>1.031811348</td>\n",
       "      <td>13.7</td>\n",
       "      <td>27.54314251</td>\n",
       "      <td>..</td>\n",
       "      <td>..</td>\n",
       "      <td>28.12448545</td>\n",
       "      <td>...</td>\n",
       "      <td>..</td>\n",
       "      <td>42.22216667</td>\n",
       "      <td>1246700</td>\n",
       "      <td>9.732512484</td>\n",
       "      <td>153.9008</td>\n",
       "      <td>5.004713342</td>\n",
       "      <td>36</td>\n",
       "      <td>38.26572701</td>\n",
       "      <td>4.480204339</td>\n",
       "      <td>2016</td>\n",
       "    </tr>\n",
       "  </tbody>\n",
       "</table>\n",
       "<p>5 rows × 57 columns</p>\n",
       "</div>"
      ],
      "text/plain": [
       "  code agriculture_va annual_freshwater_withdrawals  \\\n",
       "0  ABW             ..                            ..   \n",
       "1  AFE    13.72088673                            ..   \n",
       "2  AFG    25.74031404                            ..   \n",
       "3  AFW    21.00614991                            ..   \n",
       "4  AGO     9.83116886                            ..   \n",
       "\n",
       "  births_attended_by_skilled_health_staff co2_emissions  \\\n",
       "0                                      ..            ..   \n",
       "1                                      ..   0.948409809   \n",
       "2                                      ..   0.149789334   \n",
       "3                                      ..   0.499404563   \n",
       "4                                    49.6   1.031811348   \n",
       "\n",
       "  contraceptive_prevalence_any_method  \\\n",
       "0                                  ..   \n",
       "1                                  ..   \n",
       "2                                22.5   \n",
       "3                                  ..   \n",
       "4                                13.7   \n",
       "\n",
       "  domestic_credit_provided_by_financial_sector electric_power_consumption  \\\n",
       "0                                           ..                         ..   \n",
       "1                                           ..                         ..   \n",
       "2                                           ..                         ..   \n",
       "3                                           ..                         ..   \n",
       "4                                  27.54314251                         ..   \n",
       "\n",
       "  energy_use exports_of_goods_and_services  ... school_enrollment_primary  \\\n",
       "0         ..                   71.82175623  ...                        ..   \n",
       "1         ..                    21.8672466  ...                        ..   \n",
       "2         ..                            ..  ...               102.4864731   \n",
       "3         ..                   16.87936768  ...                        ..   \n",
       "4         ..                   28.12448545  ...                        ..   \n",
       "\n",
       "  statistical_capacity_score surface_area  tax_revenue teenage_fertility_rate  \\\n",
       "0                         ..          180           ..                23.8416   \n",
       "1                58.59904493  15162075.92  17.14113023            97.91660103   \n",
       "2                    51.1111       652860  9.502652783                 75.325   \n",
       "3                60.58202222      9166270           ..            114.6991463   \n",
       "4                42.22216667      1246700  9.732512484               153.9008   \n",
       "\n",
       "  terrestrial_and_marine_protected_areas time_required_to_start_a_business  \\\n",
       "0                            0.527983105                                ..   \n",
       "1                            14.39985207                       31.57692308   \n",
       "2                             0.10470704                               8.5   \n",
       "3                            13.78676096                              24.2   \n",
       "4                            5.004713342                                36   \n",
       "\n",
       "  total_debt_service urban_population_growth  Year  \n",
       "0                 ..             0.697901383  2016  \n",
       "1                 ..             4.085542186  2016  \n",
       "2        4.373087744             3.649127826  2016  \n",
       "3                 ..             4.153637389  2016  \n",
       "4        38.26572701             4.480204339  2016  \n",
       "\n",
       "[5 rows x 57 columns]"
      ]
     },
     "execution_count": 368,
     "metadata": {},
     "output_type": "execute_result"
    }
   ],
   "source": [
    "# Others pre\n",
    "others_pre = pd.read_csv(\"Others_pre_raw.csv\")\n",
    "others_pre.head()\n",
    "\n",
    "# Base de datos con 266 filas y 57 columnas "
   ]
  },
  {
   "cell_type": "code",
   "execution_count": 369,
   "id": "a7b95385",
   "metadata": {},
   "outputs": [
    {
     "data": {
      "text/html": [
       "<div>\n",
       "<style scoped>\n",
       "    .dataframe tbody tr th:only-of-type {\n",
       "        vertical-align: middle;\n",
       "    }\n",
       "\n",
       "    .dataframe tbody tr th {\n",
       "        vertical-align: top;\n",
       "    }\n",
       "\n",
       "    .dataframe thead th {\n",
       "        text-align: right;\n",
       "    }\n",
       "</style>\n",
       "<table border=\"1\" class=\"dataframe\">\n",
       "  <thead>\n",
       "    <tr style=\"text-align: right;\">\n",
       "      <th></th>\n",
       "      <th>name</th>\n",
       "      <th>alpha-2</th>\n",
       "      <th>alpha-3</th>\n",
       "      <th>country-code</th>\n",
       "      <th>iso_3166-2</th>\n",
       "      <th>region</th>\n",
       "      <th>sub-region</th>\n",
       "      <th>intermediate-region</th>\n",
       "      <th>region-code</th>\n",
       "      <th>sub-region-code</th>\n",
       "      <th>intermediate-region-code</th>\n",
       "    </tr>\n",
       "  </thead>\n",
       "  <tbody>\n",
       "    <tr>\n",
       "      <th>0</th>\n",
       "      <td>Afghanistan</td>\n",
       "      <td>AF</td>\n",
       "      <td>AFG</td>\n",
       "      <td>4</td>\n",
       "      <td>ISO 3166-2:AF</td>\n",
       "      <td>Asia</td>\n",
       "      <td>Southern Asia</td>\n",
       "      <td>NaN</td>\n",
       "      <td>142.0</td>\n",
       "      <td>34.0</td>\n",
       "      <td>NaN</td>\n",
       "    </tr>\n",
       "    <tr>\n",
       "      <th>1</th>\n",
       "      <td>Åland Islands</td>\n",
       "      <td>AX</td>\n",
       "      <td>ALA</td>\n",
       "      <td>248</td>\n",
       "      <td>ISO 3166-2:AX</td>\n",
       "      <td>Europe</td>\n",
       "      <td>Northern Europe</td>\n",
       "      <td>NaN</td>\n",
       "      <td>150.0</td>\n",
       "      <td>154.0</td>\n",
       "      <td>NaN</td>\n",
       "    </tr>\n",
       "    <tr>\n",
       "      <th>2</th>\n",
       "      <td>Albania</td>\n",
       "      <td>AL</td>\n",
       "      <td>ALB</td>\n",
       "      <td>8</td>\n",
       "      <td>ISO 3166-2:AL</td>\n",
       "      <td>Europe</td>\n",
       "      <td>Southern Europe</td>\n",
       "      <td>NaN</td>\n",
       "      <td>150.0</td>\n",
       "      <td>39.0</td>\n",
       "      <td>NaN</td>\n",
       "    </tr>\n",
       "    <tr>\n",
       "      <th>3</th>\n",
       "      <td>Algeria</td>\n",
       "      <td>DZ</td>\n",
       "      <td>DZA</td>\n",
       "      <td>12</td>\n",
       "      <td>ISO 3166-2:DZ</td>\n",
       "      <td>Africa</td>\n",
       "      <td>Northern Africa</td>\n",
       "      <td>NaN</td>\n",
       "      <td>2.0</td>\n",
       "      <td>15.0</td>\n",
       "      <td>NaN</td>\n",
       "    </tr>\n",
       "    <tr>\n",
       "      <th>4</th>\n",
       "      <td>American Samoa</td>\n",
       "      <td>AS</td>\n",
       "      <td>ASM</td>\n",
       "      <td>16</td>\n",
       "      <td>ISO 3166-2:AS</td>\n",
       "      <td>Oceania</td>\n",
       "      <td>Polynesia</td>\n",
       "      <td>NaN</td>\n",
       "      <td>9.0</td>\n",
       "      <td>61.0</td>\n",
       "      <td>NaN</td>\n",
       "    </tr>\n",
       "  </tbody>\n",
       "</table>\n",
       "</div>"
      ],
      "text/plain": [
       "             name alpha-2 alpha-3  country-code     iso_3166-2   region  \\\n",
       "0     Afghanistan      AF     AFG             4  ISO 3166-2:AF     Asia   \n",
       "1   Åland Islands      AX     ALA           248  ISO 3166-2:AX   Europe   \n",
       "2         Albania      AL     ALB             8  ISO 3166-2:AL   Europe   \n",
       "3         Algeria      DZ     DZA            12  ISO 3166-2:DZ   Africa   \n",
       "4  American Samoa      AS     ASM            16  ISO 3166-2:AS  Oceania   \n",
       "\n",
       "        sub-region intermediate-region  region-code  sub-region-code  \\\n",
       "0    Southern Asia                 NaN        142.0             34.0   \n",
       "1  Northern Europe                 NaN        150.0            154.0   \n",
       "2  Southern Europe                 NaN        150.0             39.0   \n",
       "3  Northern Africa                 NaN          2.0             15.0   \n",
       "4        Polynesia                 NaN          9.0             61.0   \n",
       "\n",
       "   intermediate-region-code  \n",
       "0                       NaN  \n",
       "1                       NaN  \n",
       "2                       NaN  \n",
       "3                       NaN  \n",
       "4                       NaN  "
      ]
     },
     "execution_count": 369,
     "metadata": {},
     "output_type": "execute_result"
    }
   ],
   "source": [
    "# Regional codes\n",
    "codes = pd.read_csv(\"regional_codes.csv\")\n",
    "codes.head()\n",
    "\n",
    "# Base de datos con 249 filas y 11 columnas "
   ]
  },
  {
   "cell_type": "code",
   "execution_count": 370,
   "id": "068232eb",
   "metadata": {},
   "outputs": [
    {
     "data": {
      "text/html": [
       "<div>\n",
       "<style scoped>\n",
       "    .dataframe tbody tr th:only-of-type {\n",
       "        vertical-align: middle;\n",
       "    }\n",
       "\n",
       "    .dataframe tbody tr th {\n",
       "        vertical-align: top;\n",
       "    }\n",
       "\n",
       "    .dataframe thead th {\n",
       "        text-align: right;\n",
       "    }\n",
       "</style>\n",
       "<table border=\"1\" class=\"dataframe\">\n",
       "  <thead>\n",
       "    <tr style=\"text-align: right;\">\n",
       "      <th></th>\n",
       "      <th>Country Name</th>\n",
       "      <th>Country Code</th>\n",
       "      <th>Indicator Name</th>\n",
       "      <th>Indicator Code</th>\n",
       "      <th>1960</th>\n",
       "      <th>1961</th>\n",
       "      <th>1962</th>\n",
       "      <th>1963</th>\n",
       "      <th>1964</th>\n",
       "      <th>1965</th>\n",
       "      <th>...</th>\n",
       "      <th>2013</th>\n",
       "      <th>2014</th>\n",
       "      <th>2015</th>\n",
       "      <th>2016</th>\n",
       "      <th>2017</th>\n",
       "      <th>2018</th>\n",
       "      <th>2019</th>\n",
       "      <th>2020</th>\n",
       "      <th>2021</th>\n",
       "      <th>2022</th>\n",
       "    </tr>\n",
       "  </thead>\n",
       "  <tbody>\n",
       "    <tr>\n",
       "      <th>0</th>\n",
       "      <td>ABW</td>\n",
       "      <td>Unemployment</td>\n",
       "      <td>total (% of total labor force) (modeled ILO e...</td>\n",
       "      <td>SL.UEM.TOTL.ZS</td>\n",
       "      <td>NaN</td>\n",
       "      <td>NaN</td>\n",
       "      <td>NaN</td>\n",
       "      <td>NaN</td>\n",
       "      <td>NaN</td>\n",
       "      <td>NaN</td>\n",
       "      <td>...</td>\n",
       "      <td>NaN</td>\n",
       "      <td>NaN</td>\n",
       "      <td>NaN</td>\n",
       "      <td>NaN</td>\n",
       "      <td>NaN</td>\n",
       "      <td>NaN</td>\n",
       "      <td>NaN</td>\n",
       "      <td>NaN</td>\n",
       "      <td>NaN</td>\n",
       "      <td>NaN</td>\n",
       "    </tr>\n",
       "    <tr>\n",
       "      <th>1</th>\n",
       "      <td>AFE</td>\n",
       "      <td>Unemployment</td>\n",
       "      <td>total (% of total labor force) (modeled ILO e...</td>\n",
       "      <td>SL.UEM.TOTL.ZS</td>\n",
       "      <td>NaN</td>\n",
       "      <td>NaN</td>\n",
       "      <td>NaN</td>\n",
       "      <td>NaN</td>\n",
       "      <td>NaN</td>\n",
       "      <td>NaN</td>\n",
       "      <td>...</td>\n",
       "      <td>6.445456</td>\n",
       "      <td>6.405196</td>\n",
       "      <td>6.490041</td>\n",
       "      <td>6.610205</td>\n",
       "      <td>6.714955</td>\n",
       "      <td>6.731163</td>\n",
       "      <td>6.914353</td>\n",
       "      <td>7.563187</td>\n",
       "      <td>8.111735</td>\n",
       "      <td>NaN</td>\n",
       "    </tr>\n",
       "    <tr>\n",
       "      <th>2</th>\n",
       "      <td>AFG</td>\n",
       "      <td>Unemployment</td>\n",
       "      <td>total (% of total labor force) (modeled ILO e...</td>\n",
       "      <td>SL.UEM.TOTL.ZS</td>\n",
       "      <td>NaN</td>\n",
       "      <td>NaN</td>\n",
       "      <td>NaN</td>\n",
       "      <td>NaN</td>\n",
       "      <td>NaN</td>\n",
       "      <td>NaN</td>\n",
       "      <td>...</td>\n",
       "      <td>11.193000</td>\n",
       "      <td>11.142000</td>\n",
       "      <td>11.127000</td>\n",
       "      <td>11.158000</td>\n",
       "      <td>11.180000</td>\n",
       "      <td>11.152000</td>\n",
       "      <td>11.217000</td>\n",
       "      <td>11.710000</td>\n",
       "      <td>13.283000</td>\n",
       "      <td>NaN</td>\n",
       "    </tr>\n",
       "    <tr>\n",
       "      <th>3</th>\n",
       "      <td>AFW</td>\n",
       "      <td>Unemployment</td>\n",
       "      <td>total (% of total labor force) (modeled ILO e...</td>\n",
       "      <td>SL.UEM.TOTL.ZS</td>\n",
       "      <td>NaN</td>\n",
       "      <td>NaN</td>\n",
       "      <td>NaN</td>\n",
       "      <td>NaN</td>\n",
       "      <td>NaN</td>\n",
       "      <td>NaN</td>\n",
       "      <td>...</td>\n",
       "      <td>4.410216</td>\n",
       "      <td>4.688088</td>\n",
       "      <td>4.626737</td>\n",
       "      <td>5.567017</td>\n",
       "      <td>6.019505</td>\n",
       "      <td>6.041092</td>\n",
       "      <td>6.063362</td>\n",
       "      <td>6.774914</td>\n",
       "      <td>6.838999</td>\n",
       "      <td>NaN</td>\n",
       "    </tr>\n",
       "    <tr>\n",
       "      <th>4</th>\n",
       "      <td>AGO</td>\n",
       "      <td>Unemployment</td>\n",
       "      <td>total (% of total labor force) (modeled ILO e...</td>\n",
       "      <td>SL.UEM.TOTL.ZS</td>\n",
       "      <td>NaN</td>\n",
       "      <td>NaN</td>\n",
       "      <td>NaN</td>\n",
       "      <td>NaN</td>\n",
       "      <td>NaN</td>\n",
       "      <td>NaN</td>\n",
       "      <td>...</td>\n",
       "      <td>7.366000</td>\n",
       "      <td>7.372000</td>\n",
       "      <td>7.392000</td>\n",
       "      <td>7.412000</td>\n",
       "      <td>7.408000</td>\n",
       "      <td>7.421000</td>\n",
       "      <td>7.421000</td>\n",
       "      <td>8.333000</td>\n",
       "      <td>8.530000</td>\n",
       "      <td>NaN</td>\n",
       "    </tr>\n",
       "  </tbody>\n",
       "</table>\n",
       "<p>5 rows × 67 columns</p>\n",
       "</div>"
      ],
      "text/plain": [
       "  Country Name  Country Code  \\\n",
       "0          ABW  Unemployment   \n",
       "1          AFE  Unemployment   \n",
       "2          AFG  Unemployment   \n",
       "3          AFW  Unemployment   \n",
       "4          AGO  Unemployment   \n",
       "\n",
       "                                      Indicator Name  Indicator Code  1960  \\\n",
       "0   total (% of total labor force) (modeled ILO e...  SL.UEM.TOTL.ZS   NaN   \n",
       "1   total (% of total labor force) (modeled ILO e...  SL.UEM.TOTL.ZS   NaN   \n",
       "2   total (% of total labor force) (modeled ILO e...  SL.UEM.TOTL.ZS   NaN   \n",
       "3   total (% of total labor force) (modeled ILO e...  SL.UEM.TOTL.ZS   NaN   \n",
       "4   total (% of total labor force) (modeled ILO e...  SL.UEM.TOTL.ZS   NaN   \n",
       "\n",
       "   1961  1962  1963  1964  1965  ...       2013       2014       2015  \\\n",
       "0   NaN   NaN   NaN   NaN   NaN  ...        NaN        NaN        NaN   \n",
       "1   NaN   NaN   NaN   NaN   NaN  ...   6.445456   6.405196   6.490041   \n",
       "2   NaN   NaN   NaN   NaN   NaN  ...  11.193000  11.142000  11.127000   \n",
       "3   NaN   NaN   NaN   NaN   NaN  ...   4.410216   4.688088   4.626737   \n",
       "4   NaN   NaN   NaN   NaN   NaN  ...   7.366000   7.372000   7.392000   \n",
       "\n",
       "        2016       2017       2018       2019       2020       2021  2022  \n",
       "0        NaN        NaN        NaN        NaN        NaN        NaN   NaN  \n",
       "1   6.610205   6.714955   6.731163   6.914353   7.563187   8.111735   NaN  \n",
       "2  11.158000  11.180000  11.152000  11.217000  11.710000  13.283000   NaN  \n",
       "3   5.567017   6.019505   6.041092   6.063362   6.774914   6.838999   NaN  \n",
       "4   7.412000   7.408000   7.421000   7.421000   8.333000   8.530000   NaN  \n",
       "\n",
       "[5 rows x 67 columns]"
      ]
     },
     "execution_count": 370,
     "metadata": {},
     "output_type": "execute_result"
    }
   ],
   "source": [
    "#Desempleo\n",
    "\n",
    "unemplo = pd.read_csv(\"unemployment.csv\")\n",
    "unemplo.head()\n",
    "\n",
    "#Base de datos con 253 filas y 67 columnas "
   ]
  },
  {
   "cell_type": "markdown",
   "id": "572c103d",
   "metadata": {},
   "source": [
    "2. Una las bases en solamente un dataframe, ¿qué variable(s) usaría para hacer dicho cruce? Comente la limpieza, armonización y el procesamiento de las bases a medida que presenta el código.\n",
    "\n",
    "<b>Nota</b>: Conserve solamente las observaciones correspondientes a 2016. "
   ]
  },
  {
   "cell_type": "code",
   "execution_count": 371,
   "id": "d2ceacef",
   "metadata": {},
   "outputs": [],
   "source": [
    "# Primero limpiamos las observaciones y dejamos solamente las correspondientes al año 2016 en cada base de datos\n",
    "\n",
    "economic_complex = economic_complex.loc[economic_complex['Year'] == 2016]\n",
    "gdp_perc = gdp_perc.loc[gdp_perc['Year'] == 2016]\n",
    "\n",
    "# La base de datos others_pre_raw ya cuenta con información de solo 2016\n",
    "#En las demas bases de datos eliminamos las columnas diferentes a 2016. Nos quedamos solamente con las columnas que nos interesan\n",
    "\n",
    "columnas=['index', 'Country Name', 'Country Code', 'Indicator Name', 'IndicatorCode', '2016']\n",
    "inflation = inflation.loc[:, [col for col in inflation.columns if col in columnas]]\n",
    "\n",
    "columnas2=['index', 'Country Name', 'Country Code', 'Indicator Name', 'Indicator Code', '2016']\n",
    "unemplo = unemplo.loc[:, [col for col in unemplo.columns if col in columnas2]]"
   ]
  },
  {
   "cell_type": "code",
   "execution_count": 372,
   "id": "2b1c69d7",
   "metadata": {},
   "outputs": [],
   "source": [
    "# Para unir la base de datos se puede usar el codigo de 3 letras por pais presente en todas\n",
    "\n",
    "codes = codes.rename(columns={'alpha-3':'Country Name'})\n",
    "economic_complex = economic_complex.rename(columns={'Code':'Country Name'})\n",
    "gdp_perc = gdp_perc.rename(columns={'Code':'Country Name'})\n",
    "others_pre = others_pre.rename(columns={'code':'Country Name'})\n",
    "\n",
    "# Las demás bases de datos tienen dicha columna con el nombre 'Country Name'\n",
    "\n",
    "m1 = pd.merge(codes, economic_complex, on=['Country Name'], how = 'inner')\n",
    "m2 = pd.merge(m1, gdp_perc, on=['Country Name'], how='inner')\n",
    "m3 = pd.merge(m2, others_pre, on=['Country Name'], how='inner')\n",
    "m4 = pd.merge(m3, inflation, on=['Country Name'], how='inner')\n",
    "final_database = pd.merge(m4, unemplo, on=['Country Name'], how='inner')\n",
    "\n",
    "# Hacemos la conversion de las unidades de medida del CO2 \n",
    "final_database['co2_emissions'] = pd.to_numeric(final_database['co2_emissions'])\n",
    "final_database['population_total'] = pd.to_numeric(final_database['population_total'])\n",
    "\n",
    "final_database['co2_emissions'] = (final_database['co2_emissions']/final_database['population_total'])*1000000\n",
    "\n",
    "\n",
    "\n",
    "final_database = final_database.drop(columns=['Year_x', 'Entity_y', 'Year_y']) #Eliminamos columnas no necesarias o repetidas\n",
    "\n",
    "\n",
    "# Convertir los valores con .. en NaN\n",
    "\n",
    "for i in range(len(final_database)):\n",
    "    if final_database.loc[i,'co2_emissions'] == '..':\n",
    "        final_database.loc[i, 'co2_emissions'] = np.nan\n",
    "    else:\n",
    "        continue\n",
    "\n",
    "for i in range(len(final_database)):\n",
    "    if final_database.loc[i,'exports_of_goods_and_services'] == '..':\n",
    "        final_database.loc[i, 'exports_of_goods_and_services'] = np.nan\n",
    "    else:\n",
    "        continue\n",
    "\n",
    "for i in range(len(final_database)):\n",
    "    if final_database.loc[i,'imports_of_goods_and_services'] == '..':\n",
    "        final_database.loc[i, 'imports_of_goods_and_services'] = np.nan\n",
    "    else:\n",
    "        continue\n",
    "\n",
    "for i in range(len(final_database)):\n",
    "    if final_database.loc[i,'merchandise_trade'] == '..':\n",
    "        final_database.loc[i, 'merchandise_trade'] = np.nan\n",
    "    else:\n",
    "        continue\n",
    "\n",
    "for i in range(len(final_database)):\n",
    "    if final_database.loc[i,'population_total'] == '..':\n",
    "        final_database.loc[i, 'population_total'] = np.nan\n",
    "    else:\n",
    "        continue\n",
    "\n",
    "for i in range(len(final_database)):\n",
    "    if final_database.loc[i,'teenage_fertility_rate'] == '..':\n",
    "        final_database.loc[i, 'teenage_fertility_rate'] = np.nan\n",
    "    else:\n",
    "        continue\n",
    "\n",
    "for i in range(len(final_database)):\n",
    "    if final_database.loc[i,'mobile_cellular_subscriptions'] == '..':\n",
    "        final_database.loc[i, 'mobile_cellular_subscriptions'] = np.nan\n",
    "    else:\n",
    "        continue\n",
    "\n",
    "\n",
    "# Pasamos las variables de interes a numericas\n",
    "\n",
    "final_database['exports_of_goods_and_services'] = pd.to_numeric(final_database['exports_of_goods_and_services'])\n",
    "final_database['imports_of_goods_and_services'] = pd.to_numeric(final_database['imports_of_goods_and_services'])\n",
    "final_database['merchandise_trade'] = pd.to_numeric(final_database['merchandise_trade'])\n",
    "final_database['population_total'] = pd.to_numeric(final_database['population_total'])\n",
    "final_database['teenage_fertility_rate'] = pd.to_numeric(final_database['teenage_fertility_rate'])\n",
    "final_database['mobile_cellular_subscriptions'] = pd.to_numeric(final_database['mobile_cellular_subscriptions'])\n",
    "\n",
    "\n",
    "# Cambiar nan por la media de la variable\n",
    "\n",
    "for i in range(len(final_database)):\n",
    "    if final_database.loc[i,'co2_emissions'] == np.nan:\n",
    "        final_database.loc[i, 'co2_emissions'] = final_database['co2_emissions'].mean()\n",
    "    else:\n",
    "        continue\n",
    "\n",
    "for i in range(len(final_database)):\n",
    "    if final_database.loc[i,'exports_of_goods_and_services'] == np.nan:\n",
    "        final_database.loc[i, 'exports_of_goods_and_services'] = final_database['exports_of_goods_and_services'].mean()\n",
    "    else:\n",
    "        continue\n",
    "\n",
    "\n",
    "for i in range(len(final_database)):\n",
    "    if final_database.loc[i,'imports_of_goods_and_services'] == np.nan:\n",
    "        final_database.loc[i, 'imports_of_goods_and_services'] = final_database['imports_of_goods_and_services'].mean()\n",
    "    else:\n",
    "        continue\n",
    "\n",
    "for i in range(len(final_database)):\n",
    "    if final_database.loc[i,'merchandise_trade'] == np.nan:\n",
    "        final_database.loc[i, 'merchandise_trade'] = final_database['merchandise_trade'].mean()\n",
    "    else:\n",
    "        continue\n",
    "\n",
    "for i in range(len(final_database)):\n",
    "    if final_database.loc[i,'population_total'] == np.nan:\n",
    "        final_database.loc[i, 'population_total'] = final_database['population_total'].mean()\n",
    "    else:\n",
    "        continue\n",
    "\n",
    "for i in range(len(final_database)):\n",
    "    if final_database.loc[i,'teenage_fertility_rate'] == np.nan:\n",
    "        final_database.loc[i, 'teenage_fertility_rate'] = final_database['teenage_fertility_rate'].mean()\n",
    "    else:\n",
    "        continue\n",
    "\n",
    "for i in range(len(final_database)):\n",
    "    if final_database.loc[i,'mobile_cellular_subscriptions'] == np.nan:\n",
    "        final_database.loc[i, 'mobile_cellular_subscriptions'] = final_database['mobile_cellular_subscriptions'].mean()\n",
    "    else:\n",
    "        continue\n",
    "\n",
    "\n",
    "final_database['exports_of_goods_and_services'] = final_database['exports_of_goods_and_services']/final_database['population_total']\n",
    "final_database['imports_of_goods_and_services'] = final_database['imports_of_goods_and_services']/final_database['population_total']\n",
    "final_database['merchandise_trade'] = final_database['merchandise_trade']/final_database['population_total']\n",
    "final_database['teenage_fertility_rate'] = final_database['teenage_fertility_rate']/final_database['population_total']\n",
    "final_database['mobile_cellular_subscriptions'] = final_database['mobile_cellular_subscriptions']/final_database['population_total']\n",
    "# Cualquier otra modificación necesaria dentro del desarrollo de los demás puntos se realizará aqui"
   ]
  },
  {
   "cell_type": "markdown",
   "id": "8c49515f",
   "metadata": {},
   "source": [
    "3. Realice una gráfica considerando solamente las emisiones de CO2 (eje y) y el PIB per cápita (eje x), ¿Qué relación hay entre ambas variables? <p>\n",
    "\n",
    "<b>Nota:</b> En caso de que no exista alguna variable en el dataframe (e.g. PIB per cápita) deberá crearla e integrarla en el dataframe. Si necesita convertir una variable string a interger use el método `to_numeric` de Pandas. <p>\n",
    "\n",
    "Asegúrese de que el gráfico no tenga errores estéticos (e.g. ejes superpuestos, leyendas cruzadas, entre otros)."
   ]
  },
  {
   "cell_type": "code",
   "execution_count": 373,
   "id": "880a969f",
   "metadata": {},
   "outputs": [
    {
     "data": {
      "application/vnd.plotly.v1+json": {
       "config": {
        "plotlyServerURL": "https://plot.ly"
       },
       "data": [
        {
         "marker": {
          "line": {
           "color": "white",
           "width": 0.5
          },
          "size": 15
         },
         "mode": "markers",
         "name": "all",
         "opacity": 0.7,
         "type": "scattergl",
         "x": [
          1381,
          1534,
          1594,
          1635,
          2403,
          2660,
          3251,
          3407,
          3878,
          4879,
          5223,
          5859,
          6068,
          6125,
          7084,
          7410,
          8039,
          8280,
          8786,
          9376,
          9746,
          10342,
          10527,
          10899,
          10911,
          11073,
          11149,
          11529,
          11776,
          12139,
          12360,
          12569,
          12644,
          13184,
          13326,
          13873,
          14098,
          14331,
          14489,
          15198,
          16133,
          17037,
          17628,
          17906,
          18875,
          18918,
          19468,
          20376,
          21449,
          21696,
          22092,
          22574,
          23053,
          23279,
          23635,
          23842,
          24743,
          24838,
          24857,
          25346,
          25364,
          28823,
          30110,
          31701,
          33419,
          34295,
          37124,
          37334,
          37465,
          38515,
          38766,
          43745,
          44659,
          44689,
          44836,
          48845,
          53015,
          56597,
          59662,
          65729,
          75876,
          82814
         ],
         "y": [
          0.005131269801163877,
          0.05598160500481172,
          0.014469075583308582,
          0.00139467584968035,
          0.045061183188944226,
          0.003979787002001971,
          0.04453368040293563,
          0.18805885387694873,
          0.01980963713611292,
          0.26244360819146306,
          0.0043677032676637485,
          0.3350002589890982,
          1.0366579076215934,
          0.001251321043950164,
          0.8962565443621007,
          0.011349142852280988,
          0.04888742483760162,
          0.17747315153842658,
          0.15629206855006833,
          0.7427561466198255,
          1.948237063394072,
          0.5415888934359399,
          0.14638349078376503,
          0.694529707673095,
          0.0070530290283182,
          0.23172803310561924,
          0.048780248785549214,
          0.27189755173751345,
          0.05945088798318673,
          0.13456779690251766,
          1.9451203749691626,
          0.005127133791856116,
          1.699565802971305,
          0.9357704468569159,
          0.03562510536574867,
          0.010518735694333129,
          0.33661766819013844,
          0.09420366560482082,
          0.22744730296147106,
          1.4211378075627625,
          0.03111604692189614,
          0.8186065786996364,
          0.6149272784413845,
          0.058782372980323114,
          0.096393904635079,
          2.5307510734301406,
          0.5560896628320288,
          0.9687125118192083,
          0.6608189926216345,
          0.26084965104207397,
          1.8620833252957203,
          0.5756898517080271,
          0.25060861443043253,
          0.45942976901521426,
          0.07542791304761275,
          0.6384455662298448,
          1.3614125961263233,
          0.2079449732100956,
          9.235816482873407,
          0.457346687292721,
          1.068029516104263,
          0.9111723956809232,
          0.11432509019973341,
          0.8897212278258836,
          0.0906876471300201,
          1.4035173971701915,
          0.0705104527143594,
          0.0884600493086641,
          0.07231654923825113,
          3.5951060843893035,
          0.7337942058816626,
          0.42705125414825196,
          0.3938350535141037,
          0.11017793968230379,
          1.076497823676984,
          0.6578776529544759,
          0.04689325193407885,
          1.7166955970504707,
          0.565802595930082,
          1.4662092665913242,
          2.294704195877032,
          1.4145887129266317
         ]
        }
       ],
       "layout": {
        "legend": {
         "orientation": "h",
         "y": -0.3
        },
        "template": {
         "data": {
          "bar": [
           {
            "error_x": {
             "color": "#2a3f5f"
            },
            "error_y": {
             "color": "#2a3f5f"
            },
            "marker": {
             "line": {
              "color": "#E5ECF6",
              "width": 0.5
             },
             "pattern": {
              "fillmode": "overlay",
              "size": 10,
              "solidity": 0.2
             }
            },
            "type": "bar"
           }
          ],
          "barpolar": [
           {
            "marker": {
             "line": {
              "color": "#E5ECF6",
              "width": 0.5
             },
             "pattern": {
              "fillmode": "overlay",
              "size": 10,
              "solidity": 0.2
             }
            },
            "type": "barpolar"
           }
          ],
          "carpet": [
           {
            "aaxis": {
             "endlinecolor": "#2a3f5f",
             "gridcolor": "white",
             "linecolor": "white",
             "minorgridcolor": "white",
             "startlinecolor": "#2a3f5f"
            },
            "baxis": {
             "endlinecolor": "#2a3f5f",
             "gridcolor": "white",
             "linecolor": "white",
             "minorgridcolor": "white",
             "startlinecolor": "#2a3f5f"
            },
            "type": "carpet"
           }
          ],
          "choropleth": [
           {
            "colorbar": {
             "outlinewidth": 0,
             "ticks": ""
            },
            "type": "choropleth"
           }
          ],
          "contour": [
           {
            "colorbar": {
             "outlinewidth": 0,
             "ticks": ""
            },
            "colorscale": [
             [
              0,
              "#0d0887"
             ],
             [
              0.1111111111111111,
              "#46039f"
             ],
             [
              0.2222222222222222,
              "#7201a8"
             ],
             [
              0.3333333333333333,
              "#9c179e"
             ],
             [
              0.4444444444444444,
              "#bd3786"
             ],
             [
              0.5555555555555556,
              "#d8576b"
             ],
             [
              0.6666666666666666,
              "#ed7953"
             ],
             [
              0.7777777777777778,
              "#fb9f3a"
             ],
             [
              0.8888888888888888,
              "#fdca26"
             ],
             [
              1,
              "#f0f921"
             ]
            ],
            "type": "contour"
           }
          ],
          "contourcarpet": [
           {
            "colorbar": {
             "outlinewidth": 0,
             "ticks": ""
            },
            "type": "contourcarpet"
           }
          ],
          "heatmap": [
           {
            "colorbar": {
             "outlinewidth": 0,
             "ticks": ""
            },
            "colorscale": [
             [
              0,
              "#0d0887"
             ],
             [
              0.1111111111111111,
              "#46039f"
             ],
             [
              0.2222222222222222,
              "#7201a8"
             ],
             [
              0.3333333333333333,
              "#9c179e"
             ],
             [
              0.4444444444444444,
              "#bd3786"
             ],
             [
              0.5555555555555556,
              "#d8576b"
             ],
             [
              0.6666666666666666,
              "#ed7953"
             ],
             [
              0.7777777777777778,
              "#fb9f3a"
             ],
             [
              0.8888888888888888,
              "#fdca26"
             ],
             [
              1,
              "#f0f921"
             ]
            ],
            "type": "heatmap"
           }
          ],
          "heatmapgl": [
           {
            "colorbar": {
             "outlinewidth": 0,
             "ticks": ""
            },
            "colorscale": [
             [
              0,
              "#0d0887"
             ],
             [
              0.1111111111111111,
              "#46039f"
             ],
             [
              0.2222222222222222,
              "#7201a8"
             ],
             [
              0.3333333333333333,
              "#9c179e"
             ],
             [
              0.4444444444444444,
              "#bd3786"
             ],
             [
              0.5555555555555556,
              "#d8576b"
             ],
             [
              0.6666666666666666,
              "#ed7953"
             ],
             [
              0.7777777777777778,
              "#fb9f3a"
             ],
             [
              0.8888888888888888,
              "#fdca26"
             ],
             [
              1,
              "#f0f921"
             ]
            ],
            "type": "heatmapgl"
           }
          ],
          "histogram": [
           {
            "marker": {
             "pattern": {
              "fillmode": "overlay",
              "size": 10,
              "solidity": 0.2
             }
            },
            "type": "histogram"
           }
          ],
          "histogram2d": [
           {
            "colorbar": {
             "outlinewidth": 0,
             "ticks": ""
            },
            "colorscale": [
             [
              0,
              "#0d0887"
             ],
             [
              0.1111111111111111,
              "#46039f"
             ],
             [
              0.2222222222222222,
              "#7201a8"
             ],
             [
              0.3333333333333333,
              "#9c179e"
             ],
             [
              0.4444444444444444,
              "#bd3786"
             ],
             [
              0.5555555555555556,
              "#d8576b"
             ],
             [
              0.6666666666666666,
              "#ed7953"
             ],
             [
              0.7777777777777778,
              "#fb9f3a"
             ],
             [
              0.8888888888888888,
              "#fdca26"
             ],
             [
              1,
              "#f0f921"
             ]
            ],
            "type": "histogram2d"
           }
          ],
          "histogram2dcontour": [
           {
            "colorbar": {
             "outlinewidth": 0,
             "ticks": ""
            },
            "colorscale": [
             [
              0,
              "#0d0887"
             ],
             [
              0.1111111111111111,
              "#46039f"
             ],
             [
              0.2222222222222222,
              "#7201a8"
             ],
             [
              0.3333333333333333,
              "#9c179e"
             ],
             [
              0.4444444444444444,
              "#bd3786"
             ],
             [
              0.5555555555555556,
              "#d8576b"
             ],
             [
              0.6666666666666666,
              "#ed7953"
             ],
             [
              0.7777777777777778,
              "#fb9f3a"
             ],
             [
              0.8888888888888888,
              "#fdca26"
             ],
             [
              1,
              "#f0f921"
             ]
            ],
            "type": "histogram2dcontour"
           }
          ],
          "mesh3d": [
           {
            "colorbar": {
             "outlinewidth": 0,
             "ticks": ""
            },
            "type": "mesh3d"
           }
          ],
          "parcoords": [
           {
            "line": {
             "colorbar": {
              "outlinewidth": 0,
              "ticks": ""
             }
            },
            "type": "parcoords"
           }
          ],
          "pie": [
           {
            "automargin": true,
            "type": "pie"
           }
          ],
          "scatter": [
           {
            "fillpattern": {
             "fillmode": "overlay",
             "size": 10,
             "solidity": 0.2
            },
            "type": "scatter"
           }
          ],
          "scatter3d": [
           {
            "line": {
             "colorbar": {
              "outlinewidth": 0,
              "ticks": ""
             }
            },
            "marker": {
             "colorbar": {
              "outlinewidth": 0,
              "ticks": ""
             }
            },
            "type": "scatter3d"
           }
          ],
          "scattercarpet": [
           {
            "marker": {
             "colorbar": {
              "outlinewidth": 0,
              "ticks": ""
             }
            },
            "type": "scattercarpet"
           }
          ],
          "scattergeo": [
           {
            "marker": {
             "colorbar": {
              "outlinewidth": 0,
              "ticks": ""
             }
            },
            "type": "scattergeo"
           }
          ],
          "scattergl": [
           {
            "marker": {
             "colorbar": {
              "outlinewidth": 0,
              "ticks": ""
             }
            },
            "type": "scattergl"
           }
          ],
          "scattermapbox": [
           {
            "marker": {
             "colorbar": {
              "outlinewidth": 0,
              "ticks": ""
             }
            },
            "type": "scattermapbox"
           }
          ],
          "scatterpolar": [
           {
            "marker": {
             "colorbar": {
              "outlinewidth": 0,
              "ticks": ""
             }
            },
            "type": "scatterpolar"
           }
          ],
          "scatterpolargl": [
           {
            "marker": {
             "colorbar": {
              "outlinewidth": 0,
              "ticks": ""
             }
            },
            "type": "scatterpolargl"
           }
          ],
          "scatterternary": [
           {
            "marker": {
             "colorbar": {
              "outlinewidth": 0,
              "ticks": ""
             }
            },
            "type": "scatterternary"
           }
          ],
          "surface": [
           {
            "colorbar": {
             "outlinewidth": 0,
             "ticks": ""
            },
            "colorscale": [
             [
              0,
              "#0d0887"
             ],
             [
              0.1111111111111111,
              "#46039f"
             ],
             [
              0.2222222222222222,
              "#7201a8"
             ],
             [
              0.3333333333333333,
              "#9c179e"
             ],
             [
              0.4444444444444444,
              "#bd3786"
             ],
             [
              0.5555555555555556,
              "#d8576b"
             ],
             [
              0.6666666666666666,
              "#ed7953"
             ],
             [
              0.7777777777777778,
              "#fb9f3a"
             ],
             [
              0.8888888888888888,
              "#fdca26"
             ],
             [
              1,
              "#f0f921"
             ]
            ],
            "type": "surface"
           }
          ],
          "table": [
           {
            "cells": {
             "fill": {
              "color": "#EBF0F8"
             },
             "line": {
              "color": "white"
             }
            },
            "header": {
             "fill": {
              "color": "#C8D4E3"
             },
             "line": {
              "color": "white"
             }
            },
            "type": "table"
           }
          ]
         },
         "layout": {
          "annotationdefaults": {
           "arrowcolor": "#2a3f5f",
           "arrowhead": 0,
           "arrowwidth": 1
          },
          "autotypenumbers": "strict",
          "coloraxis": {
           "colorbar": {
            "outlinewidth": 0,
            "ticks": ""
           }
          },
          "colorscale": {
           "diverging": [
            [
             0,
             "#8e0152"
            ],
            [
             0.1,
             "#c51b7d"
            ],
            [
             0.2,
             "#de77ae"
            ],
            [
             0.3,
             "#f1b6da"
            ],
            [
             0.4,
             "#fde0ef"
            ],
            [
             0.5,
             "#f7f7f7"
            ],
            [
             0.6,
             "#e6f5d0"
            ],
            [
             0.7,
             "#b8e186"
            ],
            [
             0.8,
             "#7fbc41"
            ],
            [
             0.9,
             "#4d9221"
            ],
            [
             1,
             "#276419"
            ]
           ],
           "sequential": [
            [
             0,
             "#0d0887"
            ],
            [
             0.1111111111111111,
             "#46039f"
            ],
            [
             0.2222222222222222,
             "#7201a8"
            ],
            [
             0.3333333333333333,
             "#9c179e"
            ],
            [
             0.4444444444444444,
             "#bd3786"
            ],
            [
             0.5555555555555556,
             "#d8576b"
            ],
            [
             0.6666666666666666,
             "#ed7953"
            ],
            [
             0.7777777777777778,
             "#fb9f3a"
            ],
            [
             0.8888888888888888,
             "#fdca26"
            ],
            [
             1,
             "#f0f921"
            ]
           ],
           "sequentialminus": [
            [
             0,
             "#0d0887"
            ],
            [
             0.1111111111111111,
             "#46039f"
            ],
            [
             0.2222222222222222,
             "#7201a8"
            ],
            [
             0.3333333333333333,
             "#9c179e"
            ],
            [
             0.4444444444444444,
             "#bd3786"
            ],
            [
             0.5555555555555556,
             "#d8576b"
            ],
            [
             0.6666666666666666,
             "#ed7953"
            ],
            [
             0.7777777777777778,
             "#fb9f3a"
            ],
            [
             0.8888888888888888,
             "#fdca26"
            ],
            [
             1,
             "#f0f921"
            ]
           ]
          },
          "colorway": [
           "#636efa",
           "#EF553B",
           "#00cc96",
           "#ab63fa",
           "#FFA15A",
           "#19d3f3",
           "#FF6692",
           "#B6E880",
           "#FF97FF",
           "#FECB52"
          ],
          "font": {
           "color": "#2a3f5f"
          },
          "geo": {
           "bgcolor": "white",
           "lakecolor": "white",
           "landcolor": "#E5ECF6",
           "showlakes": true,
           "showland": true,
           "subunitcolor": "white"
          },
          "hoverlabel": {
           "align": "left"
          },
          "hovermode": "closest",
          "mapbox": {
           "style": "light"
          },
          "paper_bgcolor": "white",
          "plot_bgcolor": "#E5ECF6",
          "polar": {
           "angularaxis": {
            "gridcolor": "white",
            "linecolor": "white",
            "ticks": ""
           },
           "bgcolor": "#E5ECF6",
           "radialaxis": {
            "gridcolor": "white",
            "linecolor": "white",
            "ticks": ""
           }
          },
          "scene": {
           "xaxis": {
            "backgroundcolor": "#E5ECF6",
            "gridcolor": "white",
            "gridwidth": 2,
            "linecolor": "white",
            "showbackground": true,
            "ticks": "",
            "zerolinecolor": "white"
           },
           "yaxis": {
            "backgroundcolor": "#E5ECF6",
            "gridcolor": "white",
            "gridwidth": 2,
            "linecolor": "white",
            "showbackground": true,
            "ticks": "",
            "zerolinecolor": "white"
           },
           "zaxis": {
            "backgroundcolor": "#E5ECF6",
            "gridcolor": "white",
            "gridwidth": 2,
            "linecolor": "white",
            "showbackground": true,
            "ticks": "",
            "zerolinecolor": "white"
           }
          },
          "shapedefaults": {
           "line": {
            "color": "#2a3f5f"
           }
          },
          "ternary": {
           "aaxis": {
            "gridcolor": "white",
            "linecolor": "white",
            "ticks": ""
           },
           "baxis": {
            "gridcolor": "white",
            "linecolor": "white",
            "ticks": ""
           },
           "bgcolor": "#E5ECF6",
           "caxis": {
            "gridcolor": "white",
            "linecolor": "white",
            "ticks": ""
           }
          },
          "title": {
           "x": 0.05
          },
          "xaxis": {
           "automargin": true,
           "gridcolor": "white",
           "linecolor": "white",
           "ticks": "",
           "title": {
            "standoff": 15
           },
           "zerolinecolor": "white",
           "zerolinewidth": 2
          },
          "yaxis": {
           "automargin": true,
           "gridcolor": "white",
           "linecolor": "white",
           "ticks": "",
           "title": {
            "standoff": 15
           },
           "zerolinecolor": "white",
           "zerolinewidth": 2
          }
         }
        },
        "title": {
         "text": "co2_emissions by GDP per capita"
        },
        "xaxis": {
         "title": {
          "text": "GDP per capita"
         }
        },
        "yaxis": {
         "title": {
          "text": "co2_emissions"
         },
         "type": "linear"
        }
       }
      }
     },
     "metadata": {},
     "output_type": "display_data"
    }
   ],
   "source": [
    "\n",
    "df = final_database\n",
    "\n",
    "if isinstance(df, (pd.DatetimeIndex, pd.MultiIndex)):\n",
    "\tdf = df.to_frame(index=False)\n",
    "\n",
    "# remove any pre-existing indices for ease of use in the D-Tale code, but this is not required\n",
    "df = df.reset_index().drop('index', axis=1, errors='ignore')\n",
    "df.columns = [str(c) for c in df.columns]  # update columns to strings in case they are numbers\n",
    "\n",
    "chart_data = pd.concat([\n",
    "\tdf['GDP per capita'],\n",
    "\tdf['co2_emissions'],\n",
    "], axis=1)\n",
    "chart_data = chart_data.sort_values(['GDP per capita'])\n",
    "chart_data = chart_data.rename(columns={'GDP per capita': 'x'})\n",
    "chart_data = chart_data.dropna()\n",
    "\n",
    "import plotly.graph_objs as go\n",
    "\n",
    "chart = go.Scattergl(\n",
    "\tx=chart_data['x'], y=chart_data['co2_emissions'], mode='markers', opacity=0.7, name='all',\n",
    "\tmarker={'size': 15, 'line': {'width': 0.5, 'color': 'white'}}\n",
    ")\n",
    "\n",
    "figure = go.Figure(data=[chart], layout=go.Layout({\n",
    "    'legend': {'orientation': 'h', 'y': -0.3},\n",
    "    'title': {'text': 'co2_emissions by GDP per capita'},\n",
    "    'xaxis': {'title': {'text': 'GDP per capita'}},\n",
    "    'yaxis': {'title': {'text': 'co2_emissions'}, 'type': 'linear'}\n",
    "}))\n",
    "\n",
    "figure.show()"
   ]
  },
  {
   "cell_type": "markdown",
   "id": "0316598b",
   "metadata": {},
   "source": [
    "4. Realice la misma gráfica identificando con colores diferentes la región y subregión (base de datos `regional_codes.csv`). ¿Qué relación observa?"
   ]
  },
  {
   "cell_type": "code",
   "execution_count": 374,
   "id": "ec8a05eb",
   "metadata": {},
   "outputs": [
    {
     "data": {
      "application/vnd.plotly.v1+json": {
       "config": {
        "plotlyServerURL": "https://plot.ly"
       },
       "data": [
        {
         "marker": {
          "color": "#636EFA",
          "line": {
           "color": "white",
           "width": 0.5
          },
          "size": 15
         },
         "mode": "markers",
         "name": "(region: Africa)",
         "opacity": 0.7,
         "type": "scattergl",
         "x": [
          1381,
          1534,
          1594,
          1635,
          2403,
          2660,
          3407,
          3878,
          8039,
          9376,
          11073,
          12139,
          14331,
          15198,
          18918
         ],
         "y": [
          0.005131269801163877,
          0.05598160500481172,
          0.014469075583308582,
          0.00139467584968035,
          0.045061183188944226,
          0.003979787002001971,
          0.18805885387694873,
          0.01980963713611292,
          0.04888742483760162,
          0.7427561466198255,
          0.23172803310561924,
          0.13456779690251766,
          0.09420366560482082,
          1.4211378075627625,
          2.5307510734301406
         ]
        },
        {
         "marker": {
          "color": "#EF553B",
          "line": {
           "color": "white",
           "width": 0.5
          },
          "size": 15
         },
         "mode": "markers",
         "name": "(region: Americas)",
         "opacity": 0.7,
         "type": "scattergl",
         "x": [
          7084,
          8280,
          8786,
          10527,
          11776,
          13326,
          13873,
          14098,
          14489,
          16133,
          18875,
          19468,
          21449,
          21696,
          43745,
          53015
         ],
         "y": [
          0.8962565443621007,
          0.17747315153842658,
          0.15629206855006833,
          0.14638349078376503,
          0.05945088798318673,
          0.03562510536574867,
          0.010518735694333129,
          0.33661766819013844,
          0.22744730296147106,
          0.03111604692189614,
          0.096393904635079,
          0.5560896628320288,
          0.6608189926216345,
          0.26084965104207397,
          0.42705125414825196,
          0.04689325193407885
         ]
        },
        {
         "marker": {
          "color": "#00CC96",
          "line": {
           "color": "white",
           "width": 0.5
          },
          "size": 15
         },
         "mode": "markers",
         "name": "(region: Asia)",
         "opacity": 0.7,
         "type": "scattergl",
         "x": [
          3251,
          4879,
          5223,
          5859,
          6125,
          7410,
          10899,
          10911,
          11149,
          11529,
          12360,
          12569,
          17906,
          23053,
          23842,
          31701,
          37465,
          38515,
          65729,
          75876
         ],
         "y": [
          0.04453368040293563,
          0.26244360819146306,
          0.0043677032676637485,
          0.3350002589890982,
          0.001251321043950164,
          0.011349142852280988,
          0.694529707673095,
          0.0070530290283182,
          0.048780248785549214,
          0.27189755173751345,
          1.9451203749691626,
          0.005127133791856116,
          0.058782372980323114,
          0.25060861443043253,
          0.6384455662298448,
          0.8897212278258836,
          0.07231654923825113,
          3.5951060843893035,
          1.4662092665913242,
          2.294704195877032
         ]
        },
        {
         "marker": {
          "color": "#AB63FA",
          "line": {
           "color": "white",
           "width": 0.5
          },
          "size": 15
         },
         "mode": "markers",
         "name": "(region: Europe)",
         "opacity": 0.7,
         "type": "scattergl",
         "x": [
          6068,
          9746,
          10342,
          12644,
          13184,
          17037,
          17628,
          20376,
          22092,
          22574,
          23279,
          23635,
          24743,
          24838,
          24857,
          25346,
          25364,
          28823,
          30110,
          33419,
          37124,
          37334,
          38766,
          44659,
          44689,
          44836,
          56597,
          59662,
          82814
         ],
         "y": [
          1.0366579076215934,
          1.948237063394072,
          0.5415888934359399,
          1.699565802971305,
          0.9357704468569159,
          0.8186065786996364,
          0.6149272784413845,
          0.9687125118192083,
          1.8620833252957203,
          0.5756898517080271,
          0.45942976901521426,
          0.07542791304761275,
          1.3614125961263233,
          0.2079449732100956,
          9.235816482873407,
          0.457346687292721,
          1.068029516104263,
          0.9111723956809232,
          0.11432509019973341,
          0.0906876471300201,
          0.0705104527143594,
          0.0884600493086641,
          0.7337942058816626,
          0.3938350535141037,
          0.11017793968230379,
          1.076497823676984,
          1.7166955970504707,
          0.565802595930082,
          1.4145887129266317
         ]
        },
        {
         "marker": {
          "color": "#FFA15A",
          "line": {
           "color": "white",
           "width": 0.5
          },
          "size": 15
         },
         "mode": "markers",
         "name": "(region: Oceania)",
         "opacity": 0.7,
         "type": "scattergl",
         "x": [
          34295,
          48845
         ],
         "y": [
          1.4035173971701915,
          0.6578776529544759
         ]
        }
       ],
       "layout": {
        "legend": {
         "orientation": "h",
         "y": -0.3
        },
        "template": {
         "data": {
          "bar": [
           {
            "error_x": {
             "color": "#2a3f5f"
            },
            "error_y": {
             "color": "#2a3f5f"
            },
            "marker": {
             "line": {
              "color": "#E5ECF6",
              "width": 0.5
             },
             "pattern": {
              "fillmode": "overlay",
              "size": 10,
              "solidity": 0.2
             }
            },
            "type": "bar"
           }
          ],
          "barpolar": [
           {
            "marker": {
             "line": {
              "color": "#E5ECF6",
              "width": 0.5
             },
             "pattern": {
              "fillmode": "overlay",
              "size": 10,
              "solidity": 0.2
             }
            },
            "type": "barpolar"
           }
          ],
          "carpet": [
           {
            "aaxis": {
             "endlinecolor": "#2a3f5f",
             "gridcolor": "white",
             "linecolor": "white",
             "minorgridcolor": "white",
             "startlinecolor": "#2a3f5f"
            },
            "baxis": {
             "endlinecolor": "#2a3f5f",
             "gridcolor": "white",
             "linecolor": "white",
             "minorgridcolor": "white",
             "startlinecolor": "#2a3f5f"
            },
            "type": "carpet"
           }
          ],
          "choropleth": [
           {
            "colorbar": {
             "outlinewidth": 0,
             "ticks": ""
            },
            "type": "choropleth"
           }
          ],
          "contour": [
           {
            "colorbar": {
             "outlinewidth": 0,
             "ticks": ""
            },
            "colorscale": [
             [
              0,
              "#0d0887"
             ],
             [
              0.1111111111111111,
              "#46039f"
             ],
             [
              0.2222222222222222,
              "#7201a8"
             ],
             [
              0.3333333333333333,
              "#9c179e"
             ],
             [
              0.4444444444444444,
              "#bd3786"
             ],
             [
              0.5555555555555556,
              "#d8576b"
             ],
             [
              0.6666666666666666,
              "#ed7953"
             ],
             [
              0.7777777777777778,
              "#fb9f3a"
             ],
             [
              0.8888888888888888,
              "#fdca26"
             ],
             [
              1,
              "#f0f921"
             ]
            ],
            "type": "contour"
           }
          ],
          "contourcarpet": [
           {
            "colorbar": {
             "outlinewidth": 0,
             "ticks": ""
            },
            "type": "contourcarpet"
           }
          ],
          "heatmap": [
           {
            "colorbar": {
             "outlinewidth": 0,
             "ticks": ""
            },
            "colorscale": [
             [
              0,
              "#0d0887"
             ],
             [
              0.1111111111111111,
              "#46039f"
             ],
             [
              0.2222222222222222,
              "#7201a8"
             ],
             [
              0.3333333333333333,
              "#9c179e"
             ],
             [
              0.4444444444444444,
              "#bd3786"
             ],
             [
              0.5555555555555556,
              "#d8576b"
             ],
             [
              0.6666666666666666,
              "#ed7953"
             ],
             [
              0.7777777777777778,
              "#fb9f3a"
             ],
             [
              0.8888888888888888,
              "#fdca26"
             ],
             [
              1,
              "#f0f921"
             ]
            ],
            "type": "heatmap"
           }
          ],
          "heatmapgl": [
           {
            "colorbar": {
             "outlinewidth": 0,
             "ticks": ""
            },
            "colorscale": [
             [
              0,
              "#0d0887"
             ],
             [
              0.1111111111111111,
              "#46039f"
             ],
             [
              0.2222222222222222,
              "#7201a8"
             ],
             [
              0.3333333333333333,
              "#9c179e"
             ],
             [
              0.4444444444444444,
              "#bd3786"
             ],
             [
              0.5555555555555556,
              "#d8576b"
             ],
             [
              0.6666666666666666,
              "#ed7953"
             ],
             [
              0.7777777777777778,
              "#fb9f3a"
             ],
             [
              0.8888888888888888,
              "#fdca26"
             ],
             [
              1,
              "#f0f921"
             ]
            ],
            "type": "heatmapgl"
           }
          ],
          "histogram": [
           {
            "marker": {
             "pattern": {
              "fillmode": "overlay",
              "size": 10,
              "solidity": 0.2
             }
            },
            "type": "histogram"
           }
          ],
          "histogram2d": [
           {
            "colorbar": {
             "outlinewidth": 0,
             "ticks": ""
            },
            "colorscale": [
             [
              0,
              "#0d0887"
             ],
             [
              0.1111111111111111,
              "#46039f"
             ],
             [
              0.2222222222222222,
              "#7201a8"
             ],
             [
              0.3333333333333333,
              "#9c179e"
             ],
             [
              0.4444444444444444,
              "#bd3786"
             ],
             [
              0.5555555555555556,
              "#d8576b"
             ],
             [
              0.6666666666666666,
              "#ed7953"
             ],
             [
              0.7777777777777778,
              "#fb9f3a"
             ],
             [
              0.8888888888888888,
              "#fdca26"
             ],
             [
              1,
              "#f0f921"
             ]
            ],
            "type": "histogram2d"
           }
          ],
          "histogram2dcontour": [
           {
            "colorbar": {
             "outlinewidth": 0,
             "ticks": ""
            },
            "colorscale": [
             [
              0,
              "#0d0887"
             ],
             [
              0.1111111111111111,
              "#46039f"
             ],
             [
              0.2222222222222222,
              "#7201a8"
             ],
             [
              0.3333333333333333,
              "#9c179e"
             ],
             [
              0.4444444444444444,
              "#bd3786"
             ],
             [
              0.5555555555555556,
              "#d8576b"
             ],
             [
              0.6666666666666666,
              "#ed7953"
             ],
             [
              0.7777777777777778,
              "#fb9f3a"
             ],
             [
              0.8888888888888888,
              "#fdca26"
             ],
             [
              1,
              "#f0f921"
             ]
            ],
            "type": "histogram2dcontour"
           }
          ],
          "mesh3d": [
           {
            "colorbar": {
             "outlinewidth": 0,
             "ticks": ""
            },
            "type": "mesh3d"
           }
          ],
          "parcoords": [
           {
            "line": {
             "colorbar": {
              "outlinewidth": 0,
              "ticks": ""
             }
            },
            "type": "parcoords"
           }
          ],
          "pie": [
           {
            "automargin": true,
            "type": "pie"
           }
          ],
          "scatter": [
           {
            "fillpattern": {
             "fillmode": "overlay",
             "size": 10,
             "solidity": 0.2
            },
            "type": "scatter"
           }
          ],
          "scatter3d": [
           {
            "line": {
             "colorbar": {
              "outlinewidth": 0,
              "ticks": ""
             }
            },
            "marker": {
             "colorbar": {
              "outlinewidth": 0,
              "ticks": ""
             }
            },
            "type": "scatter3d"
           }
          ],
          "scattercarpet": [
           {
            "marker": {
             "colorbar": {
              "outlinewidth": 0,
              "ticks": ""
             }
            },
            "type": "scattercarpet"
           }
          ],
          "scattergeo": [
           {
            "marker": {
             "colorbar": {
              "outlinewidth": 0,
              "ticks": ""
             }
            },
            "type": "scattergeo"
           }
          ],
          "scattergl": [
           {
            "marker": {
             "colorbar": {
              "outlinewidth": 0,
              "ticks": ""
             }
            },
            "type": "scattergl"
           }
          ],
          "scattermapbox": [
           {
            "marker": {
             "colorbar": {
              "outlinewidth": 0,
              "ticks": ""
             }
            },
            "type": "scattermapbox"
           }
          ],
          "scatterpolar": [
           {
            "marker": {
             "colorbar": {
              "outlinewidth": 0,
              "ticks": ""
             }
            },
            "type": "scatterpolar"
           }
          ],
          "scatterpolargl": [
           {
            "marker": {
             "colorbar": {
              "outlinewidth": 0,
              "ticks": ""
             }
            },
            "type": "scatterpolargl"
           }
          ],
          "scatterternary": [
           {
            "marker": {
             "colorbar": {
              "outlinewidth": 0,
              "ticks": ""
             }
            },
            "type": "scatterternary"
           }
          ],
          "surface": [
           {
            "colorbar": {
             "outlinewidth": 0,
             "ticks": ""
            },
            "colorscale": [
             [
              0,
              "#0d0887"
             ],
             [
              0.1111111111111111,
              "#46039f"
             ],
             [
              0.2222222222222222,
              "#7201a8"
             ],
             [
              0.3333333333333333,
              "#9c179e"
             ],
             [
              0.4444444444444444,
              "#bd3786"
             ],
             [
              0.5555555555555556,
              "#d8576b"
             ],
             [
              0.6666666666666666,
              "#ed7953"
             ],
             [
              0.7777777777777778,
              "#fb9f3a"
             ],
             [
              0.8888888888888888,
              "#fdca26"
             ],
             [
              1,
              "#f0f921"
             ]
            ],
            "type": "surface"
           }
          ],
          "table": [
           {
            "cells": {
             "fill": {
              "color": "#EBF0F8"
             },
             "line": {
              "color": "white"
             }
            },
            "header": {
             "fill": {
              "color": "#C8D4E3"
             },
             "line": {
              "color": "white"
             }
            },
            "type": "table"
           }
          ]
         },
         "layout": {
          "annotationdefaults": {
           "arrowcolor": "#2a3f5f",
           "arrowhead": 0,
           "arrowwidth": 1
          },
          "autotypenumbers": "strict",
          "coloraxis": {
           "colorbar": {
            "outlinewidth": 0,
            "ticks": ""
           }
          },
          "colorscale": {
           "diverging": [
            [
             0,
             "#8e0152"
            ],
            [
             0.1,
             "#c51b7d"
            ],
            [
             0.2,
             "#de77ae"
            ],
            [
             0.3,
             "#f1b6da"
            ],
            [
             0.4,
             "#fde0ef"
            ],
            [
             0.5,
             "#f7f7f7"
            ],
            [
             0.6,
             "#e6f5d0"
            ],
            [
             0.7,
             "#b8e186"
            ],
            [
             0.8,
             "#7fbc41"
            ],
            [
             0.9,
             "#4d9221"
            ],
            [
             1,
             "#276419"
            ]
           ],
           "sequential": [
            [
             0,
             "#0d0887"
            ],
            [
             0.1111111111111111,
             "#46039f"
            ],
            [
             0.2222222222222222,
             "#7201a8"
            ],
            [
             0.3333333333333333,
             "#9c179e"
            ],
            [
             0.4444444444444444,
             "#bd3786"
            ],
            [
             0.5555555555555556,
             "#d8576b"
            ],
            [
             0.6666666666666666,
             "#ed7953"
            ],
            [
             0.7777777777777778,
             "#fb9f3a"
            ],
            [
             0.8888888888888888,
             "#fdca26"
            ],
            [
             1,
             "#f0f921"
            ]
           ],
           "sequentialminus": [
            [
             0,
             "#0d0887"
            ],
            [
             0.1111111111111111,
             "#46039f"
            ],
            [
             0.2222222222222222,
             "#7201a8"
            ],
            [
             0.3333333333333333,
             "#9c179e"
            ],
            [
             0.4444444444444444,
             "#bd3786"
            ],
            [
             0.5555555555555556,
             "#d8576b"
            ],
            [
             0.6666666666666666,
             "#ed7953"
            ],
            [
             0.7777777777777778,
             "#fb9f3a"
            ],
            [
             0.8888888888888888,
             "#fdca26"
            ],
            [
             1,
             "#f0f921"
            ]
           ]
          },
          "colorway": [
           "#636efa",
           "#EF553B",
           "#00cc96",
           "#ab63fa",
           "#FFA15A",
           "#19d3f3",
           "#FF6692",
           "#B6E880",
           "#FF97FF",
           "#FECB52"
          ],
          "font": {
           "color": "#2a3f5f"
          },
          "geo": {
           "bgcolor": "white",
           "lakecolor": "white",
           "landcolor": "#E5ECF6",
           "showlakes": true,
           "showland": true,
           "subunitcolor": "white"
          },
          "hoverlabel": {
           "align": "left"
          },
          "hovermode": "closest",
          "mapbox": {
           "style": "light"
          },
          "paper_bgcolor": "white",
          "plot_bgcolor": "#E5ECF6",
          "polar": {
           "angularaxis": {
            "gridcolor": "white",
            "linecolor": "white",
            "ticks": ""
           },
           "bgcolor": "#E5ECF6",
           "radialaxis": {
            "gridcolor": "white",
            "linecolor": "white",
            "ticks": ""
           }
          },
          "scene": {
           "xaxis": {
            "backgroundcolor": "#E5ECF6",
            "gridcolor": "white",
            "gridwidth": 2,
            "linecolor": "white",
            "showbackground": true,
            "ticks": "",
            "zerolinecolor": "white"
           },
           "yaxis": {
            "backgroundcolor": "#E5ECF6",
            "gridcolor": "white",
            "gridwidth": 2,
            "linecolor": "white",
            "showbackground": true,
            "ticks": "",
            "zerolinecolor": "white"
           },
           "zaxis": {
            "backgroundcolor": "#E5ECF6",
            "gridcolor": "white",
            "gridwidth": 2,
            "linecolor": "white",
            "showbackground": true,
            "ticks": "",
            "zerolinecolor": "white"
           }
          },
          "shapedefaults": {
           "line": {
            "color": "#2a3f5f"
           }
          },
          "ternary": {
           "aaxis": {
            "gridcolor": "white",
            "linecolor": "white",
            "ticks": ""
           },
           "baxis": {
            "gridcolor": "white",
            "linecolor": "white",
            "ticks": ""
           },
           "bgcolor": "#E5ECF6",
           "caxis": {
            "gridcolor": "white",
            "linecolor": "white",
            "ticks": ""
           }
          },
          "title": {
           "x": 0.05
          },
          "xaxis": {
           "automargin": true,
           "gridcolor": "white",
           "linecolor": "white",
           "ticks": "",
           "title": {
            "standoff": 15
           },
           "zerolinecolor": "white",
           "zerolinewidth": 2
          },
          "yaxis": {
           "automargin": true,
           "gridcolor": "white",
           "linecolor": "white",
           "ticks": "",
           "title": {
            "standoff": 15
           },
           "zerolinecolor": "white",
           "zerolinewidth": 2
          }
         }
        },
        "title": {
         "text": "co2_emissions by GDP per capita"
        },
        "xaxis": {
         "title": {
          "text": "GDP per capita"
         }
        },
        "yaxis": {
         "title": {
          "text": "co2_emissions"
         },
         "type": "linear"
        }
       }
      }
     },
     "metadata": {},
     "output_type": "display_data"
    }
   ],
   "source": [
    "df = final_database\n",
    "\n",
    "if isinstance(df, (pd.DatetimeIndex, pd.MultiIndex)):\n",
    "\tdf = df.to_frame(index=False)\n",
    "\n",
    "# remove any pre-existing indices for ease of use in the D-Tale code, but this is not required\n",
    "df = df.reset_index().drop('index', axis=1, errors='ignore')\n",
    "df.columns = [str(c) for c in df.columns]  # update columns to strings in case they are numbers\n",
    "\n",
    "chart_data = pd.concat([\n",
    "\tdf['GDP per capita'],\n",
    "\tdf['co2_emissions'],\n",
    "\tdf['region'],\n",
    "], axis=1)\n",
    "chart_data = chart_data.query(\"\"\"(`region` == 'Africa') or (`region` == 'Americas') or (`region` == 'Asia') or (`region` == 'Europe') or (`region` == 'Oceania')\"\"\")\n",
    "chart_data = chart_data.sort_values(['region', 'GDP per capita'])\n",
    "chart_data = chart_data.rename(columns={'GDP per capita': 'x'})\n",
    "chart_data = chart_data.dropna()\n",
    "# WARNING: This is not taking into account grouping of any kind, please apply filter associated with\n",
    "#          the group in question in order to replicate chart. For this we're using '\"\"\"`region` == 'Africa'\"\"\"'\n",
    "chart_data1 = chart_data.query(\"\"\"`region` == 'Africa'\"\"\")\n",
    "chart_data2 = chart_data.query(\"\"\"`region` == 'Americas'\"\"\")\n",
    "chart_data3 = chart_data.query(\"\"\"`region` == 'Asia'\"\"\")\n",
    "chart_data4 = chart_data.query(\"\"\"`region` == 'Europe'\"\"\")\n",
    "chart_data5 = chart_data.query(\"\"\"`region` == 'Oceania'\"\"\")\n",
    "\n",
    "import plotly.graph_objs as go\n",
    "\n",
    "chart1 = go.Scattergl(\n",
    "\tx=chart_data1['x'], y=chart_data1['co2_emissions'], mode='markers', opacity=0.7, name='(region: Africa)',\n",
    "\tmarker={'size': 15, 'line': {'width': 0.5, 'color': 'white'}, 'color' : '#636EFA'}\n",
    ")\n",
    "\n",
    "chart2 = go.Scattergl(\n",
    "\tx=chart_data2['x'], y=chart_data2['co2_emissions'], mode='markers', opacity=0.7, name='(region: Americas)',\n",
    "\tmarker={'size': 15, 'line': {'width': 0.5, 'color': 'white'}, 'color' : '#EF553B'}\n",
    ")\n",
    "\n",
    "chart3 = go.Scattergl(\n",
    "\tx=chart_data3['x'], y=chart_data3['co2_emissions'], mode='markers', opacity=0.7, name='(region: Asia)',\n",
    "\tmarker={'size': 15, 'line': {'width': 0.5, 'color': 'white'}, 'color' : '#00CC96'}\n",
    ")\n",
    "\n",
    "chart4 = go.Scattergl(\n",
    "\tx=chart_data4['x'], y=chart_data4['co2_emissions'], mode='markers', opacity=0.7, name='(region: Europe)',\n",
    "\tmarker={'size': 15, 'line': {'width': 0.5, 'color': 'white'}, 'color' : '#AB63FA'}\n",
    ")\n",
    "\n",
    "chart5 = go.Scattergl(\n",
    "\tx=chart_data5['x'], y=chart_data5['co2_emissions'], mode='markers', opacity=0.7, name='(region: Oceania)',\n",
    "\tmarker={'size': 15, 'line': {'width': 0.5, 'color': 'white'}, 'color' : '#FFA15A'}\n",
    ")\n",
    "\n",
    "final_chart = [chart1, chart2, chart3, chart4, chart5]\n",
    "\n",
    "figure = go.Figure(data=final_chart, layout=go.Layout({\n",
    "    'legend': {'orientation': 'h', 'y': -0.3},\n",
    "    'title': {'text': 'co2_emissions by GDP per capita'},\n",
    "    'xaxis': {'title': {'text': 'GDP per capita'}},\n",
    "    'yaxis': {'title': {'text': 'co2_emissions'}, 'type': 'linear'}\n",
    "}))\n",
    "\n",
    "figure.show()\n"
   ]
  },
  {
   "attachments": {},
   "cell_type": "markdown",
   "id": "88534c4d",
   "metadata": {},
   "source": [
    "### En las diferentes regiones no se observa una relación clara entre el GDP per capita y las emisiones de CO2 per capita por lo que el GDP per capita puede no ser una buena variable explicatoria \n"
   ]
  },
  {
   "cell_type": "code",
   "execution_count": 375,
   "id": "33c6f21c",
   "metadata": {},
   "outputs": [
    {
     "data": {
      "application/vnd.plotly.v1+json": {
       "config": {
        "plotlyServerURL": "https://plot.ly"
       },
       "data": [
        {
         "marker": {
          "color": "#636EFA",
          "line": {
           "color": "white",
           "width": 0.5
          },
          "size": 15
         },
         "mode": "markers",
         "name": "(sub-region: Australia and New Zealand)",
         "opacity": 0.7,
         "type": "scattergl",
         "x": [
          34295,
          48845
         ],
         "y": [
          1.4035173971701915,
          0.6578776529544759
         ]
        },
        {
         "marker": {
          "color": "#EF553B",
          "line": {
           "color": "white",
           "width": 0.5
          },
          "size": 15
         },
         "mode": "markers",
         "name": "(sub-region: Central Asia)",
         "opacity": 0.7,
         "type": "scattergl",
         "x": [
          4879,
          23842
         ],
         "y": [
          0.26244360819146306,
          0.6384455662298448
         ]
        },
        {
         "marker": {
          "color": "#00CC96",
          "line": {
           "color": "white",
           "width": 0.5
          },
          "size": 15
         },
         "mode": "markers",
         "name": "(sub-region: Eastern Asia)",
         "opacity": 0.7,
         "type": "scattergl",
         "x": [
          12360,
          12569,
          37465
         ],
         "y": [
          1.9451203749691626,
          0.005127133791856116,
          0.07231654923825113
         ]
        },
        {
         "marker": {
          "color": "#AB63FA",
          "line": {
           "color": "white",
           "width": 0.5
          },
          "size": 15
         },
         "mode": "markers",
         "name": "(sub-region: Eastern Europe)",
         "opacity": 0.7,
         "type": "scattergl",
         "x": [
          6068,
          17037,
          17628,
          23279,
          23635,
          24838,
          25364,
          28823
         ],
         "y": [
          1.0366579076215934,
          0.8186065786996364,
          0.6149272784413845,
          0.45942976901521426,
          0.07542791304761275,
          0.2079449732100956,
          1.068029516104263,
          0.9111723956809232
         ]
        },
        {
         "marker": {
          "color": "#FFA15A",
          "line": {
           "color": "white",
           "width": 0.5
          },
          "size": 15
         },
         "mode": "markers",
         "name": "(sub-region: Latin America and the Caribbean)",
         "opacity": 0.7,
         "type": "scattergl",
         "x": [
          7084,
          8280,
          8786,
          10527,
          11776,
          13326,
          13873,
          14098,
          14489,
          16133,
          18875,
          19468,
          21449,
          21696
         ],
         "y": [
          0.8962565443621007,
          0.17747315153842658,
          0.15629206855006833,
          0.14638349078376503,
          0.05945088798318673,
          0.03562510536574867,
          0.010518735694333129,
          0.33661766819013844,
          0.22744730296147106,
          0.03111604692189614,
          0.096393904635079,
          0.5560896628320288,
          0.6608189926216345,
          0.26084965104207397
         ]
        },
        {
         "marker": {
          "color": "#19D3F3",
          "line": {
           "color": "white",
           "width": 0.5
          },
          "size": 15
         },
         "mode": "markers",
         "name": "(sub-region: Northern Africa)",
         "opacity": 0.7,
         "type": "scattergl",
         "x": [
          8039,
          11073,
          14331
         ],
         "y": [
          0.04888742483760162,
          0.23172803310561924,
          0.09420366560482082
         ]
        },
        {
         "marker": {
          "color": "#FF6692",
          "line": {
           "color": "white",
           "width": 0.5
          },
          "size": 15
         },
         "mode": "markers",
         "name": "(sub-region: Northern Europe)",
         "opacity": 0.7,
         "type": "scattergl",
         "x": [
          22092,
          24743,
          24857,
          37334,
          44659,
          44836,
          56597,
          82814
         ],
         "y": [
          1.8620833252957203,
          1.3614125961263233,
          9.235816482873407,
          0.0884600493086641,
          0.3938350535141037,
          1.076497823676984,
          1.7166955970504707,
          1.4145887129266317
         ]
        },
        {
         "marker": {
          "color": "#B6E880",
          "line": {
           "color": "white",
           "width": 0.5
          },
          "size": 15
         },
         "mode": "markers",
         "name": "(sub-region: South-eastern Asia)",
         "opacity": 0.7,
         "type": "scattergl",
         "x": [
          3251,
          5859,
          7410,
          10911,
          23053,
          65729
         ],
         "y": [
          0.04453368040293563,
          0.3350002589890982,
          0.011349142852280988,
          0.0070530290283182,
          0.25060861443043253,
          1.4662092665913242
         ]
        },
        {
         "marker": {
          "color": "#FF97FF",
          "line": {
           "color": "white",
           "width": 0.5
          },
          "size": 15
         },
         "mode": "markers",
         "name": "(sub-region: Southern Asia)",
         "opacity": 0.7,
         "type": "scattergl",
         "x": [
          5223,
          6125,
          11149
         ],
         "y": [
          0.0043677032676637485,
          0.001251321043950164,
          0.048780248785549214
         ]
        },
        {
         "marker": {
          "color": "#FECB52",
          "line": {
           "color": "white",
           "width": 0.5
          },
          "size": 15
         },
         "mode": "markers",
         "name": "(sub-region: Southern Europe)",
         "opacity": 0.7,
         "type": "scattergl",
         "x": [
          9746,
          10342,
          12644,
          13184,
          20376,
          22574,
          25346,
          30110,
          33419
         ],
         "y": [
          1.948237063394072,
          0.5415888934359399,
          1.699565802971305,
          0.9357704468569159,
          0.9687125118192083,
          0.5756898517080271,
          0.457346687292721,
          0.11432509019973341,
          0.0906876471300201
         ]
        },
        {
         "marker": {
          "color": "#bbf9c7",
          "line": {
           "color": "white",
           "width": 0.5
          },
          "size": 15
         },
         "mode": "markers",
         "name": "(sub-region: Sub-Saharan Africa)",
         "opacity": 0.7,
         "type": "scattergl",
         "x": [
          1381,
          1534,
          1594,
          1635,
          2403,
          2660,
          3407,
          3878,
          9376,
          12139,
          15198,
          18918
         ],
         "y": [
          0.005131269801163877,
          0.05598160500481172,
          0.014469075583308582,
          0.00139467584968035,
          0.045061183188944226,
          0.003979787002001971,
          0.18805885387694873,
          0.01980963713611292,
          0.7427561466198255,
          0.13456779690251766,
          1.4211378075627625,
          2.5307510734301406
         ]
        },
        {
         "marker": {
          "color": "#e6bbf9",
          "line": {
           "color": "white",
           "width": 0.5
          },
          "size": 15
         },
         "mode": "markers",
         "name": "(sub-region: Western Asia)",
         "opacity": 0.7,
         "type": "scattergl",
         "x": [
          10899,
          11529,
          17906,
          31701,
          38515,
          75876
         ],
         "y": [
          0.694529707673095,
          0.27189755173751345,
          0.058782372980323114,
          0.8897212278258836,
          3.5951060843893035,
          2.294704195877032
         ]
        },
        {
         "marker": {
          "color": "#9212ca",
          "line": {
           "color": "white",
           "width": 0.5
          },
          "size": 15
         },
         "mode": "markers",
         "name": "(sub-region: Western Europe)",
         "opacity": 0.7,
         "type": "scattergl",
         "x": [
          37124,
          38766,
          44689,
          59662
         ],
         "y": [
          0.0705104527143594,
          0.7337942058816626,
          0.11017793968230379,
          0.565802595930082
         ]
        }
       ],
       "layout": {
        "legend": {
         "orientation": "h",
         "y": -0.3
        },
        "template": {
         "data": {
          "bar": [
           {
            "error_x": {
             "color": "#2a3f5f"
            },
            "error_y": {
             "color": "#2a3f5f"
            },
            "marker": {
             "line": {
              "color": "#E5ECF6",
              "width": 0.5
             },
             "pattern": {
              "fillmode": "overlay",
              "size": 10,
              "solidity": 0.2
             }
            },
            "type": "bar"
           }
          ],
          "barpolar": [
           {
            "marker": {
             "line": {
              "color": "#E5ECF6",
              "width": 0.5
             },
             "pattern": {
              "fillmode": "overlay",
              "size": 10,
              "solidity": 0.2
             }
            },
            "type": "barpolar"
           }
          ],
          "carpet": [
           {
            "aaxis": {
             "endlinecolor": "#2a3f5f",
             "gridcolor": "white",
             "linecolor": "white",
             "minorgridcolor": "white",
             "startlinecolor": "#2a3f5f"
            },
            "baxis": {
             "endlinecolor": "#2a3f5f",
             "gridcolor": "white",
             "linecolor": "white",
             "minorgridcolor": "white",
             "startlinecolor": "#2a3f5f"
            },
            "type": "carpet"
           }
          ],
          "choropleth": [
           {
            "colorbar": {
             "outlinewidth": 0,
             "ticks": ""
            },
            "type": "choropleth"
           }
          ],
          "contour": [
           {
            "colorbar": {
             "outlinewidth": 0,
             "ticks": ""
            },
            "colorscale": [
             [
              0,
              "#0d0887"
             ],
             [
              0.1111111111111111,
              "#46039f"
             ],
             [
              0.2222222222222222,
              "#7201a8"
             ],
             [
              0.3333333333333333,
              "#9c179e"
             ],
             [
              0.4444444444444444,
              "#bd3786"
             ],
             [
              0.5555555555555556,
              "#d8576b"
             ],
             [
              0.6666666666666666,
              "#ed7953"
             ],
             [
              0.7777777777777778,
              "#fb9f3a"
             ],
             [
              0.8888888888888888,
              "#fdca26"
             ],
             [
              1,
              "#f0f921"
             ]
            ],
            "type": "contour"
           }
          ],
          "contourcarpet": [
           {
            "colorbar": {
             "outlinewidth": 0,
             "ticks": ""
            },
            "type": "contourcarpet"
           }
          ],
          "heatmap": [
           {
            "colorbar": {
             "outlinewidth": 0,
             "ticks": ""
            },
            "colorscale": [
             [
              0,
              "#0d0887"
             ],
             [
              0.1111111111111111,
              "#46039f"
             ],
             [
              0.2222222222222222,
              "#7201a8"
             ],
             [
              0.3333333333333333,
              "#9c179e"
             ],
             [
              0.4444444444444444,
              "#bd3786"
             ],
             [
              0.5555555555555556,
              "#d8576b"
             ],
             [
              0.6666666666666666,
              "#ed7953"
             ],
             [
              0.7777777777777778,
              "#fb9f3a"
             ],
             [
              0.8888888888888888,
              "#fdca26"
             ],
             [
              1,
              "#f0f921"
             ]
            ],
            "type": "heatmap"
           }
          ],
          "heatmapgl": [
           {
            "colorbar": {
             "outlinewidth": 0,
             "ticks": ""
            },
            "colorscale": [
             [
              0,
              "#0d0887"
             ],
             [
              0.1111111111111111,
              "#46039f"
             ],
             [
              0.2222222222222222,
              "#7201a8"
             ],
             [
              0.3333333333333333,
              "#9c179e"
             ],
             [
              0.4444444444444444,
              "#bd3786"
             ],
             [
              0.5555555555555556,
              "#d8576b"
             ],
             [
              0.6666666666666666,
              "#ed7953"
             ],
             [
              0.7777777777777778,
              "#fb9f3a"
             ],
             [
              0.8888888888888888,
              "#fdca26"
             ],
             [
              1,
              "#f0f921"
             ]
            ],
            "type": "heatmapgl"
           }
          ],
          "histogram": [
           {
            "marker": {
             "pattern": {
              "fillmode": "overlay",
              "size": 10,
              "solidity": 0.2
             }
            },
            "type": "histogram"
           }
          ],
          "histogram2d": [
           {
            "colorbar": {
             "outlinewidth": 0,
             "ticks": ""
            },
            "colorscale": [
             [
              0,
              "#0d0887"
             ],
             [
              0.1111111111111111,
              "#46039f"
             ],
             [
              0.2222222222222222,
              "#7201a8"
             ],
             [
              0.3333333333333333,
              "#9c179e"
             ],
             [
              0.4444444444444444,
              "#bd3786"
             ],
             [
              0.5555555555555556,
              "#d8576b"
             ],
             [
              0.6666666666666666,
              "#ed7953"
             ],
             [
              0.7777777777777778,
              "#fb9f3a"
             ],
             [
              0.8888888888888888,
              "#fdca26"
             ],
             [
              1,
              "#f0f921"
             ]
            ],
            "type": "histogram2d"
           }
          ],
          "histogram2dcontour": [
           {
            "colorbar": {
             "outlinewidth": 0,
             "ticks": ""
            },
            "colorscale": [
             [
              0,
              "#0d0887"
             ],
             [
              0.1111111111111111,
              "#46039f"
             ],
             [
              0.2222222222222222,
              "#7201a8"
             ],
             [
              0.3333333333333333,
              "#9c179e"
             ],
             [
              0.4444444444444444,
              "#bd3786"
             ],
             [
              0.5555555555555556,
              "#d8576b"
             ],
             [
              0.6666666666666666,
              "#ed7953"
             ],
             [
              0.7777777777777778,
              "#fb9f3a"
             ],
             [
              0.8888888888888888,
              "#fdca26"
             ],
             [
              1,
              "#f0f921"
             ]
            ],
            "type": "histogram2dcontour"
           }
          ],
          "mesh3d": [
           {
            "colorbar": {
             "outlinewidth": 0,
             "ticks": ""
            },
            "type": "mesh3d"
           }
          ],
          "parcoords": [
           {
            "line": {
             "colorbar": {
              "outlinewidth": 0,
              "ticks": ""
             }
            },
            "type": "parcoords"
           }
          ],
          "pie": [
           {
            "automargin": true,
            "type": "pie"
           }
          ],
          "scatter": [
           {
            "fillpattern": {
             "fillmode": "overlay",
             "size": 10,
             "solidity": 0.2
            },
            "type": "scatter"
           }
          ],
          "scatter3d": [
           {
            "line": {
             "colorbar": {
              "outlinewidth": 0,
              "ticks": ""
             }
            },
            "marker": {
             "colorbar": {
              "outlinewidth": 0,
              "ticks": ""
             }
            },
            "type": "scatter3d"
           }
          ],
          "scattercarpet": [
           {
            "marker": {
             "colorbar": {
              "outlinewidth": 0,
              "ticks": ""
             }
            },
            "type": "scattercarpet"
           }
          ],
          "scattergeo": [
           {
            "marker": {
             "colorbar": {
              "outlinewidth": 0,
              "ticks": ""
             }
            },
            "type": "scattergeo"
           }
          ],
          "scattergl": [
           {
            "marker": {
             "colorbar": {
              "outlinewidth": 0,
              "ticks": ""
             }
            },
            "type": "scattergl"
           }
          ],
          "scattermapbox": [
           {
            "marker": {
             "colorbar": {
              "outlinewidth": 0,
              "ticks": ""
             }
            },
            "type": "scattermapbox"
           }
          ],
          "scatterpolar": [
           {
            "marker": {
             "colorbar": {
              "outlinewidth": 0,
              "ticks": ""
             }
            },
            "type": "scatterpolar"
           }
          ],
          "scatterpolargl": [
           {
            "marker": {
             "colorbar": {
              "outlinewidth": 0,
              "ticks": ""
             }
            },
            "type": "scatterpolargl"
           }
          ],
          "scatterternary": [
           {
            "marker": {
             "colorbar": {
              "outlinewidth": 0,
              "ticks": ""
             }
            },
            "type": "scatterternary"
           }
          ],
          "surface": [
           {
            "colorbar": {
             "outlinewidth": 0,
             "ticks": ""
            },
            "colorscale": [
             [
              0,
              "#0d0887"
             ],
             [
              0.1111111111111111,
              "#46039f"
             ],
             [
              0.2222222222222222,
              "#7201a8"
             ],
             [
              0.3333333333333333,
              "#9c179e"
             ],
             [
              0.4444444444444444,
              "#bd3786"
             ],
             [
              0.5555555555555556,
              "#d8576b"
             ],
             [
              0.6666666666666666,
              "#ed7953"
             ],
             [
              0.7777777777777778,
              "#fb9f3a"
             ],
             [
              0.8888888888888888,
              "#fdca26"
             ],
             [
              1,
              "#f0f921"
             ]
            ],
            "type": "surface"
           }
          ],
          "table": [
           {
            "cells": {
             "fill": {
              "color": "#EBF0F8"
             },
             "line": {
              "color": "white"
             }
            },
            "header": {
             "fill": {
              "color": "#C8D4E3"
             },
             "line": {
              "color": "white"
             }
            },
            "type": "table"
           }
          ]
         },
         "layout": {
          "annotationdefaults": {
           "arrowcolor": "#2a3f5f",
           "arrowhead": 0,
           "arrowwidth": 1
          },
          "autotypenumbers": "strict",
          "coloraxis": {
           "colorbar": {
            "outlinewidth": 0,
            "ticks": ""
           }
          },
          "colorscale": {
           "diverging": [
            [
             0,
             "#8e0152"
            ],
            [
             0.1,
             "#c51b7d"
            ],
            [
             0.2,
             "#de77ae"
            ],
            [
             0.3,
             "#f1b6da"
            ],
            [
             0.4,
             "#fde0ef"
            ],
            [
             0.5,
             "#f7f7f7"
            ],
            [
             0.6,
             "#e6f5d0"
            ],
            [
             0.7,
             "#b8e186"
            ],
            [
             0.8,
             "#7fbc41"
            ],
            [
             0.9,
             "#4d9221"
            ],
            [
             1,
             "#276419"
            ]
           ],
           "sequential": [
            [
             0,
             "#0d0887"
            ],
            [
             0.1111111111111111,
             "#46039f"
            ],
            [
             0.2222222222222222,
             "#7201a8"
            ],
            [
             0.3333333333333333,
             "#9c179e"
            ],
            [
             0.4444444444444444,
             "#bd3786"
            ],
            [
             0.5555555555555556,
             "#d8576b"
            ],
            [
             0.6666666666666666,
             "#ed7953"
            ],
            [
             0.7777777777777778,
             "#fb9f3a"
            ],
            [
             0.8888888888888888,
             "#fdca26"
            ],
            [
             1,
             "#f0f921"
            ]
           ],
           "sequentialminus": [
            [
             0,
             "#0d0887"
            ],
            [
             0.1111111111111111,
             "#46039f"
            ],
            [
             0.2222222222222222,
             "#7201a8"
            ],
            [
             0.3333333333333333,
             "#9c179e"
            ],
            [
             0.4444444444444444,
             "#bd3786"
            ],
            [
             0.5555555555555556,
             "#d8576b"
            ],
            [
             0.6666666666666666,
             "#ed7953"
            ],
            [
             0.7777777777777778,
             "#fb9f3a"
            ],
            [
             0.8888888888888888,
             "#fdca26"
            ],
            [
             1,
             "#f0f921"
            ]
           ]
          },
          "colorway": [
           "#636efa",
           "#EF553B",
           "#00cc96",
           "#ab63fa",
           "#FFA15A",
           "#19d3f3",
           "#FF6692",
           "#B6E880",
           "#FF97FF",
           "#FECB52"
          ],
          "font": {
           "color": "#2a3f5f"
          },
          "geo": {
           "bgcolor": "white",
           "lakecolor": "white",
           "landcolor": "#E5ECF6",
           "showlakes": true,
           "showland": true,
           "subunitcolor": "white"
          },
          "hoverlabel": {
           "align": "left"
          },
          "hovermode": "closest",
          "mapbox": {
           "style": "light"
          },
          "paper_bgcolor": "white",
          "plot_bgcolor": "#E5ECF6",
          "polar": {
           "angularaxis": {
            "gridcolor": "white",
            "linecolor": "white",
            "ticks": ""
           },
           "bgcolor": "#E5ECF6",
           "radialaxis": {
            "gridcolor": "white",
            "linecolor": "white",
            "ticks": ""
           }
          },
          "scene": {
           "xaxis": {
            "backgroundcolor": "#E5ECF6",
            "gridcolor": "white",
            "gridwidth": 2,
            "linecolor": "white",
            "showbackground": true,
            "ticks": "",
            "zerolinecolor": "white"
           },
           "yaxis": {
            "backgroundcolor": "#E5ECF6",
            "gridcolor": "white",
            "gridwidth": 2,
            "linecolor": "white",
            "showbackground": true,
            "ticks": "",
            "zerolinecolor": "white"
           },
           "zaxis": {
            "backgroundcolor": "#E5ECF6",
            "gridcolor": "white",
            "gridwidth": 2,
            "linecolor": "white",
            "showbackground": true,
            "ticks": "",
            "zerolinecolor": "white"
           }
          },
          "shapedefaults": {
           "line": {
            "color": "#2a3f5f"
           }
          },
          "ternary": {
           "aaxis": {
            "gridcolor": "white",
            "linecolor": "white",
            "ticks": ""
           },
           "baxis": {
            "gridcolor": "white",
            "linecolor": "white",
            "ticks": ""
           },
           "bgcolor": "#E5ECF6",
           "caxis": {
            "gridcolor": "white",
            "linecolor": "white",
            "ticks": ""
           }
          },
          "title": {
           "x": 0.05
          },
          "xaxis": {
           "automargin": true,
           "gridcolor": "white",
           "linecolor": "white",
           "ticks": "",
           "title": {
            "standoff": 15
           },
           "zerolinecolor": "white",
           "zerolinewidth": 2
          },
          "yaxis": {
           "automargin": true,
           "gridcolor": "white",
           "linecolor": "white",
           "ticks": "",
           "title": {
            "standoff": 15
           },
           "zerolinecolor": "white",
           "zerolinewidth": 2
          }
         }
        },
        "title": {
         "text": "co2_emissions by GDP per capita"
        },
        "xaxis": {
         "title": {
          "text": "GDP per capita"
         }
        },
        "yaxis": {
         "title": {
          "text": "co2_emissions"
         },
         "type": "linear"
        }
       }
      }
     },
     "metadata": {},
     "output_type": "display_data"
    }
   ],
   "source": [
    "df = final_database\n",
    "\n",
    "if isinstance(df, (pd.DatetimeIndex, pd.MultiIndex)):\n",
    "\tdf = df.to_frame(index=False)\n",
    "\n",
    "# remove any pre-existing indices for ease of use in the D-Tale code, but this is not required\n",
    "df = df.reset_index().drop('index', axis=1, errors='ignore')\n",
    "df.columns = [str(c) for c in df.columns]  # update columns to strings in case they are numbers\n",
    "\n",
    "chart_data = pd.concat([\n",
    "\tdf['GDP per capita'],\n",
    "\tdf['co2_emissions'],\n",
    "\tdf['sub-region'],\n",
    "], axis=1)\n",
    "chart_data = chart_data.query(\"\"\"(`sub-region` == 'Australia and New Zealand') or (`sub-region` == 'Central Asia') or (`sub-region` == 'Eastern Asia') or (`sub-region` == 'Eastern Europe') or (`sub-region` == 'Latin America and the Caribbean') or (`sub-region` == 'Northern Africa') or (`sub-region` == 'Northern America') or (`sub-region` == 'Northern Europe') or (`sub-region` == 'South-eastern Asia') or (`sub-region` == 'Southern Asia') or (`sub-region` == 'Southern Europe') or (`sub-region` == 'Sub-Saharan Africa') or (`sub-region` == 'Western Asia') or (`sub-region` == 'Western Europe')\"\"\")\n",
    "chart_data = chart_data.sort_values(['sub-region', 'GDP per capita'])\n",
    "chart_data = chart_data.rename(columns={'GDP per capita': 'x'})\n",
    "chart_data = chart_data.dropna()\n",
    "# WARNING: This is not taking into account grouping of any kind, please apply filter associated with\n",
    "#          the group in question in order to replicate chart. For this we're using '\"\"\"`region` == 'Africa'\"\"\"'\n",
    "chart_data1 = chart_data.query(\"\"\"`sub-region` == 'Australia and New Zealand'\"\"\")\n",
    "chart_data2 = chart_data.query(\"\"\"`sub-region` == 'Central Asia'\"\"\")\n",
    "chart_data3 = chart_data.query(\"\"\"`sub-region` == 'Eastern Asia'\"\"\")\n",
    "chart_data4 = chart_data.query(\"\"\"`sub-region` == 'Eastern Europe'\"\"\")\n",
    "chart_data5 = chart_data.query(\"\"\"`sub-region` == 'Latin America and the Caribbean'\"\"\")\n",
    "chart_data6 = chart_data.query(\"\"\"`sub-region` == 'Northern Africa'\"\"\")\n",
    "chart_data7 = chart_data.query(\"\"\"`sub-region` == 'Northern Europe'\"\"\")\n",
    "chart_data8 = chart_data.query(\"\"\"`sub-region` == 'South-eastern Asia'\"\"\")\n",
    "chart_data9 = chart_data.query(\"\"\"`sub-region` == 'Southern Asia'\"\"\")\n",
    "chart_data10 = chart_data.query(\"\"\"`sub-region` == 'Southern Europe'\"\"\")\n",
    "chart_data11 = chart_data.query(\"\"\"`sub-region` == 'Sub-Saharan Africa'\"\"\")\n",
    "chart_data12 = chart_data.query(\"\"\"`sub-region` == 'Western Asia'\"\"\")\n",
    "chart_data13 = chart_data.query(\"\"\"`sub-region` == 'Western Europe'\"\"\")\n",
    "\n",
    "\n",
    "import plotly.graph_objs as go\n",
    "\n",
    "chart1 = go.Scattergl(\n",
    "\tx=chart_data1['x'], y=chart_data1['co2_emissions'], mode='markers', opacity=0.7, name='(sub-region: Australia and New Zealand)',\n",
    "\tmarker={'size': 15, 'line': {'width': 0.5, 'color': 'white'}, 'color' : '#636EFA'}\n",
    ")\n",
    "\n",
    "chart2 = go.Scattergl(\n",
    "\tx=chart_data2['x'], y=chart_data2['co2_emissions'], mode='markers', opacity=0.7, name='(sub-region: Central Asia)',\n",
    "\tmarker={'size': 15, 'line': {'width': 0.5, 'color': 'white'}, 'color' : '#EF553B'}\n",
    ")\n",
    "\n",
    "chart3 = go.Scattergl(\n",
    "\tx=chart_data3['x'], y=chart_data3['co2_emissions'], mode='markers', opacity=0.7, name='(sub-region: Eastern Asia)',\n",
    "\tmarker={'size': 15, 'line': {'width': 0.5, 'color': 'white'}, 'color' : '#00CC96'}\n",
    ")\n",
    "\n",
    "chart4 = go.Scattergl(\n",
    "\tx=chart_data4['x'], y=chart_data4['co2_emissions'], mode='markers', opacity=0.7, name='(sub-region: Eastern Europe)',\n",
    "\tmarker={'size': 15, 'line': {'width': 0.5, 'color': 'white'}, 'color' : '#AB63FA'}\n",
    ")\n",
    "\n",
    "chart5 = go.Scattergl(\n",
    "\tx=chart_data5['x'], y=chart_data5['co2_emissions'], mode='markers', opacity=0.7, name='(sub-region: Latin America and the Caribbean)',\n",
    "\tmarker={'size': 15, 'line': {'width': 0.5, 'color': 'white'}, 'color' : '#FFA15A'}\n",
    ")\n",
    "\n",
    "chart6 = go.Scattergl(\n",
    "\tx=chart_data6['x'], y=chart_data6['co2_emissions'], mode='markers', opacity=0.7, name='(sub-region: Northern Africa)',\n",
    "\tmarker={'size': 15, 'line': {'width': 0.5, 'color': 'white'}, 'color' : '#19D3F3'}\n",
    ")\n",
    "\n",
    "chart7 = go.Scattergl(\n",
    "\tx=chart_data7['x'], y=chart_data7['co2_emissions'], mode='markers', opacity=0.7, name='(sub-region: Northern Europe)',\n",
    "\tmarker={'size': 15, 'line': {'width': 0.5, 'color': 'white'}, 'color' : '#FF6692'}\n",
    ")\n",
    "\n",
    "chart8 = go.Scattergl(\n",
    "\tx=chart_data8['x'], y=chart_data8['co2_emissions'], mode='markers', opacity=0.7, name='(sub-region: South-eastern Asia)',\n",
    "\tmarker={'size': 15, 'line': {'width': 0.5, 'color': 'white'}, 'color' : '#B6E880'}\n",
    ")\n",
    "\n",
    "chart9 = go.Scattergl(\n",
    "\tx=chart_data9['x'], y=chart_data9['co2_emissions'], mode='markers', opacity=0.7, name='(sub-region: Southern Asia)',\n",
    "\tmarker={'size': 15, 'line': {'width': 0.5, 'color': 'white'}, 'color' : '#FF97FF'}\n",
    ")\n",
    "\n",
    "chart10 = go.Scattergl(\n",
    "\tx=chart_data10['x'], y=chart_data10['co2_emissions'], mode='markers', opacity=0.7, name='(sub-region: Southern Europe)',\n",
    "\tmarker={'size': 15, 'line': {'width': 0.5, 'color': 'white'}, 'color' : '#FECB52'}\n",
    ")\n",
    "\n",
    "chart11 = go.Scattergl(\n",
    "\tx=chart_data11['x'], y=chart_data11['co2_emissions'], mode='markers', opacity=0.7, name='(sub-region: Sub-Saharan Africa)',\n",
    "\tmarker={'size': 15, 'line': {'width': 0.5, 'color': 'white'}, 'color' : '#bbf9c7'}\n",
    ")\n",
    "\n",
    "chart12 = go.Scattergl(\n",
    "\tx=chart_data12['x'], y=chart_data12['co2_emissions'], mode='markers', opacity=0.7, name='(sub-region: Western Asia)',\n",
    "\tmarker={'size': 15, 'line': {'width': 0.5, 'color': 'white'}, 'color' : '#e6bbf9'}\n",
    ")\n",
    "\n",
    "chart13 = go.Scattergl(\n",
    "\tx=chart_data13['x'], y=chart_data13['co2_emissions'], mode='markers', opacity=0.7, name='(sub-region: Western Europe)',\n",
    "\tmarker={'size': 15, 'line': {'width': 0.5, 'color': 'white'}, 'color' : '#9212ca'}\n",
    ")\n",
    "\n",
    "\n",
    "final_chart = [chart1, chart2, chart3, chart4, chart5, chart6, chart7, chart8, chart9, chart10, chart11, chart12, chart13]\n",
    "\n",
    "figure = go.Figure(data=final_chart, layout=go.Layout({\n",
    "    'legend': {'orientation': 'h', 'y': -0.3},\n",
    "    'title': {'text': 'co2_emissions by GDP per capita'},\n",
    "    'xaxis': {'title': {'text': 'GDP per capita'}},\n",
    "    'yaxis': {'title': {'text': 'co2_emissions'}, 'type': 'linear'}\n",
    "}))\n",
    "\n",
    "figure.show()"
   ]
  },
  {
   "attachments": {},
   "cell_type": "markdown",
   "id": "f086475e",
   "metadata": {},
   "source": [
    "### Las relaciones siguen siendo debiles entre las emisiones de Co2 per capita y el GDP per capita."
   ]
  },
  {
   "cell_type": "markdown",
   "id": "e38e3899",
   "metadata": {},
   "source": [
    "5. Haga dos gráficas adicionales, una para cada submuestra de la siguiente forma: <p>\n",
    "\n",
    "1) Escoja una región <b>o</b> subregión que tengan un comportamiento que le llame la atención. <br>\n",
    "2) Escoja dos subregiones que tengan un comportamiento que le llamen la atención. (las dos van en la misma gráfica) <p>\n",
    "\n",
    "¿Por qué escogió esas submuestras? ¿Qué relación encuentra? Coméntelo para cada punto por separado."
   ]
  },
  {
   "cell_type": "code",
   "execution_count": 376,
   "id": "b78174db",
   "metadata": {},
   "outputs": [
    {
     "data": {
      "application/vnd.plotly.v1+json": {
       "config": {
        "plotlyServerURL": "https://plot.ly"
       },
       "data": [
        {
         "marker": {
          "line": {
           "color": "white",
           "width": 0.5
          },
          "size": 15
         },
         "mode": "markers",
         "name": "(region == Europe)",
         "opacity": 0.7,
         "type": "scattergl",
         "x": [
          6068,
          9746,
          10342,
          12644,
          13184,
          17037,
          17628,
          20376,
          22092,
          22574,
          23279,
          23635,
          24743,
          24838,
          24857,
          25346,
          25364,
          28823,
          30110,
          33419,
          37124,
          37334,
          38766,
          44659,
          44689,
          44836,
          56597,
          59662,
          82814
         ],
         "y": [
          1.0366579076215934,
          1.948237063394072,
          0.5415888934359399,
          1.699565802971305,
          0.9357704468569159,
          0.8186065786996364,
          0.6149272784413845,
          0.9687125118192083,
          1.8620833252957203,
          0.5756898517080271,
          0.45942976901521426,
          0.07542791304761275,
          1.3614125961263233,
          0.2079449732100956,
          9.235816482873407,
          0.457346687292721,
          1.068029516104263,
          0.9111723956809232,
          0.11432509019973341,
          0.0906876471300201,
          0.0705104527143594,
          0.0884600493086641,
          0.7337942058816626,
          0.3938350535141037,
          0.11017793968230379,
          1.076497823676984,
          1.7166955970504707,
          0.565802595930082,
          1.4145887129266317
         ]
        }
       ],
       "layout": {
        "legend": {
         "orientation": "h",
         "y": -0.3
        },
        "template": {
         "data": {
          "bar": [
           {
            "error_x": {
             "color": "#2a3f5f"
            },
            "error_y": {
             "color": "#2a3f5f"
            },
            "marker": {
             "line": {
              "color": "#E5ECF6",
              "width": 0.5
             },
             "pattern": {
              "fillmode": "overlay",
              "size": 10,
              "solidity": 0.2
             }
            },
            "type": "bar"
           }
          ],
          "barpolar": [
           {
            "marker": {
             "line": {
              "color": "#E5ECF6",
              "width": 0.5
             },
             "pattern": {
              "fillmode": "overlay",
              "size": 10,
              "solidity": 0.2
             }
            },
            "type": "barpolar"
           }
          ],
          "carpet": [
           {
            "aaxis": {
             "endlinecolor": "#2a3f5f",
             "gridcolor": "white",
             "linecolor": "white",
             "minorgridcolor": "white",
             "startlinecolor": "#2a3f5f"
            },
            "baxis": {
             "endlinecolor": "#2a3f5f",
             "gridcolor": "white",
             "linecolor": "white",
             "minorgridcolor": "white",
             "startlinecolor": "#2a3f5f"
            },
            "type": "carpet"
           }
          ],
          "choropleth": [
           {
            "colorbar": {
             "outlinewidth": 0,
             "ticks": ""
            },
            "type": "choropleth"
           }
          ],
          "contour": [
           {
            "colorbar": {
             "outlinewidth": 0,
             "ticks": ""
            },
            "colorscale": [
             [
              0,
              "#0d0887"
             ],
             [
              0.1111111111111111,
              "#46039f"
             ],
             [
              0.2222222222222222,
              "#7201a8"
             ],
             [
              0.3333333333333333,
              "#9c179e"
             ],
             [
              0.4444444444444444,
              "#bd3786"
             ],
             [
              0.5555555555555556,
              "#d8576b"
             ],
             [
              0.6666666666666666,
              "#ed7953"
             ],
             [
              0.7777777777777778,
              "#fb9f3a"
             ],
             [
              0.8888888888888888,
              "#fdca26"
             ],
             [
              1,
              "#f0f921"
             ]
            ],
            "type": "contour"
           }
          ],
          "contourcarpet": [
           {
            "colorbar": {
             "outlinewidth": 0,
             "ticks": ""
            },
            "type": "contourcarpet"
           }
          ],
          "heatmap": [
           {
            "colorbar": {
             "outlinewidth": 0,
             "ticks": ""
            },
            "colorscale": [
             [
              0,
              "#0d0887"
             ],
             [
              0.1111111111111111,
              "#46039f"
             ],
             [
              0.2222222222222222,
              "#7201a8"
             ],
             [
              0.3333333333333333,
              "#9c179e"
             ],
             [
              0.4444444444444444,
              "#bd3786"
             ],
             [
              0.5555555555555556,
              "#d8576b"
             ],
             [
              0.6666666666666666,
              "#ed7953"
             ],
             [
              0.7777777777777778,
              "#fb9f3a"
             ],
             [
              0.8888888888888888,
              "#fdca26"
             ],
             [
              1,
              "#f0f921"
             ]
            ],
            "type": "heatmap"
           }
          ],
          "heatmapgl": [
           {
            "colorbar": {
             "outlinewidth": 0,
             "ticks": ""
            },
            "colorscale": [
             [
              0,
              "#0d0887"
             ],
             [
              0.1111111111111111,
              "#46039f"
             ],
             [
              0.2222222222222222,
              "#7201a8"
             ],
             [
              0.3333333333333333,
              "#9c179e"
             ],
             [
              0.4444444444444444,
              "#bd3786"
             ],
             [
              0.5555555555555556,
              "#d8576b"
             ],
             [
              0.6666666666666666,
              "#ed7953"
             ],
             [
              0.7777777777777778,
              "#fb9f3a"
             ],
             [
              0.8888888888888888,
              "#fdca26"
             ],
             [
              1,
              "#f0f921"
             ]
            ],
            "type": "heatmapgl"
           }
          ],
          "histogram": [
           {
            "marker": {
             "pattern": {
              "fillmode": "overlay",
              "size": 10,
              "solidity": 0.2
             }
            },
            "type": "histogram"
           }
          ],
          "histogram2d": [
           {
            "colorbar": {
             "outlinewidth": 0,
             "ticks": ""
            },
            "colorscale": [
             [
              0,
              "#0d0887"
             ],
             [
              0.1111111111111111,
              "#46039f"
             ],
             [
              0.2222222222222222,
              "#7201a8"
             ],
             [
              0.3333333333333333,
              "#9c179e"
             ],
             [
              0.4444444444444444,
              "#bd3786"
             ],
             [
              0.5555555555555556,
              "#d8576b"
             ],
             [
              0.6666666666666666,
              "#ed7953"
             ],
             [
              0.7777777777777778,
              "#fb9f3a"
             ],
             [
              0.8888888888888888,
              "#fdca26"
             ],
             [
              1,
              "#f0f921"
             ]
            ],
            "type": "histogram2d"
           }
          ],
          "histogram2dcontour": [
           {
            "colorbar": {
             "outlinewidth": 0,
             "ticks": ""
            },
            "colorscale": [
             [
              0,
              "#0d0887"
             ],
             [
              0.1111111111111111,
              "#46039f"
             ],
             [
              0.2222222222222222,
              "#7201a8"
             ],
             [
              0.3333333333333333,
              "#9c179e"
             ],
             [
              0.4444444444444444,
              "#bd3786"
             ],
             [
              0.5555555555555556,
              "#d8576b"
             ],
             [
              0.6666666666666666,
              "#ed7953"
             ],
             [
              0.7777777777777778,
              "#fb9f3a"
             ],
             [
              0.8888888888888888,
              "#fdca26"
             ],
             [
              1,
              "#f0f921"
             ]
            ],
            "type": "histogram2dcontour"
           }
          ],
          "mesh3d": [
           {
            "colorbar": {
             "outlinewidth": 0,
             "ticks": ""
            },
            "type": "mesh3d"
           }
          ],
          "parcoords": [
           {
            "line": {
             "colorbar": {
              "outlinewidth": 0,
              "ticks": ""
             }
            },
            "type": "parcoords"
           }
          ],
          "pie": [
           {
            "automargin": true,
            "type": "pie"
           }
          ],
          "scatter": [
           {
            "fillpattern": {
             "fillmode": "overlay",
             "size": 10,
             "solidity": 0.2
            },
            "type": "scatter"
           }
          ],
          "scatter3d": [
           {
            "line": {
             "colorbar": {
              "outlinewidth": 0,
              "ticks": ""
             }
            },
            "marker": {
             "colorbar": {
              "outlinewidth": 0,
              "ticks": ""
             }
            },
            "type": "scatter3d"
           }
          ],
          "scattercarpet": [
           {
            "marker": {
             "colorbar": {
              "outlinewidth": 0,
              "ticks": ""
             }
            },
            "type": "scattercarpet"
           }
          ],
          "scattergeo": [
           {
            "marker": {
             "colorbar": {
              "outlinewidth": 0,
              "ticks": ""
             }
            },
            "type": "scattergeo"
           }
          ],
          "scattergl": [
           {
            "marker": {
             "colorbar": {
              "outlinewidth": 0,
              "ticks": ""
             }
            },
            "type": "scattergl"
           }
          ],
          "scattermapbox": [
           {
            "marker": {
             "colorbar": {
              "outlinewidth": 0,
              "ticks": ""
             }
            },
            "type": "scattermapbox"
           }
          ],
          "scatterpolar": [
           {
            "marker": {
             "colorbar": {
              "outlinewidth": 0,
              "ticks": ""
             }
            },
            "type": "scatterpolar"
           }
          ],
          "scatterpolargl": [
           {
            "marker": {
             "colorbar": {
              "outlinewidth": 0,
              "ticks": ""
             }
            },
            "type": "scatterpolargl"
           }
          ],
          "scatterternary": [
           {
            "marker": {
             "colorbar": {
              "outlinewidth": 0,
              "ticks": ""
             }
            },
            "type": "scatterternary"
           }
          ],
          "surface": [
           {
            "colorbar": {
             "outlinewidth": 0,
             "ticks": ""
            },
            "colorscale": [
             [
              0,
              "#0d0887"
             ],
             [
              0.1111111111111111,
              "#46039f"
             ],
             [
              0.2222222222222222,
              "#7201a8"
             ],
             [
              0.3333333333333333,
              "#9c179e"
             ],
             [
              0.4444444444444444,
              "#bd3786"
             ],
             [
              0.5555555555555556,
              "#d8576b"
             ],
             [
              0.6666666666666666,
              "#ed7953"
             ],
             [
              0.7777777777777778,
              "#fb9f3a"
             ],
             [
              0.8888888888888888,
              "#fdca26"
             ],
             [
              1,
              "#f0f921"
             ]
            ],
            "type": "surface"
           }
          ],
          "table": [
           {
            "cells": {
             "fill": {
              "color": "#EBF0F8"
             },
             "line": {
              "color": "white"
             }
            },
            "header": {
             "fill": {
              "color": "#C8D4E3"
             },
             "line": {
              "color": "white"
             }
            },
            "type": "table"
           }
          ]
         },
         "layout": {
          "annotationdefaults": {
           "arrowcolor": "#2a3f5f",
           "arrowhead": 0,
           "arrowwidth": 1
          },
          "autotypenumbers": "strict",
          "coloraxis": {
           "colorbar": {
            "outlinewidth": 0,
            "ticks": ""
           }
          },
          "colorscale": {
           "diverging": [
            [
             0,
             "#8e0152"
            ],
            [
             0.1,
             "#c51b7d"
            ],
            [
             0.2,
             "#de77ae"
            ],
            [
             0.3,
             "#f1b6da"
            ],
            [
             0.4,
             "#fde0ef"
            ],
            [
             0.5,
             "#f7f7f7"
            ],
            [
             0.6,
             "#e6f5d0"
            ],
            [
             0.7,
             "#b8e186"
            ],
            [
             0.8,
             "#7fbc41"
            ],
            [
             0.9,
             "#4d9221"
            ],
            [
             1,
             "#276419"
            ]
           ],
           "sequential": [
            [
             0,
             "#0d0887"
            ],
            [
             0.1111111111111111,
             "#46039f"
            ],
            [
             0.2222222222222222,
             "#7201a8"
            ],
            [
             0.3333333333333333,
             "#9c179e"
            ],
            [
             0.4444444444444444,
             "#bd3786"
            ],
            [
             0.5555555555555556,
             "#d8576b"
            ],
            [
             0.6666666666666666,
             "#ed7953"
            ],
            [
             0.7777777777777778,
             "#fb9f3a"
            ],
            [
             0.8888888888888888,
             "#fdca26"
            ],
            [
             1,
             "#f0f921"
            ]
           ],
           "sequentialminus": [
            [
             0,
             "#0d0887"
            ],
            [
             0.1111111111111111,
             "#46039f"
            ],
            [
             0.2222222222222222,
             "#7201a8"
            ],
            [
             0.3333333333333333,
             "#9c179e"
            ],
            [
             0.4444444444444444,
             "#bd3786"
            ],
            [
             0.5555555555555556,
             "#d8576b"
            ],
            [
             0.6666666666666666,
             "#ed7953"
            ],
            [
             0.7777777777777778,
             "#fb9f3a"
            ],
            [
             0.8888888888888888,
             "#fdca26"
            ],
            [
             1,
             "#f0f921"
            ]
           ]
          },
          "colorway": [
           "#636efa",
           "#EF553B",
           "#00cc96",
           "#ab63fa",
           "#FFA15A",
           "#19d3f3",
           "#FF6692",
           "#B6E880",
           "#FF97FF",
           "#FECB52"
          ],
          "font": {
           "color": "#2a3f5f"
          },
          "geo": {
           "bgcolor": "white",
           "lakecolor": "white",
           "landcolor": "#E5ECF6",
           "showlakes": true,
           "showland": true,
           "subunitcolor": "white"
          },
          "hoverlabel": {
           "align": "left"
          },
          "hovermode": "closest",
          "mapbox": {
           "style": "light"
          },
          "paper_bgcolor": "white",
          "plot_bgcolor": "#E5ECF6",
          "polar": {
           "angularaxis": {
            "gridcolor": "white",
            "linecolor": "white",
            "ticks": ""
           },
           "bgcolor": "#E5ECF6",
           "radialaxis": {
            "gridcolor": "white",
            "linecolor": "white",
            "ticks": ""
           }
          },
          "scene": {
           "xaxis": {
            "backgroundcolor": "#E5ECF6",
            "gridcolor": "white",
            "gridwidth": 2,
            "linecolor": "white",
            "showbackground": true,
            "ticks": "",
            "zerolinecolor": "white"
           },
           "yaxis": {
            "backgroundcolor": "#E5ECF6",
            "gridcolor": "white",
            "gridwidth": 2,
            "linecolor": "white",
            "showbackground": true,
            "ticks": "",
            "zerolinecolor": "white"
           },
           "zaxis": {
            "backgroundcolor": "#E5ECF6",
            "gridcolor": "white",
            "gridwidth": 2,
            "linecolor": "white",
            "showbackground": true,
            "ticks": "",
            "zerolinecolor": "white"
           }
          },
          "shapedefaults": {
           "line": {
            "color": "#2a3f5f"
           }
          },
          "ternary": {
           "aaxis": {
            "gridcolor": "white",
            "linecolor": "white",
            "ticks": ""
           },
           "baxis": {
            "gridcolor": "white",
            "linecolor": "white",
            "ticks": ""
           },
           "bgcolor": "#E5ECF6",
           "caxis": {
            "gridcolor": "white",
            "linecolor": "white",
            "ticks": ""
           }
          },
          "title": {
           "x": 0.05
          },
          "xaxis": {
           "automargin": true,
           "gridcolor": "white",
           "linecolor": "white",
           "ticks": "",
           "title": {
            "standoff": 15
           },
           "zerolinecolor": "white",
           "zerolinewidth": 2
          },
          "yaxis": {
           "automargin": true,
           "gridcolor": "white",
           "linecolor": "white",
           "ticks": "",
           "title": {
            "standoff": 15
           },
           "zerolinecolor": "white",
           "zerolinewidth": 2
          }
         }
        },
        "title": {
         "text": "(region: Africa) - co2_emissions by GDP per capita"
        },
        "xaxis": {
         "title": {
          "text": "GDP per capita"
         }
        },
        "yaxis": {
         "title": {
          "text": "co2_emissions"
         },
         "type": "linear"
        }
       }
      }
     },
     "metadata": {},
     "output_type": "display_data"
    }
   ],
   "source": [
    "df = final_database\n",
    "\n",
    "if isinstance(df, (pd.DatetimeIndex, pd.MultiIndex)):\n",
    "\tdf = df.to_frame(index=False)\n",
    "\n",
    "# remove any pre-existing indices for ease of use in the D-Tale code, but this is not required\n",
    "df = df.reset_index().drop('index', axis=1, errors='ignore')\n",
    "df.columns = [str(c) for c in df.columns]  # update columns to strings in case they are numbers\n",
    "\n",
    "chart_data = pd.concat([\n",
    "\tdf['GDP per capita'],\n",
    "\tdf['co2_emissions'],\n",
    "\tdf['region'],\n",
    "], axis=1)\n",
    "\n",
    "chart_data = chart_data.query(\"\"\"(`region` == 'Africa') or (`region` == 'Americas') or (`region` == 'Asia') or (`region` == 'Europe') or (`region` == 'Oceania')\"\"\")\n",
    "chart_data = chart_data.sort_values(['region', 'GDP per capita'])\n",
    "chart_data = chart_data.rename(columns={'GDP per capita': 'x'})\n",
    "chart_data = chart_data.dropna()\n",
    "# WARNING: This is not taking into account grouping of any kind, please apply filter associated with\n",
    "#          the group in question in order to replicate chart. For this we're using '\"\"\"`region` == 'Africa'\"\"\"'\n",
    "chart_data = chart_data.query(\"\"\"`region` == 'Europe'\"\"\")\n",
    "\n",
    "import plotly.graph_objs as go\n",
    "\n",
    "chart = go.Scattergl(\n",
    "\tx=chart_data['x'], y=chart_data['co2_emissions'], mode='markers', opacity=0.7, name='(region == Europe)',\n",
    "\tmarker={'size': 15, 'line': {'width': 0.5, 'color': 'white'}}\n",
    ")\n",
    "\n",
    "figure = go.Figure(data=[chart], layout=go.Layout({\n",
    "    'legend': {'orientation': 'h', 'y': -0.3},\n",
    "    'title': {'text': '(region: Africa) - co2_emissions by GDP per capita'},\n",
    "    'xaxis': {'title': {'text': 'GDP per capita'}},\n",
    "    'yaxis': {'title': {'text': 'co2_emissions'}, 'type': 'linear'}\n",
    "}))\n",
    "\n",
    "figure.show()"
   ]
  },
  {
   "attachments": {},
   "cell_type": "markdown",
   "id": "2e5f60fa",
   "metadata": {},
   "source": [
    "#### Escogí la región de Africa poco industrializada y en esta región se observa que no hay relación entre el GDP per capita y las emisiones per capita de CO2\n"
   ]
  },
  {
   "cell_type": "code",
   "execution_count": 377,
   "id": "5190f466",
   "metadata": {},
   "outputs": [
    {
     "data": {
      "application/vnd.plotly.v1+json": {
       "config": {
        "plotlyServerURL": "https://plot.ly"
       },
       "data": [
        {
         "marker": {
          "color": "#AB63FA",
          "line": {
           "color": "white",
           "width": 0.5
          },
          "size": 15
         },
         "mode": "markers",
         "name": "(sub-region: Eastern Europe)",
         "opacity": 0.7,
         "type": "scattergl",
         "x": [
          6068,
          17037,
          17628,
          23279,
          23635,
          24838,
          25364,
          28823
         ],
         "y": [
          1.0366579076215934,
          0.8186065786996364,
          0.6149272784413845,
          0.45942976901521426,
          0.07542791304761275,
          0.2079449732100956,
          1.068029516104263,
          0.9111723956809232
         ]
        },
        {
         "marker": {
          "color": "#FFA15A",
          "line": {
           "color": "white",
           "width": 0.5
          },
          "size": 15
         },
         "mode": "markers",
         "name": "(sub-region: Latin America and the Caribbean)",
         "opacity": 0.7,
         "type": "scattergl",
         "x": [
          7084,
          8280,
          8786,
          10527,
          11776,
          13326,
          13873,
          14098,
          14489,
          16133,
          18875,
          19468,
          21449,
          21696
         ],
         "y": [
          0.8962565443621007,
          0.17747315153842658,
          0.15629206855006833,
          0.14638349078376503,
          0.05945088798318673,
          0.03562510536574867,
          0.010518735694333129,
          0.33661766819013844,
          0.22744730296147106,
          0.03111604692189614,
          0.096393904635079,
          0.5560896628320288,
          0.6608189926216345,
          0.26084965104207397
         ]
        }
       ],
       "layout": {
        "legend": {
         "orientation": "h",
         "y": -0.3
        },
        "template": {
         "data": {
          "bar": [
           {
            "error_x": {
             "color": "#2a3f5f"
            },
            "error_y": {
             "color": "#2a3f5f"
            },
            "marker": {
             "line": {
              "color": "#E5ECF6",
              "width": 0.5
             },
             "pattern": {
              "fillmode": "overlay",
              "size": 10,
              "solidity": 0.2
             }
            },
            "type": "bar"
           }
          ],
          "barpolar": [
           {
            "marker": {
             "line": {
              "color": "#E5ECF6",
              "width": 0.5
             },
             "pattern": {
              "fillmode": "overlay",
              "size": 10,
              "solidity": 0.2
             }
            },
            "type": "barpolar"
           }
          ],
          "carpet": [
           {
            "aaxis": {
             "endlinecolor": "#2a3f5f",
             "gridcolor": "white",
             "linecolor": "white",
             "minorgridcolor": "white",
             "startlinecolor": "#2a3f5f"
            },
            "baxis": {
             "endlinecolor": "#2a3f5f",
             "gridcolor": "white",
             "linecolor": "white",
             "minorgridcolor": "white",
             "startlinecolor": "#2a3f5f"
            },
            "type": "carpet"
           }
          ],
          "choropleth": [
           {
            "colorbar": {
             "outlinewidth": 0,
             "ticks": ""
            },
            "type": "choropleth"
           }
          ],
          "contour": [
           {
            "colorbar": {
             "outlinewidth": 0,
             "ticks": ""
            },
            "colorscale": [
             [
              0,
              "#0d0887"
             ],
             [
              0.1111111111111111,
              "#46039f"
             ],
             [
              0.2222222222222222,
              "#7201a8"
             ],
             [
              0.3333333333333333,
              "#9c179e"
             ],
             [
              0.4444444444444444,
              "#bd3786"
             ],
             [
              0.5555555555555556,
              "#d8576b"
             ],
             [
              0.6666666666666666,
              "#ed7953"
             ],
             [
              0.7777777777777778,
              "#fb9f3a"
             ],
             [
              0.8888888888888888,
              "#fdca26"
             ],
             [
              1,
              "#f0f921"
             ]
            ],
            "type": "contour"
           }
          ],
          "contourcarpet": [
           {
            "colorbar": {
             "outlinewidth": 0,
             "ticks": ""
            },
            "type": "contourcarpet"
           }
          ],
          "heatmap": [
           {
            "colorbar": {
             "outlinewidth": 0,
             "ticks": ""
            },
            "colorscale": [
             [
              0,
              "#0d0887"
             ],
             [
              0.1111111111111111,
              "#46039f"
             ],
             [
              0.2222222222222222,
              "#7201a8"
             ],
             [
              0.3333333333333333,
              "#9c179e"
             ],
             [
              0.4444444444444444,
              "#bd3786"
             ],
             [
              0.5555555555555556,
              "#d8576b"
             ],
             [
              0.6666666666666666,
              "#ed7953"
             ],
             [
              0.7777777777777778,
              "#fb9f3a"
             ],
             [
              0.8888888888888888,
              "#fdca26"
             ],
             [
              1,
              "#f0f921"
             ]
            ],
            "type": "heatmap"
           }
          ],
          "heatmapgl": [
           {
            "colorbar": {
             "outlinewidth": 0,
             "ticks": ""
            },
            "colorscale": [
             [
              0,
              "#0d0887"
             ],
             [
              0.1111111111111111,
              "#46039f"
             ],
             [
              0.2222222222222222,
              "#7201a8"
             ],
             [
              0.3333333333333333,
              "#9c179e"
             ],
             [
              0.4444444444444444,
              "#bd3786"
             ],
             [
              0.5555555555555556,
              "#d8576b"
             ],
             [
              0.6666666666666666,
              "#ed7953"
             ],
             [
              0.7777777777777778,
              "#fb9f3a"
             ],
             [
              0.8888888888888888,
              "#fdca26"
             ],
             [
              1,
              "#f0f921"
             ]
            ],
            "type": "heatmapgl"
           }
          ],
          "histogram": [
           {
            "marker": {
             "pattern": {
              "fillmode": "overlay",
              "size": 10,
              "solidity": 0.2
             }
            },
            "type": "histogram"
           }
          ],
          "histogram2d": [
           {
            "colorbar": {
             "outlinewidth": 0,
             "ticks": ""
            },
            "colorscale": [
             [
              0,
              "#0d0887"
             ],
             [
              0.1111111111111111,
              "#46039f"
             ],
             [
              0.2222222222222222,
              "#7201a8"
             ],
             [
              0.3333333333333333,
              "#9c179e"
             ],
             [
              0.4444444444444444,
              "#bd3786"
             ],
             [
              0.5555555555555556,
              "#d8576b"
             ],
             [
              0.6666666666666666,
              "#ed7953"
             ],
             [
              0.7777777777777778,
              "#fb9f3a"
             ],
             [
              0.8888888888888888,
              "#fdca26"
             ],
             [
              1,
              "#f0f921"
             ]
            ],
            "type": "histogram2d"
           }
          ],
          "histogram2dcontour": [
           {
            "colorbar": {
             "outlinewidth": 0,
             "ticks": ""
            },
            "colorscale": [
             [
              0,
              "#0d0887"
             ],
             [
              0.1111111111111111,
              "#46039f"
             ],
             [
              0.2222222222222222,
              "#7201a8"
             ],
             [
              0.3333333333333333,
              "#9c179e"
             ],
             [
              0.4444444444444444,
              "#bd3786"
             ],
             [
              0.5555555555555556,
              "#d8576b"
             ],
             [
              0.6666666666666666,
              "#ed7953"
             ],
             [
              0.7777777777777778,
              "#fb9f3a"
             ],
             [
              0.8888888888888888,
              "#fdca26"
             ],
             [
              1,
              "#f0f921"
             ]
            ],
            "type": "histogram2dcontour"
           }
          ],
          "mesh3d": [
           {
            "colorbar": {
             "outlinewidth": 0,
             "ticks": ""
            },
            "type": "mesh3d"
           }
          ],
          "parcoords": [
           {
            "line": {
             "colorbar": {
              "outlinewidth": 0,
              "ticks": ""
             }
            },
            "type": "parcoords"
           }
          ],
          "pie": [
           {
            "automargin": true,
            "type": "pie"
           }
          ],
          "scatter": [
           {
            "fillpattern": {
             "fillmode": "overlay",
             "size": 10,
             "solidity": 0.2
            },
            "type": "scatter"
           }
          ],
          "scatter3d": [
           {
            "line": {
             "colorbar": {
              "outlinewidth": 0,
              "ticks": ""
             }
            },
            "marker": {
             "colorbar": {
              "outlinewidth": 0,
              "ticks": ""
             }
            },
            "type": "scatter3d"
           }
          ],
          "scattercarpet": [
           {
            "marker": {
             "colorbar": {
              "outlinewidth": 0,
              "ticks": ""
             }
            },
            "type": "scattercarpet"
           }
          ],
          "scattergeo": [
           {
            "marker": {
             "colorbar": {
              "outlinewidth": 0,
              "ticks": ""
             }
            },
            "type": "scattergeo"
           }
          ],
          "scattergl": [
           {
            "marker": {
             "colorbar": {
              "outlinewidth": 0,
              "ticks": ""
             }
            },
            "type": "scattergl"
           }
          ],
          "scattermapbox": [
           {
            "marker": {
             "colorbar": {
              "outlinewidth": 0,
              "ticks": ""
             }
            },
            "type": "scattermapbox"
           }
          ],
          "scatterpolar": [
           {
            "marker": {
             "colorbar": {
              "outlinewidth": 0,
              "ticks": ""
             }
            },
            "type": "scatterpolar"
           }
          ],
          "scatterpolargl": [
           {
            "marker": {
             "colorbar": {
              "outlinewidth": 0,
              "ticks": ""
             }
            },
            "type": "scatterpolargl"
           }
          ],
          "scatterternary": [
           {
            "marker": {
             "colorbar": {
              "outlinewidth": 0,
              "ticks": ""
             }
            },
            "type": "scatterternary"
           }
          ],
          "surface": [
           {
            "colorbar": {
             "outlinewidth": 0,
             "ticks": ""
            },
            "colorscale": [
             [
              0,
              "#0d0887"
             ],
             [
              0.1111111111111111,
              "#46039f"
             ],
             [
              0.2222222222222222,
              "#7201a8"
             ],
             [
              0.3333333333333333,
              "#9c179e"
             ],
             [
              0.4444444444444444,
              "#bd3786"
             ],
             [
              0.5555555555555556,
              "#d8576b"
             ],
             [
              0.6666666666666666,
              "#ed7953"
             ],
             [
              0.7777777777777778,
              "#fb9f3a"
             ],
             [
              0.8888888888888888,
              "#fdca26"
             ],
             [
              1,
              "#f0f921"
             ]
            ],
            "type": "surface"
           }
          ],
          "table": [
           {
            "cells": {
             "fill": {
              "color": "#EBF0F8"
             },
             "line": {
              "color": "white"
             }
            },
            "header": {
             "fill": {
              "color": "#C8D4E3"
             },
             "line": {
              "color": "white"
             }
            },
            "type": "table"
           }
          ]
         },
         "layout": {
          "annotationdefaults": {
           "arrowcolor": "#2a3f5f",
           "arrowhead": 0,
           "arrowwidth": 1
          },
          "autotypenumbers": "strict",
          "coloraxis": {
           "colorbar": {
            "outlinewidth": 0,
            "ticks": ""
           }
          },
          "colorscale": {
           "diverging": [
            [
             0,
             "#8e0152"
            ],
            [
             0.1,
             "#c51b7d"
            ],
            [
             0.2,
             "#de77ae"
            ],
            [
             0.3,
             "#f1b6da"
            ],
            [
             0.4,
             "#fde0ef"
            ],
            [
             0.5,
             "#f7f7f7"
            ],
            [
             0.6,
             "#e6f5d0"
            ],
            [
             0.7,
             "#b8e186"
            ],
            [
             0.8,
             "#7fbc41"
            ],
            [
             0.9,
             "#4d9221"
            ],
            [
             1,
             "#276419"
            ]
           ],
           "sequential": [
            [
             0,
             "#0d0887"
            ],
            [
             0.1111111111111111,
             "#46039f"
            ],
            [
             0.2222222222222222,
             "#7201a8"
            ],
            [
             0.3333333333333333,
             "#9c179e"
            ],
            [
             0.4444444444444444,
             "#bd3786"
            ],
            [
             0.5555555555555556,
             "#d8576b"
            ],
            [
             0.6666666666666666,
             "#ed7953"
            ],
            [
             0.7777777777777778,
             "#fb9f3a"
            ],
            [
             0.8888888888888888,
             "#fdca26"
            ],
            [
             1,
             "#f0f921"
            ]
           ],
           "sequentialminus": [
            [
             0,
             "#0d0887"
            ],
            [
             0.1111111111111111,
             "#46039f"
            ],
            [
             0.2222222222222222,
             "#7201a8"
            ],
            [
             0.3333333333333333,
             "#9c179e"
            ],
            [
             0.4444444444444444,
             "#bd3786"
            ],
            [
             0.5555555555555556,
             "#d8576b"
            ],
            [
             0.6666666666666666,
             "#ed7953"
            ],
            [
             0.7777777777777778,
             "#fb9f3a"
            ],
            [
             0.8888888888888888,
             "#fdca26"
            ],
            [
             1,
             "#f0f921"
            ]
           ]
          },
          "colorway": [
           "#636efa",
           "#EF553B",
           "#00cc96",
           "#ab63fa",
           "#FFA15A",
           "#19d3f3",
           "#FF6692",
           "#B6E880",
           "#FF97FF",
           "#FECB52"
          ],
          "font": {
           "color": "#2a3f5f"
          },
          "geo": {
           "bgcolor": "white",
           "lakecolor": "white",
           "landcolor": "#E5ECF6",
           "showlakes": true,
           "showland": true,
           "subunitcolor": "white"
          },
          "hoverlabel": {
           "align": "left"
          },
          "hovermode": "closest",
          "mapbox": {
           "style": "light"
          },
          "paper_bgcolor": "white",
          "plot_bgcolor": "#E5ECF6",
          "polar": {
           "angularaxis": {
            "gridcolor": "white",
            "linecolor": "white",
            "ticks": ""
           },
           "bgcolor": "#E5ECF6",
           "radialaxis": {
            "gridcolor": "white",
            "linecolor": "white",
            "ticks": ""
           }
          },
          "scene": {
           "xaxis": {
            "backgroundcolor": "#E5ECF6",
            "gridcolor": "white",
            "gridwidth": 2,
            "linecolor": "white",
            "showbackground": true,
            "ticks": "",
            "zerolinecolor": "white"
           },
           "yaxis": {
            "backgroundcolor": "#E5ECF6",
            "gridcolor": "white",
            "gridwidth": 2,
            "linecolor": "white",
            "showbackground": true,
            "ticks": "",
            "zerolinecolor": "white"
           },
           "zaxis": {
            "backgroundcolor": "#E5ECF6",
            "gridcolor": "white",
            "gridwidth": 2,
            "linecolor": "white",
            "showbackground": true,
            "ticks": "",
            "zerolinecolor": "white"
           }
          },
          "shapedefaults": {
           "line": {
            "color": "#2a3f5f"
           }
          },
          "ternary": {
           "aaxis": {
            "gridcolor": "white",
            "linecolor": "white",
            "ticks": ""
           },
           "baxis": {
            "gridcolor": "white",
            "linecolor": "white",
            "ticks": ""
           },
           "bgcolor": "#E5ECF6",
           "caxis": {
            "gridcolor": "white",
            "linecolor": "white",
            "ticks": ""
           }
          },
          "title": {
           "x": 0.05
          },
          "xaxis": {
           "automargin": true,
           "gridcolor": "white",
           "linecolor": "white",
           "ticks": "",
           "title": {
            "standoff": 15
           },
           "zerolinecolor": "white",
           "zerolinewidth": 2
          },
          "yaxis": {
           "automargin": true,
           "gridcolor": "white",
           "linecolor": "white",
           "ticks": "",
           "title": {
            "standoff": 15
           },
           "zerolinecolor": "white",
           "zerolinewidth": 2
          }
         }
        },
        "title": {
         "text": "co2_emissions by GDP per capita"
        },
        "xaxis": {
         "title": {
          "text": "GDP per capita"
         }
        },
        "yaxis": {
         "title": {
          "text": "co2_emissions"
         },
         "type": "linear"
        }
       }
      }
     },
     "metadata": {},
     "output_type": "display_data"
    }
   ],
   "source": [
    "# DISCLAIMER: 'df' refers to the data you passed in when calling 'dtale.show'\n",
    "\n",
    "if isinstance(df, (pd.DatetimeIndex, pd.MultiIndex)):\n",
    "\tdf = df.to_frame(index=False)\n",
    "\n",
    "# remove any pre-existing indices for ease of use in the D-Tale code, but this is not required\n",
    "df = df.reset_index().drop('index', axis=1, errors='ignore')\n",
    "df.columns = [str(c) for c in df.columns]  # update columns to strings in case they are numbers\n",
    "\n",
    "chart_data = pd.concat([\n",
    "\tdf['GDP per capita'],\n",
    "\tdf['co2_emissions'],\n",
    "\tdf['sub-region'],\n",
    "], axis=1)\n",
    "chart_data = chart_data.query(\"\"\"(`sub-region` == 'Australia and New Zealand') or (`sub-region` == 'Central Asia') or (`sub-region` == 'Eastern Asia') or (`sub-region` == 'Eastern Europe') or (`sub-region` == 'Latin America and the Caribbean') or (`sub-region` == 'Northern Africa') or (`sub-region` == 'Northern America') or (`sub-region` == 'Northern Europe') or (`sub-region` == 'South-eastern Asia') or (`sub-region` == 'Southern Asia') or (`sub-region` == 'Southern Europe') or (`sub-region` == 'Sub-Saharan Africa') or (`sub-region` == 'Western Asia') or (`sub-region` == 'Western Europe')\"\"\")\n",
    "chart_data = chart_data.sort_values(['sub-region', 'GDP per capita'])\n",
    "chart_data = chart_data.rename(columns={'GDP per capita': 'x'})\n",
    "chart_data = chart_data.dropna()\n",
    "# WARNING: This is not taking into account grouping of any kind, please apply filter associated with\n",
    "#          the group in question in order to replicate chart. For this we're using '\"\"\"`region` == 'Africa'\"\"\"'\n",
    "chart_data4 = chart_data.query(\"\"\"`sub-region` == 'Eastern Europe'\"\"\")\n",
    "chart_data5 = chart_data.query(\"\"\"`sub-region` == 'Latin America and the Caribbean'\"\"\")\n",
    "\n",
    "\n",
    "import plotly.graph_objs as go\n",
    "\n",
    "\n",
    "chart4 = go.Scattergl(\n",
    "\tx=chart_data4['x'], y=chart_data4['co2_emissions'], mode='markers', opacity=0.7, name='(sub-region: Eastern Europe)',\n",
    "\tmarker={'size': 15, 'line': {'width': 0.5, 'color': 'white'}, 'color' : '#AB63FA'}\n",
    ")\n",
    "\n",
    "chart5 = go.Scattergl(\n",
    "\tx=chart_data5['x'], y=chart_data5['co2_emissions'], mode='markers', opacity=0.7, name='(sub-region: Latin America and the Caribbean)',\n",
    "\tmarker={'size': 15, 'line': {'width': 0.5, 'color': 'white'}, 'color' : '#FFA15A'}\n",
    ")\n",
    "\n",
    "\n",
    "final_chart = [chart4, chart5]\n",
    "\n",
    "figure = go.Figure(data=final_chart, layout=go.Layout({\n",
    "    'legend': {'orientation': 'h', 'y': -0.3},\n",
    "    'title': {'text': 'co2_emissions by GDP per capita'},\n",
    "    'xaxis': {'title': {'text': 'GDP per capita'}},\n",
    "    'yaxis': {'title': {'text': 'co2_emissions'}, 'type': 'linear'}\n",
    "}))\n",
    "\n",
    "figure.show()"
   ]
  },
  {
   "attachments": {},
   "cell_type": "markdown",
   "id": "a4091ebd",
   "metadata": {},
   "source": [
    "### En latinoamerica no se observa una relación clara, mientras que en el este de europa se observa una aparente relación negativa entre el GDP per capita y las emisiones de CO2 una leve relación negativa. "
   ]
  },
  {
   "cell_type": "markdown",
   "id": "ae99d2a8",
   "metadata": {},
   "source": [
    "El Acuerdo de París de 2015 es un acuerdo internacional sobre el cambio climático, adoptado por 195 países. El objetivo principal del acuerdo es limitar el aumento de la temperatura global por debajo de los 2 grados Celsius en comparación con los niveles preindustriales, y perseguir esfuerzos para limitar el aumento de temperatura a 1,5 grados Celsius. Los países acordaron establecer contribuciones nacionales determinadas (NDC) y comprometerse a informar sobre su progreso hacia la reducción de las emisiones de gases de efecto invernadero. Además, el acuerdo incluye disposiciones para la adaptación al cambio climático y la provisión de financiamiento climático, donde la reducción de emisiones de CO2 es un elemento clave."
   ]
  },
  {
   "cell_type": "markdown",
   "id": "dfb2fb9d",
   "metadata": {},
   "source": [
    "6. Por lo cual, su tarea es realizar la estimación más aproximada a los determinantes de las emisiones de CO2. En primer lugar, lleve a cabo una estimación cuya variable dependiente sea las emisiones de CO2 per cápita y la variable independiente es el PIB per cápita (sin incluir la constante). ¿Qué encuentra en esta regresión?\n",
    "\n",
    "<b>Nota:</b> Debe crear la variable de emisiones de CO2 per cápita, cuya unidad de medida debe ser <i>toneladas métricas</i>, por lo cual las emisiones de CO2 per cápita deben ser multiplicadas por un millón."
   ]
  },
  {
   "cell_type": "code",
   "execution_count": 378,
   "id": "c656edcc",
   "metadata": {},
   "outputs": [
    {
     "data": {
      "text/html": [
       "<table class=\"simpletable\">\n",
       "<caption>OLS Regression Results</caption>\n",
       "<tr>\n",
       "  <th>Dep. Variable:</th>      <td>co2_emissions</td>  <th>  R-squared:         </th> <td>   0.028</td>\n",
       "</tr>\n",
       "<tr>\n",
       "  <th>Model:</th>                   <td>OLS</td>       <th>  Adj. R-squared:    </th> <td>   0.016</td>\n",
       "</tr>\n",
       "<tr>\n",
       "  <th>Method:</th>             <td>Least Squares</td>  <th>  F-statistic:       </th> <td>   2.283</td>\n",
       "</tr>\n",
       "<tr>\n",
       "  <th>Date:</th>             <td>Fri, 31 Mar 2023</td> <th>  Prob (F-statistic):</th>  <td> 0.135</td> \n",
       "</tr>\n",
       "<tr>\n",
       "  <th>Time:</th>                 <td>20:30:30</td>     <th>  Log-Likelihood:    </th> <td> -128.43</td>\n",
       "</tr>\n",
       "<tr>\n",
       "  <th>No. Observations:</th>      <td>    82</td>      <th>  AIC:               </th> <td>   260.9</td>\n",
       "</tr>\n",
       "<tr>\n",
       "  <th>Df Residuals:</th>          <td>    80</td>      <th>  BIC:               </th> <td>   265.7</td>\n",
       "</tr>\n",
       "<tr>\n",
       "  <th>Df Model:</th>              <td>     1</td>      <th>                     </th>     <td> </td>   \n",
       "</tr>\n",
       "<tr>\n",
       "  <th>Covariance Type:</th>      <td>nonrobust</td>    <th>                     </th>     <td> </td>   \n",
       "</tr>\n",
       "</table>\n",
       "<table class=\"simpletable\">\n",
       "<tr>\n",
       "          <td></td>            <th>coef</th>     <th>std err</th>      <th>t</th>      <th>P>|t|</th>  <th>[0.025</th>    <th>0.975]</th>  \n",
       "</tr>\n",
       "<tr>\n",
       "  <th>Intercept</th>        <td>    0.7432</td> <td>    0.136</td> <td>    5.461</td> <td> 0.000</td> <td>    0.472</td> <td>    1.014</td>\n",
       "</tr>\n",
       "<tr>\n",
       "  <th>population_total</th> <td>-9.239e-10</td> <td> 6.11e-10</td> <td>   -1.511</td> <td> 0.135</td> <td>-2.14e-09</td> <td> 2.93e-10</td>\n",
       "</tr>\n",
       "</table>\n",
       "<table class=\"simpletable\">\n",
       "<tr>\n",
       "  <th>Omnibus:</th>       <td>124.385</td> <th>  Durbin-Watson:     </th> <td>   2.110</td>\n",
       "</tr>\n",
       "<tr>\n",
       "  <th>Prob(Omnibus):</th> <td> 0.000</td>  <th>  Jarque-Bera (JB):  </th> <td>4041.017</td>\n",
       "</tr>\n",
       "<tr>\n",
       "  <th>Skew:</th>          <td> 5.060</td>  <th>  Prob(JB):          </th> <td>    0.00</td>\n",
       "</tr>\n",
       "<tr>\n",
       "  <th>Kurtosis:</th>      <td>35.868</td>  <th>  Cond. No.          </th> <td>2.34e+08</td>\n",
       "</tr>\n",
       "</table><br/><br/>Notes:<br/>[1] Standard Errors assume that the covariance matrix of the errors is correctly specified.<br/>[2] The condition number is large, 2.34e+08. This might indicate that there are<br/>strong multicollinearity or other numerical problems."
      ],
      "text/plain": [
       "<class 'statsmodels.iolib.summary.Summary'>\n",
       "\"\"\"\n",
       "                            OLS Regression Results                            \n",
       "==============================================================================\n",
       "Dep. Variable:          co2_emissions   R-squared:                       0.028\n",
       "Model:                            OLS   Adj. R-squared:                  0.016\n",
       "Method:                 Least Squares   F-statistic:                     2.283\n",
       "Date:                Fri, 31 Mar 2023   Prob (F-statistic):              0.135\n",
       "Time:                        20:30:30   Log-Likelihood:                -128.43\n",
       "No. Observations:                  82   AIC:                             260.9\n",
       "Df Residuals:                      80   BIC:                             265.7\n",
       "Df Model:                           1                                         \n",
       "Covariance Type:            nonrobust                                         \n",
       "====================================================================================\n",
       "                       coef    std err          t      P>|t|      [0.025      0.975]\n",
       "------------------------------------------------------------------------------------\n",
       "Intercept            0.7432      0.136      5.461      0.000       0.472       1.014\n",
       "population_total -9.239e-10   6.11e-10     -1.511      0.135   -2.14e-09    2.93e-10\n",
       "==============================================================================\n",
       "Omnibus:                      124.385   Durbin-Watson:                   2.110\n",
       "Prob(Omnibus):                  0.000   Jarque-Bera (JB):             4041.017\n",
       "Skew:                           5.060   Prob(JB):                         0.00\n",
       "Kurtosis:                      35.868   Cond. No.                     2.34e+08\n",
       "==============================================================================\n",
       "\n",
       "Notes:\n",
       "[1] Standard Errors assume that the covariance matrix of the errors is correctly specified.\n",
       "[2] The condition number is large, 2.34e+08. This might indicate that there are\n",
       "strong multicollinearity or other numerical problems.\n",
       "\"\"\""
      ]
     },
     "execution_count": 378,
     "metadata": {},
     "output_type": "execute_result"
    }
   ],
   "source": [
    "\n",
    "reg1 = smf.ols(formula = 'co2_emissions ~ population_total', data=final_database).fit()\n",
    "reg1.summary()\n"
   ]
  },
  {
   "attachments": {},
   "cell_type": "markdown",
   "id": "f036fc93",
   "metadata": {},
   "source": [
    "### Lo que se observa en la regresión es que la variable de población total no es significativa para explicar las emisiones de Co2 per capita. "
   ]
  },
  {
   "cell_type": "markdown",
   "id": "1ffae8f8",
   "metadata": {},
   "source": [
    "7. Realice una estimación ampliada, donde las emisiones de CO2 per cápita es la variable dependiente. Esta estimación considerará <b>máximo</b> cinco parámetros estimados. La estimación ampliada debe incluir una tabla resumen donde se muestre el p-value, los parámetros estimados y otros tests estadísticos.\n",
    "\n",
    "Si las variables seleccionadas por usted tienen missing values, reemplácelos con la media. Si tienen valores atípicos (outliers) reemplácelos con la mediana. Si no tienen missing values, no haga ninguna operación. <p>\n",
    "\n",
    "<b>Nota</b>: Recuerde que si incluye la constante en la estimación genera un parámetro adicional. En dado caso, solo podría usar cuatro variables. Si no quiere incluir la constante en la estimación incluya `- 1` en la fórmula de la ecuación. <i>Advertencia</i>: <b>No</b> puede incluir seis variables o cinco variables y la constante."
   ]
  },
  {
   "cell_type": "code",
   "execution_count": 379,
   "id": "e6a212ba",
   "metadata": {},
   "outputs": [
    {
     "data": {
      "text/html": [
       "<table class=\"simpletable\">\n",
       "<caption>OLS Regression Results</caption>\n",
       "<tr>\n",
       "  <th>Dep. Variable:</th>      <td>co2_emissions</td>  <th>  R-squared (uncentered):</th>      <td>   0.827</td>\n",
       "</tr>\n",
       "<tr>\n",
       "  <th>Model:</th>                   <td>OLS</td>       <th>  Adj. R-squared (uncentered):</th> <td>   0.816</td>\n",
       "</tr>\n",
       "<tr>\n",
       "  <th>Method:</th>             <td>Least Squares</td>  <th>  F-statistic:       </th>          <td>   73.54</td>\n",
       "</tr>\n",
       "<tr>\n",
       "  <th>Date:</th>             <td>Fri, 31 Mar 2023</td> <th>  Prob (F-statistic):</th>          <td>6.83e-28</td>\n",
       "</tr>\n",
       "<tr>\n",
       "  <th>Time:</th>                 <td>20:30:30</td>     <th>  Log-Likelihood:    </th>          <td> -69.536</td>\n",
       "</tr>\n",
       "<tr>\n",
       "  <th>No. Observations:</th>      <td>    82</td>      <th>  AIC:               </th>          <td>   149.1</td>\n",
       "</tr>\n",
       "<tr>\n",
       "  <th>Df Residuals:</th>          <td>    77</td>      <th>  BIC:               </th>          <td>   161.1</td>\n",
       "</tr>\n",
       "<tr>\n",
       "  <th>Df Model:</th>              <td>     5</td>      <th>                     </th>              <td> </td>   \n",
       "</tr>\n",
       "<tr>\n",
       "  <th>Covariance Type:</th>      <td>nonrobust</td>    <th>                     </th>              <td> </td>   \n",
       "</tr>\n",
       "</table>\n",
       "<table class=\"simpletable\">\n",
       "<tr>\n",
       "                <td></td>                   <th>coef</th>     <th>std err</th>      <th>t</th>      <th>P>|t|</th>  <th>[0.025</th>    <th>0.975]</th>  \n",
       "</tr>\n",
       "<tr>\n",
       "  <th>exports_of_goods_and_services</th> <td> 8.862e+04</td> <td> 3.13e+04</td> <td>    2.835</td> <td> 0.006</td> <td> 2.64e+04</td> <td> 1.51e+05</td>\n",
       "</tr>\n",
       "<tr>\n",
       "  <th>imports_of_goods_and_services</th> <td>-7.286e+04</td> <td> 3.77e+04</td> <td>   -1.932</td> <td> 0.057</td> <td>-1.48e+05</td> <td> 2246.983</td>\n",
       "</tr>\n",
       "<tr>\n",
       "  <th>merchandise_trade</th>             <td> 2.944e+04</td> <td> 1.72e+04</td> <td>    1.711</td> <td> 0.091</td> <td>-4819.638</td> <td> 6.37e+04</td>\n",
       "</tr>\n",
       "<tr>\n",
       "  <th>mobile_cellular_subscriptions</th> <td> 3.032e+04</td> <td> 9305.857</td> <td>    3.258</td> <td> 0.002</td> <td> 1.18e+04</td> <td> 4.88e+04</td>\n",
       "</tr>\n",
       "<tr>\n",
       "  <th>teenage_fertility_rate</th>        <td>-6.309e+04</td> <td> 1.55e+04</td> <td>   -4.061</td> <td> 0.000</td> <td> -9.4e+04</td> <td>-3.22e+04</td>\n",
       "</tr>\n",
       "</table>\n",
       "<table class=\"simpletable\">\n",
       "<tr>\n",
       "  <th>Omnibus:</th>       <td>33.339</td> <th>  Durbin-Watson:     </th> <td>   1.864</td>\n",
       "</tr>\n",
       "<tr>\n",
       "  <th>Prob(Omnibus):</th> <td> 0.000</td> <th>  Jarque-Bera (JB):  </th> <td> 198.994</td>\n",
       "</tr>\n",
       "<tr>\n",
       "  <th>Skew:</th>          <td> 0.955</td> <th>  Prob(JB):          </th> <td>6.15e-44</td>\n",
       "</tr>\n",
       "<tr>\n",
       "  <th>Kurtosis:</th>      <td>10.389</td> <th>  Cond. No.          </th> <td>    26.0</td>\n",
       "</tr>\n",
       "</table><br/><br/>Notes:<br/>[1] R² is computed without centering (uncentered) since the model does not contain a constant.<br/>[2] Standard Errors assume that the covariance matrix of the errors is correctly specified."
      ],
      "text/plain": [
       "<class 'statsmodels.iolib.summary.Summary'>\n",
       "\"\"\"\n",
       "                                 OLS Regression Results                                \n",
       "=======================================================================================\n",
       "Dep. Variable:          co2_emissions   R-squared (uncentered):                   0.827\n",
       "Model:                            OLS   Adj. R-squared (uncentered):              0.816\n",
       "Method:                 Least Squares   F-statistic:                              73.54\n",
       "Date:                Fri, 31 Mar 2023   Prob (F-statistic):                    6.83e-28\n",
       "Time:                        20:30:30   Log-Likelihood:                         -69.536\n",
       "No. Observations:                  82   AIC:                                      149.1\n",
       "Df Residuals:                      77   BIC:                                      161.1\n",
       "Df Model:                           5                                                  \n",
       "Covariance Type:            nonrobust                                                  \n",
       "=================================================================================================\n",
       "                                    coef    std err          t      P>|t|      [0.025      0.975]\n",
       "-------------------------------------------------------------------------------------------------\n",
       "exports_of_goods_and_services  8.862e+04   3.13e+04      2.835      0.006    2.64e+04    1.51e+05\n",
       "imports_of_goods_and_services -7.286e+04   3.77e+04     -1.932      0.057   -1.48e+05    2246.983\n",
       "merchandise_trade              2.944e+04   1.72e+04      1.711      0.091   -4819.638    6.37e+04\n",
       "mobile_cellular_subscriptions  3.032e+04   9305.857      3.258      0.002    1.18e+04    4.88e+04\n",
       "teenage_fertility_rate        -6.309e+04   1.55e+04     -4.061      0.000    -9.4e+04   -3.22e+04\n",
       "==============================================================================\n",
       "Omnibus:                       33.339   Durbin-Watson:                   1.864\n",
       "Prob(Omnibus):                  0.000   Jarque-Bera (JB):              198.994\n",
       "Skew:                           0.955   Prob(JB):                     6.15e-44\n",
       "Kurtosis:                      10.389   Cond. No.                         26.0\n",
       "==============================================================================\n",
       "\n",
       "Notes:\n",
       "[1] R² is computed without centering (uncentered) since the model does not contain a constant.\n",
       "[2] Standard Errors assume that the covariance matrix of the errors is correctly specified.\n",
       "\"\"\""
      ]
     },
     "execution_count": 379,
     "metadata": {},
     "output_type": "execute_result"
    }
   ],
   "source": [
    "\n",
    "reg2 = smf.ols(formula = 'co2_emissions ~ 0 + exports_of_goods_and_services + imports_of_goods_and_services + merchandise_trade + mobile_cellular_subscriptions + teenage_fertility_rate' , data=final_database).fit()\n",
    "reg2.summary()"
   ]
  },
  {
   "cell_type": "markdown",
   "id": "d333a3e5",
   "metadata": {},
   "source": [
    "8. ¿Cuáles criterios utilizó para seleccionar las variables regresoras? Incluya al menos una gráfica y una tabla para sustentarlo.<p>"
   ]
  },
  {
   "cell_type": "markdown",
   "id": "3f3d7d7e",
   "metadata": {},
   "source": [
    "### Los criterios utilizados para escoger los parametros fue la correlación que presentaban con la variable Co2_emissions"
   ]
  },
  {
   "cell_type": "code",
   "execution_count": 380,
   "id": "555967a5",
   "metadata": {},
   "outputs": [
    {
     "data": {
      "image/png": "[encoded data removed]",
      "text/plain": [
       "<Figure size 720x720 with 2 Axes>"
      ]
     },
     "metadata": {
      "needs_background": "light"
     },
     "output_type": "display_data"
    }
   ],
   "source": [
    "corr_table = final_database.corr()\n",
    "\n",
    "# plot a heatmap of the correlation matrix\n",
    "plt.figure(figsize=(10, 10))\n",
    "plt.title(\"Correlation Heatmap\")\n",
    "plt.imshow(corr_table, cmap=\"coolwarm\", interpolation=\"nearest\")\n",
    "plt.colorbar()\n",
    "plt.xticks(range(len(corr_table)), corr_table.columns, rotation=90)\n",
    "plt.yticks(range(len(corr_table)), corr_table.columns)\n",
    "plt.show()"
   ]
  },
  {
   "cell_type": "code",
   "execution_count": 381,
   "id": "71bba6f2",
   "metadata": {},
   "outputs": [],
   "source": [
    "tabla = corr_table.iloc[:,6] ## Correlaciones entre las variables y Co2_emissions\n",
    "\n",
    "tabla = tabla.to_frame()\n",
    "tabla_ex = tabla.to_html()"
   ]
  },
  {
   "attachments": {},
   "cell_type": "markdown",
   "id": "fc8f2113",
   "metadata": {},
   "source": [
    "<table border=\"1\" class=\"dataframe\">\n",
    "  <thead>\n",
    "    <tr style=\"text-align: right;\">\n",
    "      <th></th>\n",
    "      <th>co2_emissions</th>\n",
    "    </tr>\n",
    "  </thead>\n",
    "  <tbody>\n",
    "    <tr>\n",
    "      <th>country-code</th>\n",
    "      <td>-0.036762</td>\n",
    "    </tr>\n",
    "    <tr>\n",
    "      <th>region-code</th>\n",
    "      <td>0.229626</td>\n",
    "    </tr>\n",
    "    <tr>\n",
    "      <th>sub-region-code</th>\n",
    "      <td>-0.088213</td>\n",
    "    </tr>\n",
    "    <tr>\n",
    "      <th>intermediate-region-code</th>\n",
    "      <td>0.296559</td>\n",
    "    </tr>\n",
    "    <tr>\n",
    "      <th>Economic Complexity Index (ECI) (Observatory of Economic Complexity (2016))</th>\n",
    "      <td>0.109453</td>\n",
    "    </tr>\n",
    "    <tr>\n",
    "      <th>GDP per capita</th>\n",
    "      <td>0.243330</td>\n",
    "    </tr>\n",
    "    <tr>\n",
    "      <th>co2_emissions</th>\n",
    "      <td>1.000000</td>\n",
    "    </tr>\n",
    "    <tr>\n",
    "      <th>exports_of_goods_and_services</th>\n",
    "      <td>0.835369</td>\n",
    "    </tr>\n",
    "    <tr>\n",
    "      <th>imports_of_goods_and_services</th>\n",
    "      <td>0.788077</td>\n",
    "    </tr>\n",
    "    <tr>\n",
    "      <th>merchandise_trade</th>\n",
    "      <td>0.800698</td>\n",
    "    </tr>\n",
    "    <tr>\n",
    "      <th>mobile_cellular_subscriptions</th>\n",
    "      <td>0.750943</td>\n",
    "    </tr>\n",
    "    <tr>\n",
    "      <th>population_total</th>\n",
    "      <td>-0.166577</td>\n",
    "    </tr>\n",
    "    <tr>\n",
    "      <th>teenage_fertility_rate</th>\n",
    "      <td>0.189373</td>\n",
    "    </tr>\n",
    "    <tr>\n",
    "      <th>Year</th>\n",
    "      <td>NaN</td>\n",
    "    </tr>\n",
    "    <tr>\n",
    "      <th>2016_x</th>\n",
    "      <td>-0.201170</td>\n",
    "    </tr>\n",
    "    <tr>\n",
    "      <th>2016_y</th>\n",
    "      <td>0.064956</td>\n",
    "    </tr>\n",
    "  </tbody>\n",
    "</table>\n"
   ]
  },
  {
   "cell_type": "markdown",
   "id": "685663d4",
   "metadata": {},
   "source": [
    "9a. Represente las distribuciones individuales de cada una de las variables escogidas por usted y también de la variable dependiente. ¿Qué comportamiento encuentra?\n",
    "\n",
    "9b. Escoja dos variables de su lista y represente sus distribuciones bivariadas. ¿Qué comportamiento encuentra?\n",
    "\n",
    "9c. Realice las estadísticas descriptivas de la variable dependiente y las regresoras. ¿Qué comportamiento encuentra?\n",
    "\n",
    "9d. Realice un gráfico de correlación de Pearson entre la variable dependiente y las regresoras. ¿Qué comportamiento encuentra?\n",
    "\n",
    "9e. Realice un gráfico pairplot entre la variable dependiente y las regresoras. ¿Qué comportamiento encuentra?"
   ]
  },
  {
   "cell_type": "code",
   "execution_count": 382,
   "id": "17f6ecac",
   "metadata": {},
   "outputs": [],
   "source": [
    "datos = final_database.loc[:,['co2_emissions', 'exports_of_goods_and_services', 'imports_of_goods_and_services', 'merchandise_trade', 'mobile_cellular_subscriptions', 'teenage_fertility_rate']]"
   ]
  },
  {
   "cell_type": "code",
   "execution_count": 383,
   "id": "6346ccd1",
   "metadata": {},
   "outputs": [
    {
     "data": {
      "image/png": "[encoded data removed]",
      "text/plain": [
       "<Figure size 864x432 with 1 Axes>"
      ]
     },
     "metadata": {
      "needs_background": "light"
     },
     "output_type": "display_data"
    },
    {
     "data": {
      "image/png": "[encoded data removed]",
      "text/plain": [
       "<Figure size 864x432 with 1 Axes>"
      ]
     },
     "metadata": {
      "needs_background": "light"
     },
     "output_type": "display_data"
    },
    {
     "data": {
      "image/png": "[encoded data removed]",
      "text/plain": [
       "<Figure size 864x432 with 1 Axes>"
      ]
     },
     "metadata": {
      "needs_background": "light"
     },
     "output_type": "display_data"
    },
    {
     "data": {
      "image/png": "[encoded data removed]",
      "text/plain": [
       "<Figure size 864x432 with 1 Axes>"
      ]
     },
     "metadata": {
      "needs_background": "light"
     },
     "output_type": "display_data"
    },
    {
     "data": {
      "image/png": "[encoded data removed]",
      "text/plain": [
       "<Figure size 864x432 with 1 Axes>"
      ]
     },
     "metadata": {
      "needs_background": "light"
     },
     "output_type": "display_data"
    },
    {
     "data": {
      "image/png": "[encoded data removed]",
      "text/plain": [
       "<Figure size 864x432 with 1 Axes>"
      ]
     },
     "metadata": {
      "needs_background": "light"
     },
     "output_type": "display_data"
    }
   ],
   "source": [
    "fig, ax = plt.subplots(figsize=(12, 6))\n",
    "img1 = seaborn.kdeplot(x=final_database['co2_emissions'], color=\"crimson\", fill = True, ax=ax)\n",
    "\n",
    "plt.show()\n",
    "\n",
    "fig, ax = plt.subplots(figsize=(12, 6))\n",
    "img1 = seaborn.kdeplot(x=final_database['exports_of_goods_and_services'], color=\"crimson\", fill = True, ax=ax)\n",
    "\n",
    "plt.show()\n",
    "\n",
    "fig, ax = plt.subplots(figsize=(12, 6))\n",
    "img1 = seaborn.kdeplot(x=final_database['imports_of_goods_and_services'], color=\"crimson\", fill = True, ax=ax)\n",
    "\n",
    "plt.show()\n",
    "\n",
    "fig, ax = plt.subplots(figsize=(12, 6))\n",
    "img1 = seaborn.kdeplot(x=final_database['merchandise_trade'], color=\"crimson\", fill = True, ax=ax)\n",
    "\n",
    "plt.show()\n",
    "\n",
    "fig, ax = plt.subplots(figsize=(12, 6))\n",
    "img1 = seaborn.kdeplot(x=final_database['mobile_cellular_subscriptions'], color=\"crimson\", fill = True, ax=ax)\n",
    "\n",
    "plt.show()\n",
    "\n",
    "fig, ax = plt.subplots(figsize=(12, 6))\n",
    "img1 = seaborn.kdeplot(x=final_database['teenage_fertility_rate'], color=\"crimson\", fill = True, ax=ax)\n",
    "\n",
    "plt.show()\n"
   ]
  },
  {
   "attachments": {},
   "cell_type": "markdown",
   "id": "429af7dc",
   "metadata": {},
   "source": [
    "### Las series a pesar de estar centradas en un punto presentan colas a valores más altos que en el caso de CO2 emissions se observa que hay outliers visibles. "
   ]
  },
  {
   "cell_type": "code",
   "execution_count": 384,
   "id": "96e2cd02",
   "metadata": {},
   "outputs": [
    {
     "data": {
      "image/png": "[encoded data removed]",
      "text/plain": [
       "<Figure size 432x432 with 3 Axes>"
      ]
     },
     "metadata": {
      "needs_background": "light"
     },
     "output_type": "display_data"
    }
   ],
   "source": [
    "\n",
    "img = seaborn.jointplot(x='exports_of_goods_and_services', y='imports_of_goods_and_services', data=final_database, kind='kde', color='blue')\n",
    "\n",
    "plt.show()"
   ]
  },
  {
   "attachments": {},
   "cell_type": "markdown",
   "id": "a95e3951",
   "metadata": {},
   "source": [
    "### Se puede observar que entre las dos variables existe una fuerte relación entre ambas variables lo cual el aumento de las exportaciones podra verse tambien como un aumento de las importaciones "
   ]
  },
  {
   "cell_type": "code",
   "execution_count": 385,
   "id": "8e7477c4",
   "metadata": {},
   "outputs": [
    {
     "data": {
      "text/html": [
       "<div>\n",
       "<style scoped>\n",
       "    .dataframe tbody tr th:only-of-type {\n",
       "        vertical-align: middle;\n",
       "    }\n",
       "\n",
       "    .dataframe tbody tr th {\n",
       "        vertical-align: top;\n",
       "    }\n",
       "\n",
       "    .dataframe thead th {\n",
       "        text-align: right;\n",
       "    }\n",
       "</style>\n",
       "<table border=\"1\" class=\"dataframe\">\n",
       "  <thead>\n",
       "    <tr style=\"text-align: right;\">\n",
       "      <th></th>\n",
       "      <th>co2_emissions</th>\n",
       "      <th>exports_of_goods_and_services</th>\n",
       "      <th>imports_of_goods_and_services</th>\n",
       "      <th>merchandise_trade</th>\n",
       "      <th>mobile_cellular_subscriptions</th>\n",
       "      <th>teenage_fertility_rate</th>\n",
       "    </tr>\n",
       "  </thead>\n",
       "  <tbody>\n",
       "    <tr>\n",
       "      <th>count</th>\n",
       "      <td>82.000000</td>\n",
       "      <td>8.200000e+01</td>\n",
       "      <td>8.200000e+01</td>\n",
       "      <td>8.200000e+01</td>\n",
       "      <td>8.200000e+01</td>\n",
       "      <td>8.200000e+01</td>\n",
       "    </tr>\n",
       "    <tr>\n",
       "      <th>mean</th>\n",
       "      <td>0.680192</td>\n",
       "      <td>6.926943e-06</td>\n",
       "      <td>7.469470e-06</td>\n",
       "      <td>1.105964e-05</td>\n",
       "      <td>1.750867e-05</td>\n",
       "      <td>4.445337e-06</td>\n",
       "    </tr>\n",
       "    <tr>\n",
       "      <th>std</th>\n",
       "      <td>1.182352</td>\n",
       "      <td>9.786046e-06</td>\n",
       "      <td>1.015969e-05</td>\n",
       "      <td>1.534281e-05</td>\n",
       "      <td>2.190456e-05</td>\n",
       "      <td>6.036927e-06</td>\n",
       "    </tr>\n",
       "    <tr>\n",
       "      <th>min</th>\n",
       "      <td>0.001251</td>\n",
       "      <td>1.411192e-08</td>\n",
       "      <td>1.247309e-08</td>\n",
       "      <td>2.060178e-08</td>\n",
       "      <td>6.428658e-08</td>\n",
       "      <td>5.464371e-09</td>\n",
       "    </tr>\n",
       "    <tr>\n",
       "      <th>25%</th>\n",
       "      <td>0.062216</td>\n",
       "      <td>6.018310e-07</td>\n",
       "      <td>6.665209e-07</td>\n",
       "      <td>1.083444e-06</td>\n",
       "      <td>2.548604e-06</td>\n",
       "      <td>4.914782e-07</td>\n",
       "    </tr>\n",
       "    <tr>\n",
       "      <th>50%</th>\n",
       "      <td>0.267171</td>\n",
       "      <td>3.566048e-06</td>\n",
       "      <td>3.888424e-06</td>\n",
       "      <td>5.632095e-06</td>\n",
       "      <td>1.007617e-05</td>\n",
       "      <td>1.703503e-06</td>\n",
       "    </tr>\n",
       "    <tr>\n",
       "      <th>75%</th>\n",
       "      <td>0.894623</td>\n",
       "      <td>9.158623e-06</td>\n",
       "      <td>9.024072e-06</td>\n",
       "      <td>1.455074e-05</td>\n",
       "      <td>2.380346e-05</td>\n",
       "      <td>6.287010e-06</td>\n",
       "    </tr>\n",
       "    <tr>\n",
       "      <th>max</th>\n",
       "      <td>9.235816</td>\n",
       "      <td>5.852571e-05</td>\n",
       "      <td>5.578486e-05</td>\n",
       "      <td>8.880880e-05</td>\n",
       "      <td>1.137780e-04</td>\n",
       "      <td>2.828531e-05</td>\n",
       "    </tr>\n",
       "  </tbody>\n",
       "</table>\n",
       "</div>"
      ],
      "text/plain": [
       "       co2_emissions  exports_of_goods_and_services  \\\n",
       "count      82.000000                   8.200000e+01   \n",
       "mean        0.680192                   6.926943e-06   \n",
       "std         1.182352                   9.786046e-06   \n",
       "min         0.001251                   1.411192e-08   \n",
       "25%         0.062216                   6.018310e-07   \n",
       "50%         0.267171                   3.566048e-06   \n",
       "75%         0.894623                   9.158623e-06   \n",
       "max         9.235816                   5.852571e-05   \n",
       "\n",
       "       imports_of_goods_and_services  merchandise_trade  \\\n",
       "count                   8.200000e+01       8.200000e+01   \n",
       "mean                    7.469470e-06       1.105964e-05   \n",
       "std                     1.015969e-05       1.534281e-05   \n",
       "min                     1.247309e-08       2.060178e-08   \n",
       "25%                     6.665209e-07       1.083444e-06   \n",
       "50%                     3.888424e-06       5.632095e-06   \n",
       "75%                     9.024072e-06       1.455074e-05   \n",
       "max                     5.578486e-05       8.880880e-05   \n",
       "\n",
       "       mobile_cellular_subscriptions  teenage_fertility_rate  \n",
       "count                   8.200000e+01            8.200000e+01  \n",
       "mean                    1.750867e-05            4.445337e-06  \n",
       "std                     2.190456e-05            6.036927e-06  \n",
       "min                     6.428658e-08            5.464371e-09  \n",
       "25%                     2.548604e-06            4.914782e-07  \n",
       "50%                     1.007617e-05            1.703503e-06  \n",
       "75%                     2.380346e-05            6.287010e-06  \n",
       "max                     1.137780e-04            2.828531e-05  "
      ]
     },
     "execution_count": 385,
     "metadata": {},
     "output_type": "execute_result"
    }
   ],
   "source": [
    "datos.describe()"
   ]
  },
  {
   "attachments": {},
   "cell_type": "markdown",
   "id": "552f4a9b",
   "metadata": {},
   "source": [
    "#### Una de las principales observaciones que se pueden realizar a partir de estas estadisticas descriptivas es la alta variabilidad de las variables"
   ]
  },
  {
   "cell_type": "code",
   "execution_count": 386,
   "id": "bf1bc8d9",
   "metadata": {},
   "outputs": [
    {
     "data": {
      "image/png": "[encoded data removed]",
      "text/plain": [
       "<Figure size 720x720 with 2 Axes>"
      ]
     },
     "metadata": {
      "needs_background": "light"
     },
     "output_type": "display_data"
    }
   ],
   "source": [
    "corr_table = datos.corr()\n",
    "\n",
    "# plot a heatmap of the correlation matrix\n",
    "plt.figure(figsize=(10, 10))\n",
    "plt.title(\"Correlation Heatmap\")\n",
    "plt.imshow(corr_table, cmap=\"coolwarm\", interpolation=\"nearest\")\n",
    "plt.colorbar()\n",
    "plt.xticks(range(len(corr_table)), corr_table.columns, rotation=90)\n",
    "plt.yticks(range(len(corr_table)), corr_table.columns)\n",
    "plt.show()"
   ]
  },
  {
   "attachments": {},
   "cell_type": "markdown",
   "id": "0037f697",
   "metadata": {},
   "source": [
    "#### Lo que se puede ver en este gráfico es que la relación más importantes de las variables con las emisiones de CO2 son con las variables pertenecientes a las estadisticas de comercio, lo cual nos puede inferir que el comercio es un factor importante a la hora de calcular las emisiones de CO2."
   ]
  },
  {
   "cell_type": "code",
   "execution_count": 387,
   "id": "f5a9e10b",
   "metadata": {},
   "outputs": [
    {
     "data": {
      "text/plain": [
       "<seaborn.axisgrid.PairGrid at 0x178a3d4dd50>"
      ]
     },
     "execution_count": 387,
     "metadata": {},
     "output_type": "execute_result"
    },
    {
     "data": {
      "image/png": "[encoded data removed]",
      "text/plain": [
       "<Figure size 1080x1080 with 42 Axes>"
      ]
     },
     "metadata": {
      "needs_background": "light"
     },
     "output_type": "display_data"
    }
   ],
   "source": [
    "sns.pairplot(datos)"
   ]
  },
  {
   "attachments": {},
   "cell_type": "markdown",
   "id": "978d1afe",
   "metadata": {},
   "source": [
    "#### Una de las relaciones más claras que se puede observar en este gráfico es la de las variables de comercio como import export y merchandise trade, las cuales presentan relaciones positivas muy difinidas. "
   ]
  },
  {
   "cell_type": "markdown",
   "id": "18208e10",
   "metadata": {},
   "source": [
    "10. Prediga los resultados de la variable y almacénela una lista llamada `results`. Guarde el código de los países en la lista `countries`. Genere un nuevo data frame usando los códigos en la primera fila y la predicción en la segunda. Guarde el dataframe como csv bajo el nombre `Parcial_NombreApellido.csv` y súbalo a Kaggle*. <p>\n",
    "    \n",
    "El output debe lucir así y contener la información para los 82 países de la muestra. Recuerde que los resultados se predicen utilizando el método `predict`.\n",
    "    \n",
    "| | Countries | Results |\n",
    "|---|---|---|\n",
    "| 0 | ALB | 0.56 |\n",
    "| 1 | ARE | 3.50 |\n",
    "| 2 | ARG | 0.80 |\n",
    "| 3 | AUS | 1.75 |\n",
    "| 4 | BEL | 2.63 |\n",
    "    \n",
    "*: Cuando sea autorizado después de mitad de la semana. <p>\n",
    "\n",
    "<b>Nota:</b> Suba a e-aulas una carpeta comprimida con su jupyter notebook, la versión en pdf y las bases de datos a la sección `Cargue intermedio`. Una vez sea autorizado para hacer el cargue a Kaggle y una vez tenga su versión final, suba nuevamente los mismos archivos a `Cargue final`. <b>Suba también  sus resultados llamados `Parcial_NombreApellido.csv`</b>"
   ]
  },
  {
   "cell_type": "code",
   "execution_count": 388,
   "id": "8b3a6026",
   "metadata": {},
   "outputs": [
    {
     "name": "stdout",
     "output_type": "stream",
     "text": [
      "Este es el MSPE: 0.31922112790319823\n"
     ]
    }
   ],
   "source": [
    "\n",
    "final_database['RESULTS'] = reg2.predict(final_database)\n",
    "results = final_database['RESULTS']\n",
    "\n",
    "diferencias = []\n",
    "\n",
    "for i in range(len(final_database)):\n",
    "    valor_dif = final_database['RESULTS'][i] - final_database['co2_emissions'][i]\n",
    "    diferencias.append(valor_dif)\n",
    "\n",
    "sumatoria = 0\n",
    "for i in range(len(diferencias)):\n",
    "    sumatoria = sumatoria + diferencias[i]**2\n",
    "\n",
    "\n",
    "sumatoria = sumatoria / len(diferencias)\n",
    "\n",
    "print('Este es el MSPE:', sumatoria)"
   ]
  },
  {
   "cell_type": "code",
   "execution_count": 389,
   "id": "d0b1387a",
   "metadata": {},
   "outputs": [
    {
     "name": "stdout",
     "output_type": "stream",
     "text": [
      "--------------------------------------------------------------------------------\n",
      "Parcial terminado\n"
     ]
    }
   ],
   "source": [
    "Entregable = final_database.loc[:,['Country Name', 'RESULTS']]\n",
    "\n",
    "Entregable = Entregable.rename(columns={'Country Name' : 'Countries', 'RESULTS':'Results'})\n",
    "\n",
    "Entregable.to_csv('Parcial_JorgeDeLeon.csv', index = False)\n",
    "\n",
    "print(\"--------------------------------------------------------------------------------\")\n",
    "print(\"Parcial terminado\")"
   ]
  }
 ],
 "metadata": {
  "kernelspec": {
   "display_name": "Python 3",
   "language": "python",
   "name": "python3"
  },
  "language_info": {
   "codemirror_mode": {
    "name": "ipython",
    "version": 3
   },
   "file_extension": ".py",
   "mimetype": "text/x-python",
   "name": "python",
   "nbconvert_exporter": "python",
   "pygments_lexer": "ipython3",
   "version": "3.10.4"
  },
  "vscode": {
   "interpreter": {
    "hash": "be3b2a8aac26c42044c9d23f04a79af7af72d0de392e42af99ddd24cb8435e3b"
   }
  }
 },
 "nbformat": 4,
 "nbformat_minor": 5
}
