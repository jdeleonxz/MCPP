{
 "cells": [
  {
   "cell_type": "code",
   "execution_count": 1,
   "id": "64fdfba5",
   "metadata": {},
   "outputs": [],
   "source": [
    "import pandas as pd \n",
    "import dtale"
   ]
  },
  {
   "cell_type": "code",
   "execution_count": 34,
   "id": "8f4e24f1",
   "metadata": {},
   "outputs": [],
   "source": [
    "datos = pd.read_csv('final_database.csv')"
   ]
  },
  {
   "cell_type": "code",
   "execution_count": 3,
   "id": "51e903ee",
   "metadata": {},
   "outputs": [
    {
     "name": "stderr",
     "output_type": "stream",
     "text": [
      "C:\\Users\\Jorge De León\\AppData\\Roaming\\Python\\Python39\\site-packages\\dtale\\views.py:755: FutureWarning:\n",
      "\n",
      "['alpha-2', 'intermediate-region'] did not aggregate successfully. If any error is raised this will raise in a future version of pandas. Drop these columns/ops to avoid this warning.\n",
      "\n"
     ]
    },
    {
     "data": {
      "text/html": [
       "\n",
       "        <iframe\n",
       "            width=\"100%\"\n",
       "            height=\"475\"\n",
       "            src=\"http://DESKTOP-Q8AG8DJ:40000/dtale/iframe/1\"\n",
       "            frameborder=\"0\"\n",
       "            allowfullscreen\n",
       "            \n",
       "        ></iframe>\n",
       "        "
      ],
      "text/plain": [
       "<IPython.lib.display.IFrame at 0x1d6de463ee0>"
      ]
     },
     "metadata": {},
     "output_type": "display_data"
    },
    {
     "data": {
      "text/plain": []
     },
     "execution_count": 3,
     "metadata": {},
     "output_type": "execute_result"
    }
   ],
   "source": [
    "dtale.show(datos)"
   ]
  },
  {
   "cell_type": "code",
   "execution_count": 39,
   "id": "e89a3187",
   "metadata": {},
   "outputs": [],
   "source": [
    "def eliminar_outliers(df, columna):\n",
    "    Q1 = df[columna].quantile(0.25)\n",
    "    Q3 = df[columna].quantile(0.75)\n",
    "    IQR = Q3 - Q1\n",
    "    limite_inferior = Q1 - 1.5 * IQR\n",
    "    limite_superior = Q3 + 1.5 * IQR\n",
    "    for i in range(len(df)):\n",
    "        if df.loc[i, columna] > limite_superior:\n",
    "            df.loc[i, columna] = df[columna].median()\n",
    "    return df"
   ]
  },
  {
   "cell_type": "code",
   "execution_count": 36,
   "id": "4c4bce3f",
   "metadata": {},
   "outputs": [],
   "source": [
    "columnas = datos.columns\n"
   ]
  },
  {
   "cell_type": "code",
   "execution_count": 37,
   "id": "aed696d2",
   "metadata": {},
   "outputs": [],
   "source": [
    "columnas = columnas.drop(columnas[19])"
   ]
  },
  {
   "cell_type": "code",
   "execution_count": 40,
   "id": "1442c7eb",
   "metadata": {},
   "outputs": [
    {
     "name": "stdout",
     "output_type": "stream",
     "text": [
      "La columna 'B' es numérica\n",
      "La columna 'B' no es numérica\n",
      "La columna 'B' no es numérica\n",
      "La columna 'B' no es numérica\n",
      "La columna 'B' es numérica\n",
      "La columna 'B' no es numérica\n",
      "La columna 'B' no es numérica\n",
      "La columna 'B' no es numérica\n",
      "La columna 'B' no es numérica\n",
      "La columna 'B' es numérica\n",
      "La columna 'B' es numérica\n",
      "La columna 'B' es numérica\n",
      "La columna 'B' no es numérica\n",
      "La columna 'B' es numérica\n",
      "La columna 'B' es numérica\n",
      "La columna 'B' es numérica\n",
      "La columna 'B' es numérica\n",
      "La columna 'B' no es numérica\n",
      "La columna 'B' no es numérica\n",
      "La columna 'B' no es numérica\n",
      "La columna 'B' no es numérica\n",
      "La columna 'B' no es numérica\n",
      "La columna 'B' no es numérica\n",
      "La columna 'B' es numérica\n",
      "La columna 'B' no es numérica\n",
      "La columna 'B' es numérica\n",
      "La columna 'B' es numérica\n",
      "La columna 'B' es numérica\n",
      "La columna 'B' es numérica\n",
      "La columna 'B' es numérica\n",
      "La columna 'B' es numérica\n",
      "La columna 'B' es numérica\n",
      "La columna 'B' es numérica\n",
      "La columna 'B' es numérica\n",
      "La columna 'B' es numérica\n",
      "La columna 'B' no es numérica\n",
      "La columna 'B' es numérica\n",
      "La columna 'B' es numérica\n",
      "La columna 'B' no es numérica\n",
      "La columna 'B' es numérica\n",
      "La columna 'B' es numérica\n",
      "La columna 'B' es numérica\n",
      "La columna 'B' es numérica\n",
      "La columna 'B' no es numérica\n",
      "La columna 'B' es numérica\n",
      "La columna 'B' es numérica\n",
      "La columna 'B' es numérica\n",
      "La columna 'B' no es numérica\n",
      "La columna 'B' no es numérica\n",
      "La columna 'B' no es numérica\n",
      "La columna 'B' es numérica\n",
      "La columna 'B' es numérica\n",
      "La columna 'B' es numérica\n",
      "La columna 'B' no es numérica\n",
      "La columna 'B' no es numérica\n",
      "La columna 'B' no es numérica\n",
      "La columna 'B' no es numérica\n",
      "La columna 'B' no es numérica\n",
      "La columna 'B' no es numérica\n",
      "La columna 'B' no es numérica\n",
      "La columna 'B' no es numérica\n",
      "La columna 'B' no es numérica\n",
      "La columna 'B' no es numérica\n",
      "La columna 'B' es numérica\n",
      "La columna 'B' no es numérica\n",
      "La columna 'B' es numérica\n",
      "La columna 'B' es numérica\n",
      "La columna 'B' es numérica\n",
      "La columna 'B' no es numérica\n",
      "La columna 'B' es numérica\n",
      "La columna 'B' es numérica\n",
      "La columna 'B' no es numérica\n",
      "La columna 'B' no es numérica\n",
      "La columna 'B' no es numérica\n",
      "La columna 'B' es numérica\n",
      "La columna 'B' no es numérica\n",
      "La columna 'B' no es numérica\n",
      "La columna 'B' no es numérica\n",
      "La columna 'B' es numérica\n",
      "La columna 'B' es numérica\n"
     ]
    }
   ],
   "source": [
    "\n",
    "for columna in columnas:\n",
    "    try:\n",
    "        pd.to_numeric(datos[columna])\n",
    "        print(\"La columna 'B' es numérica\")\n",
    "        datos = eliminar_outliers(datos, columna)\n",
    "    except ValueError:\n",
    "        print(\"La columna 'B' no es numérica\")"
   ]
  },
  {
   "cell_type": "code",
   "execution_count": 41,
   "id": "e187d662",
   "metadata": {},
   "outputs": [
    {
     "name": "stderr",
     "output_type": "stream",
     "text": [
      "C:\\Users\\Jorge De León\\AppData\\Roaming\\Python\\Python39\\site-packages\\dtale\\views.py:755: FutureWarning:\n",
      "\n",
      "['alpha-2', 'intermediate-region'] did not aggregate successfully. If any error is raised this will raise in a future version of pandas. Drop these columns/ops to avoid this warning.\n",
      "\n"
     ]
    },
    {
     "data": {
      "text/html": [
       "\n",
       "        <iframe\n",
       "            width=\"100%\"\n",
       "            height=\"475\"\n",
       "            src=\"http://DESKTOP-Q8AG8DJ:40000/dtale/iframe/5\"\n",
       "            frameborder=\"0\"\n",
       "            allowfullscreen\n",
       "            \n",
       "        ></iframe>\n",
       "        "
      ],
      "text/plain": [
       "<IPython.lib.display.IFrame at 0x1d6e7d84d30>"
      ]
     },
     "metadata": {},
     "output_type": "display_data"
    },
    {
     "data": {
      "text/plain": []
     },
     "execution_count": 41,
     "metadata": {},
     "output_type": "execute_result"
    }
   ],
   "source": [
    "dtale.show(datos)"
   ]
  },
  {
   "cell_type": "code",
   "execution_count": null,
   "id": "abf5d965",
   "metadata": {},
   "outputs": [],
   "source": []
  }
 ],
 "metadata": {
  "kernelspec": {
   "display_name": "Python 3 (ipykernel)",
   "language": "python",
   "name": "python3"
  },
  "language_info": {
   "codemirror_mode": {
    "name": "ipython",
    "version": 3
   },
   "file_extension": ".py",
   "mimetype": "text/x-python",
   "name": "python",
   "nbconvert_exporter": "python",
   "pygments_lexer": "ipython3",
   "version": "3.9.12"
  }
 },
 "nbformat": 4,
 "nbformat_minor": 5
}
